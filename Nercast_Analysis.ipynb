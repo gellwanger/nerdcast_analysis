{
  "cells": [
    {
      "cell_type": "markdown",
      "metadata": {
        "id": "view-in-github",
        "colab_type": "text"
      },
      "source": [
        "<a href=\"https://colab.research.google.com/github/gellwanger/nerdcast_analysis/blob/main/Nercast_Analysis.ipynb\" target=\"_parent\"><img src=\"https://colab.research.google.com/assets/colab-badge.svg\" alt=\"Open In Colab\"/></a>"
      ]
    },
    {
      "cell_type": "markdown",
      "metadata": {
        "id": "zg1UHc5wHoO6"
      },
      "source": [
        "## Imports"
      ]
    },
    {
      "cell_type": "code",
      "execution_count": null,
      "metadata": {
        "id": "Q4LWWr9aHl_X"
      },
      "outputs": [],
      "source": [
        "import requests\n",
        "from bs4 import BeautifulSoup as bs\n",
        "import time\n",
        "import pandas as pd\n",
        "import re"
      ]
    },
    {
      "cell_type": "markdown",
      "metadata": {
        "id": "nG9TQJwzHtdH"
      },
      "source": [
        "## Import Selenium\n"
      ]
    },
    {
      "cell_type": "code",
      "execution_count": null,
      "metadata": {
        "id": "q-vW842UHtIp"
      },
      "outputs": [],
      "source": [
        "%%capture\n",
        "\n",
        "!pip install selenium\n",
        "!apt-get update\n",
        "!apt install chromium-chromedriver\n",
        "from selenium import webdriver\n",
        "from selenium.webdriver.common.by import By\n",
        "from selenium.webdriver.support.ui import Select\n",
        "\n",
        "options = webdriver.ChromeOptions()\n",
        "options.add_argument('--headless')\n",
        "options.add_argument('--no-sandbox')\n",
        "options.add_argument('--disable-dev-shm-usage')\n",
        "driver = webdriver.Chrome(options=options)"
      ]
    },
    {
      "cell_type": "markdown",
      "metadata": {
        "id": "6xisLWKjHyfq"
      },
      "source": [
        "## Get API"
      ]
    },
    {
      "cell_type": "code",
      "execution_count": null,
      "metadata": {
        "id": "90m9zU5EH1Xj"
      },
      "outputs": [],
      "source": [
        "url = 'https://jovemnerd.com.br/nerdcast/'\n",
        "\n",
        "get_api = requests.get(url)\n",
        "\n",
        "text = get_api.text"
      ]
    },
    {
      "cell_type": "markdown",
      "metadata": {
        "id": "kAXmmsJyH5ma"
      },
      "source": [
        "## Load Soup"
      ]
    },
    {
      "cell_type": "code",
      "execution_count": null,
      "metadata": {
        "id": "WTKC9DgdH6By"
      },
      "outputs": [],
      "source": [
        "soup = bs(text,  features='html.parser')"
      ]
    },
    {
      "cell_type": "markdown",
      "metadata": {
        "id": "Z5VyMBYgICmc"
      },
      "source": [
        "## Load Selenium"
      ]
    },
    {
      "cell_type": "code",
      "execution_count": null,
      "metadata": {
        "id": "u-7ejD5mIDmB"
      },
      "outputs": [],
      "source": [
        "driver = webdriver.Chrome(options=options)\n",
        "\n",
        "driver.get(url)\n",
        "\n",
        "driver.find_element(By.CLASS_NAME, 'text-button-cookie').click()"
      ]
    },
    {
      "cell_type": "markdown",
      "metadata": {
        "id": "Xg0UJ9JSILUc"
      },
      "source": [
        "## Load Page"
      ]
    },
    {
      "cell_type": "code",
      "execution_count": null,
      "metadata": {
        "id": "bX9GLiy2IL3R"
      },
      "outputs": [],
      "source": [
        "driver.find_element(By.ID, 'show-more-podcasts').click()\n",
        "\n",
        "time.sleep(5)\n",
        "\n",
        "new_html = driver.page_source\n",
        "\n",
        "soup = bs(new_html, 'html.parser')"
      ]
    },
    {
      "cell_type": "markdown",
      "metadata": {
        "id": "oLN3eO9ZIQOE"
      },
      "source": [
        "## Loop Podcasts"
      ]
    },
    {
      "cell_type": "code",
      "execution_count": null,
      "metadata": {
        "id": "-859bd_1IPtV",
        "colab": {
          "base_uri": "https://localhost:8080/"
        },
        "outputId": "2acd1992-32f1-40b7-bf01-09ca7405c3f4"
      },
      "outputs": [
        {
          "output_type": "stream",
          "name": "stdout",
          "text": [
            "Iteração 1 - Papo de Parceiro 26\n",
            "Iteração 2 - Papo de Parceiro 25\n",
            "Iteração 3 - NerdCast 891\n",
            "Iteração 4 - NerdCast 887\n",
            "Iteração 5 - Empreendedor 93\n",
            "Iteração 6 - NerdCast 879\n",
            "Iteração 7 - NerdTech 86\n",
            "Iteração 8 - Papo de Parceiro 20 \n",
            "Iteração 9 - NerdCast 870\n",
            "Iteração 10 - Lá do Bunker Oscar 02\n",
            "Iteração 11 - NerdCast 865\n",
            "Iteração 12 - Papo de Parceiro 17\n",
            "Iteração 13 - Lá do Bunker 73\n",
            "Iteração 14 - Vai te Catar 03\n",
            "Iteração 15 - NerdCast 852\n",
            "Iteração 16 - Lá do Bunker 62\n",
            "Iteração 17 - Caneca de Mamicas 67\n",
            "Iteração 18 - Caneca de Mamicas 62\n",
            "Iteração 19 - Lá do Bunker 46\n",
            "Iteração 20 - Lá do Bunker 41\n",
            "Iteração 21 - Lá do Bunker 36\n",
            "Iteração 22 - Empreendedor 85\n",
            "Iteração 23 - Extra Oferecido por Empréstimo SIM\n",
            "Iteração 24 - NerdCast 809\n",
            "Iteração 25 - Empreendedor 82\n",
            "Iteração 26 - Empreendedor 81\n",
            "Iteração 27 - NerdCast 796\n",
            "Iteração 28 - Lá do Bunker 04\n",
            "Iteração 29 - NerdCast 787\n",
            "Iteração 30 - NerdCast 780\n",
            "Iteração 31 - NerdCast 773\n",
            "Iteração 32 - NerdCash 32\n",
            "Iteração 33 - NerdTech 58\n",
            "Iteração 34 - NerdCast 744\n",
            "Iteração 35 - NerdCast 734\n",
            "Iteração 36 - NerdCash 23\n",
            "Iteração 37 - Empreendedor 62\n",
            "Iteração 38 - NerdCash 18\n",
            "Iteração 39 - NerdCast 693\n",
            "Iteração 40 - Speak English 17\n",
            "Iteração 41 - NerdCash 11\n",
            "Iteração 42 - NerdCast 661\n",
            "Iteração 43 - NerdCash 06\n",
            "Iteração 44 - NerdTech 32\n",
            "Iteração 45 - NerdCast 629\n",
            "Iteração 46 - NerdTech 27\n",
            "Iteração 47 - Speak English 01\n",
            "Iteração 48 - NerdCast 593\n",
            "Iteração 49 - NerdCast 579\n",
            "Iteração 50 - NerdCast 566\n",
            "Iteração 51 - NerdTech 12\n",
            "Iteração 52 - NerdCast 540\n",
            "Iteração 53 - Empreendedor 19\n",
            "Iteração 54 - NerdCast 513\n",
            "Iteração 55 - NerdCast 498\n",
            "Iteração 56 - NerdCast 484\n",
            "Iteração 57 - NerdCast 469\n",
            "Iteração 58 - NerdCast 454\n",
            "Iteração 59 - NerdCast 436\n",
            "Iteração 60 - NerdCast 417\n",
            "Iteração 61 - NerdCast 397\n",
            "Iteração 62 - NerdCast 378\n",
            "Iteração 63 - NerdCast 358\n",
            "Iteração 64 - NerdCast 342\n",
            "Iteração 65 - NerdCast 324\n",
            "Iteração 66 - NerdCast 306\n",
            "Iteração 67 - NerdCast 288\n",
            "Iteração 68 - NerdCast 268\n",
            "Iteração 69 - NerdCast 248\n",
            "Iteração 70 - NerdCast 232\n",
            "Iteração 71 - NerdCast 212\n",
            "Iteração 72 - NerdCast 194\n",
            "Iteração 73 - NerdCast 177\n",
            "Iteração 74 - NerdCast 158\n",
            "Iteração 75 - NerdCast 138\n",
            "Iteração 76 - NerdCast 118\n",
            "Iteração 77 - NerdCast 101\n",
            "Iteração 78 - NerdCast 81\n",
            "Iteração 79 - NerdCast 62\n",
            "Iteração 80 - NerdCast 43\n",
            "Iteração 81 - NerdCast 24\n",
            "Iteração 82 - NerdCast 04\n",
            "Coleta concluída, com o arquivo NerdCast 01!\n"
          ]
        }
      ],
      "source": [
        "list_podcasts = []\n",
        "list_podcasts_titles = []\n",
        "list_podcasts_duration = []\n",
        "\n",
        "i = 0\n",
        "\n",
        "while True:\n",
        "    button = driver.find_element(By.ID, 'show-more-podcasts')\n",
        "    button_text = button.text\n",
        "\n",
        "    get_podcast1 = soup.find_all('a', class_='cat-item product-nerdcast')\n",
        "    temporary_list = [get_podcast1]\n",
        "\n",
        "    if temporary_list[0][-1].text != 'NerdCast 01':\n",
        "      get_podcast_temporary = soup.find_all('a', class_='cat-item product-nerdcast')\n",
        "      temporary_list.append(get_podcast_temporary)\n",
        "\n",
        "      button.click()\n",
        "      time.sleep(5)\n",
        "      new_html = driver.page_source\n",
        "      soup = bs(new_html, 'html.parser')\n",
        "\n",
        "      i += 1\n",
        "      print(f'Iteração {i} - {temporary_list[0][-1].text}')\n",
        "\n",
        "    else:\n",
        "\n",
        "      time.sleep(5)\n",
        "      new_html = driver.page_source\n",
        "      soup = bs(new_html, 'html.parser')\n",
        "\n",
        "      get_podcast = soup.find_all('a', class_='cat-item product-nerdcast')\n",
        "      get_podcast_name = soup.find_all('h2', class_='title')\n",
        "      get_podcast_duration = soup.find_all('div', class_='info')\n",
        "\n",
        "      list_podcasts.extend(get_podcast)\n",
        "      list_podcasts_titles.extend(get_podcast_name)\n",
        "      list_podcasts_duration.extend(get_podcast_duration)\n",
        "\n",
        "      print(f'Coleta concluída, com o arquivo {list_podcasts[-1].text}!')\n",
        "      break"
      ]
    },
    {
      "cell_type": "markdown",
      "metadata": {
        "id": "0zF1R1oRJYdN"
      },
      "source": [
        "### Get Themes and Subjects"
      ]
    },
    {
      "cell_type": "code",
      "execution_count": null,
      "metadata": {
        "id": "TZIOOZf_McHt",
        "colab": {
          "base_uri": "https://localhost:8080/"
        },
        "outputId": "2c66638b-8f09-48eb-a042-e0c8219a49e0"
      },
      "outputs": [
        {
          "metadata": {
            "tags": null
          },
          "name": "stdout",
          "output_type": "stream",
          "text": [
            "['Animação', 'Artes Marciais', 'Audio Drama', 'Biografia', 'Ciências', 'Cinema', 'Comportamento', 'Cotidiano', 'Dia dos Namorados', 'Educação', 'Empreendedorismo', 'Entrevistas', 'Esportes', 'Game of Thrones', 'Games', 'Gastronomia', 'História', 'História Alternativa', 'Internet', 'Lendas e Mistérios', 'Literatura', 'Lost', 'MAIS POPULARES', 'Melhores Momentos', 'Música', 'Nostalgia', 'Notícias', 'Política', 'Profissões', 'Publicidade', 'Quadrinhos', 'Retrospectiva', 'RPG', 'Séries', 'Star Wars', 'Tecnologia', 'Teoria da Conspiração', 'Terror', 'Trabalho', 'TV', 'Viagens']\n"
          ]
        }
      ],
      "source": [
        "list_themes = []\n",
        "get_themes = soup.find('select', class_='nerdcast-filter')\n",
        "\n",
        "for item in get_themes:\n",
        "  theme = item.get_text().strip()\n",
        "\n",
        "  if theme != '':\n",
        "    list_themes.append(theme)\n",
        "\n",
        "list_themes.pop(0)\n",
        "print(list_themes)"
      ]
    },
    {
      "cell_type": "code",
      "execution_count": null,
      "metadata": {
        "id": "bDVeSndhMe3A",
        "colab": {
          "base_uri": "https://localhost:8080/"
        },
        "outputId": "6af74f84-79f8-43f0-e63c-f4c9ce48f788"
      },
      "outputs": [
        {
          "output_type": "stream",
          "name": "stdout",
          "text": [
            "[[], [], [], [], [], [], [], [], [], [], [], [], [], [], [], [], [], [], [], [], [], [], [], [], [], [], [], [], [], [], [], [], [], [], [], [], [], [], [], [], []]\n"
          ]
        }
      ],
      "source": [
        "subjects = []\n",
        "for item in list_themes:\n",
        "  subjects.append([])\n",
        "\n",
        "print(subjects)"
      ]
    },
    {
      "cell_type": "code",
      "execution_count": null,
      "metadata": {
        "id": "N4ydLeDuMgQV",
        "colab": {
          "base_uri": "https://localhost:8080/"
        },
        "outputId": "452aa5c7-dd38-40d9-ba53-c57b4d06a46d"
      },
      "outputs": [
        {
          "output_type": "stream",
          "name": "stdout",
          "text": [
            "{'Animação': [], 'Artes Marciais': [], 'Audio Drama': [], 'Biografia': [], 'Ciências': [], 'Cinema': [], 'Comportamento': [], 'Cotidiano': [], 'Dia dos Namorados': [], 'Educação': [], 'Empreendedorismo': [], 'Entrevistas': [], 'Esportes': [], 'Game of Thrones': [], 'Games': [], 'Gastronomia': [], 'História': [], 'História Alternativa': [], 'Internet': [], 'Lendas e Mistérios': [], 'Literatura': [], 'Lost': [], 'MAIS POPULARES': [], 'Melhores Momentos': [], 'Música': [], 'Nostalgia': [], 'Notícias': [], 'Política': [], 'Profissões': [], 'Publicidade': [], 'Quadrinhos': [], 'Retrospectiva': [], 'RPG': [], 'Séries': [], 'Star Wars': [], 'Tecnologia': [], 'Teoria da Conspiração': [], 'Terror': [], 'Trabalho': [], 'TV': [], 'Viagens': []}\n"
          ]
        }
      ],
      "source": [
        "list_podcasts_subject = dict(zip(list_themes, subjects))\n",
        "\n",
        "print(list_podcasts_subject)"
      ]
    },
    {
      "cell_type": "markdown",
      "metadata": {
        "id": "rKZJ3WsIMkGr"
      },
      "source": [
        "### Loop Themes and Subjects"
      ]
    },
    {
      "cell_type": "code",
      "execution_count": null,
      "metadata": {
        "id": "NQybfGzgMk01",
        "colab": {
          "base_uri": "https://localhost:8080/"
        },
        "outputId": "b0db5926-7919-4357-cdda-2d18bce09734"
      },
      "outputs": [
        {
          "output_type": "stream",
          "name": "stdout",
          "text": [
            "Animação: [<a class=\"cat-item product-nerdcast\" href=\"https://jovemnerd.com.br/nerdcast/caneca-de-mamicas/recordar-e-viver/\">Caneca de Mamicas 133</a>, <a class=\"cat-item product-nerdcast\" href=\"https://jovemnerd.com.br/nerdcast/loki-2-o-glorioso-proposito-do-deus-da-trapaca/\">NerdCast 908</a>, <a class=\"cat-item product-nerdcast\" href=\"https://jovemnerd.com.br/nerdcast/la-do-bunker/nepotismo-e-brotheragem/\">Lá do Bunker 122</a>, <a class=\"cat-item product-nerdcast\" href=\"https://jovemnerd.com.br/nerdcast/caneca-de-mamicas/vizinhas-do-mickey/\">Caneca de Mamicas 132</a>, <a class=\"cat-item product-nerdcast\" href=\"https://jovemnerd.com.br/playlist/especial-rpg-cronicas-de-ghanor/\">2011 - 2012 - 2022 - 2023</a>, <a class=\"cat-item product-nerdcast\" href=\"https://jovemnerd.com.br/playlist/rpg-call-of-cthulhu/\">2017 - 2020</a>, <a class=\"cat-item product-nerdcast\" href=\"https://jovemnerd.com.br/playlist/rpg-cyberpunk/\">2013 - 2016</a>, <a class=\"cat-item product-nerdcast\" href=\"https://jovemnerd.com.br/nerdcast/caneca-de-mamicas/live-action-ou-nao-eis-a-questao/\">Caneca de Mamicas 123</a>, <a class=\"cat-item product-nerdcast\" href=\"https://jovemnerd.com.br/nerdcast/homem-aranha-atraves-do-aranhaverso-e-punk/\">NerdCast 885</a>, <a class=\"cat-item product-nerdcast\" href=\"https://jovemnerd.com.br/nerdcast/la-do-bunker/virgem-de-o-senhor-dos-aneis/\">Lá do Bunker 57</a>, <a class=\"cat-item product-nerdcast\" href=\"https://jovemnerd.com.br/nerdcast/la-do-bunker/autocritica-e-game-over/\">Lá do Bunker 53</a>, <a class=\"cat-item product-nerdcast\" href=\"https://jovemnerd.com.br/nerdcast/la-do-bunker/a-vida-real-e-terrivel/\">Lá do Bunker 50</a>, <a class=\"cat-item product-nerdcast\" href=\"https://jovemnerd.com.br/nerdcast/la-do-bunker/cachorro-nao-usa-chupeta/\">Lá do Bunker 49</a>, <a class=\"cat-item product-nerdcast\" href=\"https://jovemnerd.com.br/nerdcast/la-do-bunker/tudo-parte-do-plano/\">Lá do Bunker 47</a>, <a class=\"cat-item product-nerdcast\" href=\"https://jovemnerd.com.br/nerdcast/la-do-bunker/a-hora-do-mundo-aberto/\">Lá do Bunker 46</a>, <a class=\"cat-item product-nerdcast\" href=\"https://jovemnerd.com.br/nerdcast/bad-trips-mortes-e-poucos-robostos-3/\">NerdCast 832</a>, <a class=\"cat-item product-nerdcast\" href=\"https://jovemnerd.com.br/nerdcast/la-do-bunker/pausa-pro-gatinho/\">Lá do Bunker 38</a>, <a class=\"cat-item product-nerdcast\" href=\"https://jovemnerd.com.br/nerdcast/he-man-e-os-mestres-do-universo-ainda-tem-a-forca/\">NerdCast 815</a>, <a class=\"cat-item product-nerdcast\" href=\"https://jovemnerd.com.br/nerdcast/extra/arcane-ato-iii-por-que-lutamos/\">Extra Oferecido por Arcane: League of Legends</a>, <a class=\"cat-item product-nerdcast\" href=\"https://jovemnerd.com.br/nerdcast/extra/arcane-ato-ii-largados-e-shippados/\">Extra Oferecido por Arcane: League of Legends</a>, <a class=\"cat-item product-nerdcast\" href=\"https://jovemnerd.com.br/nerdcast/extra/arcane-ato-i-ciencia-e-magia/\">Extra Oferecido por Arcane: League of Legends</a>, <a class=\"cat-item product-nerdcast\" href=\"https://jovemnerd.com.br/nerdcast/rick-and-morty-nao-pense-nisso/\">NerdCast 590</a>, <a class=\"cat-item product-nerdcast\" href=\"https://jovemnerd.com.br/nerdcast/ghost-in-the-shell-a-vigilante-do-amanha-filme-nerdcast/\">NerdCast 563</a>, <a class=\"cat-item product-nerdcast\" href=\"https://jovemnerd.com.br/nerdcast/nerdcast-252-o-que-que-o-anime-tem-tem/\">NerdCast 252</a>, <a class=\"cat-item product-nerdcast\" href=\"https://jovemnerd.com.br/nerdcast/nerdcast-121-nostalgia-animada-parte-02/\">NerdCast 121</a>, <a class=\"cat-item product-nerdcast\" href=\"https://jovemnerd.com.br/nerdcast/nerdcast-81-nostalgia-animada-parte-01/\">NerdCast 81</a>, <a class=\"cat-item product-nerdcast\" href=\"https://jovemnerd.com.br/nerdcast/nerdcast-75-simpsons-esse-e-um-classico-um-dos-melhores/\">NerdCast 75</a>]\n",
            "Artes Marciais: [<a class=\"cat-item product-nerdcast\" href=\"https://jovemnerd.com.br/nerdcast/caneca-de-mamicas/recordar-e-viver/\">Caneca de Mamicas 133</a>, <a class=\"cat-item product-nerdcast\" href=\"https://jovemnerd.com.br/nerdcast/loki-2-o-glorioso-proposito-do-deus-da-trapaca/\">NerdCast 908</a>, <a class=\"cat-item product-nerdcast\" href=\"https://jovemnerd.com.br/nerdcast/la-do-bunker/nepotismo-e-brotheragem/\">Lá do Bunker 122</a>, <a class=\"cat-item product-nerdcast\" href=\"https://jovemnerd.com.br/nerdcast/caneca-de-mamicas/vizinhas-do-mickey/\">Caneca de Mamicas 132</a>, <a class=\"cat-item product-nerdcast\" href=\"https://jovemnerd.com.br/playlist/especial-rpg-cronicas-de-ghanor/\">2011 - 2012 - 2022 - 2023</a>, <a class=\"cat-item product-nerdcast\" href=\"https://jovemnerd.com.br/playlist/rpg-call-of-cthulhu/\">2017 - 2020</a>, <a class=\"cat-item product-nerdcast\" href=\"https://jovemnerd.com.br/playlist/rpg-cyberpunk/\">2013 - 2016</a>, <a class=\"cat-item product-nerdcast\" href=\"https://jovemnerd.com.br/nerdcast/la-do-bunker/virgem-de-o-senhor-dos-aneis/\">Lá do Bunker 57</a>, <a class=\"cat-item product-nerdcast\" href=\"https://jovemnerd.com.br/nerdcast/la-do-bunker/a-vida-real-e-terrivel/\">Lá do Bunker 50</a>, <a class=\"cat-item product-nerdcast\" href=\"https://jovemnerd.com.br/nerdcast/nerdcast-309-do-vale-tudo-ao-mma/\">NerdCast 309</a>, <a class=\"cat-item product-nerdcast\" href=\"https://jovemnerd.com.br/nerdcast/nerdcast-134-eu-sei-kung-fu-ou-nao/\">NerdCast 134</a>]\n",
            "Audio Drama: [<a class=\"cat-item product-nerdcast\" href=\"https://jovemnerd.com.br/nerdcast/caneca-de-mamicas/recordar-e-viver/\">Caneca de Mamicas 133</a>, <a class=\"cat-item product-nerdcast\" href=\"https://jovemnerd.com.br/nerdcast/loki-2-o-glorioso-proposito-do-deus-da-trapaca/\">NerdCast 908</a>, <a class=\"cat-item product-nerdcast\" href=\"https://jovemnerd.com.br/nerdcast/la-do-bunker/nepotismo-e-brotheragem/\">Lá do Bunker 122</a>, <a class=\"cat-item product-nerdcast\" href=\"https://jovemnerd.com.br/nerdcast/caneca-de-mamicas/vizinhas-do-mickey/\">Caneca de Mamicas 132</a>, <a class=\"cat-item product-nerdcast\" href=\"https://jovemnerd.com.br/playlist/especial-rpg-cronicas-de-ghanor/\">2011 - 2012 - 2022 - 2023</a>, <a class=\"cat-item product-nerdcast\" href=\"https://jovemnerd.com.br/playlist/rpg-call-of-cthulhu/\">2017 - 2020</a>, <a class=\"cat-item product-nerdcast\" href=\"https://jovemnerd.com.br/playlist/rpg-cyberpunk/\">2013 - 2016</a>, <a class=\"cat-item product-nerdcast\" href=\"https://jovemnerd.com.br/nerdcast/as-incriveis-vozes-de-franca-e-o-labirinto/\">NerdCast 898</a>, <a class=\"cat-item product-nerdcast\" href=\"https://jovemnerd.com.br/nerdcast/selton-mello-e-o-labirinto/\">NerdCast 897</a>, <a class=\"cat-item product-nerdcast\" href=\"https://jovemnerd.com.br/nerdcast/la-do-bunker/virgem-de-o-senhor-dos-aneis/\">Lá do Bunker 57</a>, <a class=\"cat-item product-nerdcast\" href=\"https://jovemnerd.com.br/nerdcast/extra/paciente-63-de-viajante-do-tempo-e-louco-todo-mundo-tem-um-pouco/\">Extra Oferecido por Spotify</a>, <a class=\"cat-item product-nerdcast\" href=\"https://jovemnerd.com.br/nerdcast/nerdcast-342-audio-drama-t-zombii-a-gravacao-dos-mortos/\">NerdCast 342</a>]\n",
            "Biografia: [<a class=\"cat-item product-nerdcast\" href=\"https://jovemnerd.com.br/nerdcast/caneca-de-mamicas/recordar-e-viver/\">Caneca de Mamicas 133</a>, <a class=\"cat-item product-nerdcast\" href=\"https://jovemnerd.com.br/nerdcast/loki-2-o-glorioso-proposito-do-deus-da-trapaca/\">NerdCast 908</a>, <a class=\"cat-item product-nerdcast\" href=\"https://jovemnerd.com.br/nerdcast/la-do-bunker/nepotismo-e-brotheragem/\">Lá do Bunker 122</a>, <a class=\"cat-item product-nerdcast\" href=\"https://jovemnerd.com.br/nerdcast/caneca-de-mamicas/vizinhas-do-mickey/\">Caneca de Mamicas 132</a>, <a class=\"cat-item product-nerdcast\" href=\"https://jovemnerd.com.br/playlist/especial-rpg-cronicas-de-ghanor/\">2011 - 2012 - 2022 - 2023</a>, <a class=\"cat-item product-nerdcast\" href=\"https://jovemnerd.com.br/playlist/rpg-call-of-cthulhu/\">2017 - 2020</a>, <a class=\"cat-item product-nerdcast\" href=\"https://jovemnerd.com.br/playlist/rpg-cyberpunk/\">2013 - 2016</a>, <a class=\"cat-item product-nerdcast\" href=\"https://jovemnerd.com.br/nerdcast/caneca-de-mamicas/jazzrider-e-a-sua-vida-rocknroll/\">Caneca de Mamicas 121</a>, <a class=\"cat-item product-nerdcast\" href=\"https://jovemnerd.com.br/nerdcast/papo-de-parceiro/quebrando-galhos-no-brasil-inteiro/\">Papo de Parceiro 13</a>, <a class=\"cat-item product-nerdcast\" href=\"https://jovemnerd.com.br/nerdcast/la-do-bunker/virgem-de-o-senhor-dos-aneis/\">Lá do Bunker 57</a>, <a class=\"cat-item product-nerdcast\" href=\"https://jovemnerd.com.br/nerdcast/caneca-de-mamicas/o-lado-zen-da-vida/\">Caneca de Mamicas 67</a>, <a class=\"cat-item product-nerdcast\" href=\"https://jovemnerd.com.br/nerdcast/caneca-de-mamicas/nosso-microfone-nao-sera-desplugado/\">Caneca de Mamicas 66</a>, <a class=\"cat-item product-nerdcast\" href=\"https://jovemnerd.com.br/nerdcast/empreendedor/fama-e-negocios/\">Empreendedor 89</a>, <a class=\"cat-item product-nerdcast\" href=\"https://jovemnerd.com.br/nerdcast/generacast/genes-cheiros-e-encontros/\">Generacast 10</a>, <a class=\"cat-item product-nerdcast\" href=\"https://jovemnerd.com.br/nerdcast/david-bowie-as-multiplas-faces-de-um-artista-unico/\">NerdCast 807</a>, <a class=\"cat-item product-nerdcast\" href=\"https://jovemnerd.com.br/nerdcast/empreendedor/a-historia-da-alura/\">Empreendedor 82</a>, <a class=\"cat-item product-nerdcast\" href=\"https://jovemnerd.com.br/nerdcast/martin-luther-king-e-a-luta-contra-o-racismo/\">NerdCast 728</a>, <a class=\"cat-item product-nerdcast\" href=\"https://jovemnerd.com.br/nerdcast/tim-maia-genio-intenso/\">NerdCast 726</a>, <a class=\"cat-item product-nerdcast\" href=\"https://jovemnerd.com.br/nerdcast/nerdtech/quem-e-elon-musk/\">NerdTech 46</a>, <a class=\"cat-item product-nerdcast\" href=\"https://jovemnerd.com.br/nerdcast/elton-reginaldo-john-genio-extravagante/\">NerdCast 676</a>, <a class=\"cat-item product-nerdcast\" href=\"https://jovemnerd.com.br/nerdcast/as-letras-e-lendas-de-tolkien/\">NerdCast 665</a>, <a class=\"cat-item product-nerdcast\" href=\"https://jovemnerd.com.br/nerdcast/stan-lee-excelsior/\">NerdCast 646</a>, <a class=\"cat-item product-nerdcast\" href=\"https://jovemnerd.com.br/nerdcast/nerdcast-344-o-mundo-de-walt-disney/\">NerdCast 344</a>, <a class=\"cat-item product-nerdcast\" href=\"https://jovemnerd.com.br/nerdcast/nerdcast-280-steve-jobs-stay-hungry-stay-foolish/\">NerdCast 280</a>, <a class=\"cat-item product-nerdcast\" href=\"https://jovemnerd.com.br/nerdcast/nerdcast-184b-michael-jackson-e-nao-autorizada/\">NerdCast 184b</a>, <a class=\"cat-item product-nerdcast\" href=\"https://jovemnerd.com.br/nerdcast/nerdcast-184a-michael-jackson-a-biografia-incompleta/\">NerdCast 184a</a>, <a class=\"cat-item product-nerdcast\" href=\"https://jovemnerd.com.br/nerdcast/nerdcast-175-silvio-santos-a-biografia-incompleta/\">NerdCast 175</a>]\n",
            "Ciências: [<a class=\"cat-item product-nerdcast\" href=\"https://jovemnerd.com.br/nerdcast/caneca-de-mamicas/recordar-e-viver/\">Caneca de Mamicas 133</a>, <a class=\"cat-item product-nerdcast\" href=\"https://jovemnerd.com.br/nerdcast/loki-2-o-glorioso-proposito-do-deus-da-trapaca/\">NerdCast 908</a>, <a class=\"cat-item product-nerdcast\" href=\"https://jovemnerd.com.br/nerdcast/la-do-bunker/nepotismo-e-brotheragem/\">Lá do Bunker 122</a>, <a class=\"cat-item product-nerdcast\" href=\"https://jovemnerd.com.br/nerdcast/caneca-de-mamicas/vizinhas-do-mickey/\">Caneca de Mamicas 132</a>, <a class=\"cat-item product-nerdcast\" href=\"https://jovemnerd.com.br/playlist/especial-rpg-cronicas-de-ghanor/\">2011 - 2012 - 2022 - 2023</a>, <a class=\"cat-item product-nerdcast\" href=\"https://jovemnerd.com.br/playlist/rpg-call-of-cthulhu/\">2017 - 2020</a>, <a class=\"cat-item product-nerdcast\" href=\"https://jovemnerd.com.br/playlist/rpg-cyberpunk/\">2013 - 2016</a>, <a class=\"cat-item product-nerdcast\" href=\"https://jovemnerd.com.br/nerdcast/caneca-de-mamicas/cole-na-ciencia-e-fuja-dos-hypes/\">Caneca de Mamicas 130</a>, <a class=\"cat-item product-nerdcast\" href=\"https://jovemnerd.com.br/nerdcast/fronteiras-da-ciencia/\">NerdCast 896</a>, <a class=\"cat-item product-nerdcast\" href=\"https://jovemnerd.com.br/nerdcast/oppenheimer-e-o-poder-politico-do-atomo/\">NerdCast 891</a>, <a class=\"cat-item product-nerdcast\" href=\"https://jovemnerd.com.br/nerdcast/voce-e-cetico-e-nao-sabe/\">NerdCast 886</a>, <a class=\"cat-item product-nerdcast\" href=\"https://jovemnerd.com.br/nerdcast/generacast/multiverso-genetico/\">Generacast 13</a>, <a class=\"cat-item product-nerdcast\" href=\"https://jovemnerd.com.br/nerdcast/caneca-de-mamicas/vivendo-na-reduceta/\">Caneca de Mamicas 103</a>, <a class=\"cat-item product-nerdcast\" href=\"https://jovemnerd.com.br/nerdcast/caneca-de-mamicas/o-plot-twist-do-jejum-intermitente/\">Caneca de Mamicas 97</a>, <a class=\"cat-item product-nerdcast\" href=\"https://jovemnerd.com.br/nerdcast/caneca-de-mamicas/que-delicia-mergulhar-nessa-ciencia/\">Caneca de Mamicas 95</a>, <a class=\"cat-item product-nerdcast\" href=\"https://jovemnerd.com.br/nerdcast/caneca-de-mamicas/divertida-mente/\">Caneca de Mamicas 92</a>, <a class=\"cat-item product-nerdcast\" href=\"https://jovemnerd.com.br/nerdcast/as-origens-da-humanidade/\">NerdCast 859</a>, <a class=\"cat-item product-nerdcast\" href=\"https://jovemnerd.com.br/nerdcast/nerdtech/xadrez-e-o-gambito-dos-algoritmos/\">NerdTech 81</a>, <a class=\"cat-item product-nerdcast\" href=\"https://jovemnerd.com.br/nerdcast/generacast/genes-atleticos/\">Generacast 12</a>, <a class=\"cat-item product-nerdcast\" href=\"https://jovemnerd.com.br/nerdcast/extra/ensinando-as-maquinas-a-pensar/\">Extra Oferecido por Instituto Mauá de Tecnologia</a>, <a class=\"cat-item product-nerdcast\" href=\"https://jovemnerd.com.br/nerdcast/saude-do-sono-no-mundo-da-insonia/\">NerdCast 848</a>, <a class=\"cat-item product-nerdcast\" href=\"https://jovemnerd.com.br/nerdcast/generacast/fofocas-da-genetica-medieval/\">Generacast 11</a>, <a class=\"cat-item product-nerdcast\" href=\"https://jovemnerd.com.br/nerdcast/nerdtech/previsoes-do-futuro-do-passado/\">NerdTech 79</a>, <a class=\"cat-item product-nerdcast\" href=\"https://jovemnerd.com.br/nerdcast/caneca-de-mamicas/o-lado-zen-da-vida/\">Caneca de Mamicas 67</a>, <a class=\"cat-item product-nerdcast\" href=\"https://jovemnerd.com.br/nerdcast/as-profissoes-do-futuro/\">NerdCast 842</a>, <a class=\"cat-item product-nerdcast\" href=\"https://jovemnerd.com.br/nerdcast/caneca-de-mamicas/nosso-microfone-nao-sera-desplugado/\">Caneca de Mamicas 66</a>, <a class=\"cat-item product-nerdcast\" href=\"https://jovemnerd.com.br/nerdcast/james-webb-explorando-o-infinito-e-alem/\">NerdCast 840</a>]\n",
            "Cinema: [<a class=\"cat-item product-nerdcast\" href=\"https://jovemnerd.com.br/nerdcast/caneca-de-mamicas/recordar-e-viver/\">Caneca de Mamicas 133</a>, <a class=\"cat-item product-nerdcast\" href=\"https://jovemnerd.com.br/nerdcast/loki-2-o-glorioso-proposito-do-deus-da-trapaca/\">NerdCast 908</a>, <a class=\"cat-item product-nerdcast\" href=\"https://jovemnerd.com.br/nerdcast/la-do-bunker/nepotismo-e-brotheragem/\">Lá do Bunker 122</a>, <a class=\"cat-item product-nerdcast\" href=\"https://jovemnerd.com.br/nerdcast/caneca-de-mamicas/vizinhas-do-mickey/\">Caneca de Mamicas 132</a>, <a class=\"cat-item product-nerdcast\" href=\"https://jovemnerd.com.br/playlist/especial-rpg-cronicas-de-ghanor/\">2011 - 2012 - 2022 - 2023</a>, <a class=\"cat-item product-nerdcast\" href=\"https://jovemnerd.com.br/playlist/rpg-call-of-cthulhu/\">2017 - 2020</a>, <a class=\"cat-item product-nerdcast\" href=\"https://jovemnerd.com.br/playlist/rpg-cyberpunk/\">2013 - 2016</a>, <a class=\"cat-item product-nerdcast\" href=\"https://jovemnerd.com.br/nerdcast/la-do-bunker/se-fazendo-de-dificil/\">Lá do Bunker 117</a>, <a class=\"cat-item product-nerdcast\" href=\"https://jovemnerd.com.br/nerdcast/la-do-bunker/abano-reciproco/\">Lá do Bunker 114</a>, <a class=\"cat-item product-nerdcast\" href=\"https://jovemnerd.com.br/nerdcast/la-do-bunker/tesao-por-engano/\">Lá do Bunker 113</a>, <a class=\"cat-item product-nerdcast\" href=\"https://jovemnerd.com.br/nerdcast/caneca-de-mamicas/live-action-ou-nao-eis-a-questao/\">Caneca de Mamicas 123</a>, <a class=\"cat-item product-nerdcast\" href=\"https://jovemnerd.com.br/nerdcast/chega-de-filmes-de-heroi/\">NerdCast 894</a>, <a class=\"cat-item product-nerdcast\" href=\"https://jovemnerd.com.br/nerdcast/caneca-de-mamicas/o-despertar-das-barbies/\">Caneca de Mamicas 117</a>, <a class=\"cat-item product-nerdcast\" href=\"https://jovemnerd.com.br/nerdcast/indiana-jones-e-os-cacadores-da-nostalgia-perdida/\">NerdCast 889</a>, <a class=\"cat-item product-nerdcast\" href=\"https://jovemnerd.com.br/nerdcast/la-do-bunker/crises-planejadas/\">Lá do Bunker 103</a>, <a class=\"cat-item product-nerdcast\" href=\"https://jovemnerd.com.br/nerdcast/the-flash-vamos-ficar-birutas/\">NerdCast 887</a>, <a class=\"cat-item product-nerdcast\" href=\"https://jovemnerd.com.br/nerdcast/homem-aranha-atraves-do-aranhaverso-e-punk/\">NerdCast 885</a>, <a class=\"cat-item product-nerdcast\" href=\"https://jovemnerd.com.br/nerdcast/la-do-bunker/esqueca-tudo-o-que-conhece/\">Lá do Bunker 97</a>, <a class=\"cat-item product-nerdcast\" href=\"https://jovemnerd.com.br/nerdcast/guardioes-da-galaxia-vol-3-amor-morte-racoons/\">NerdCast 881</a>, <a class=\"cat-item product-nerdcast\" href=\"https://jovemnerd.com.br/nerdcast/la-do-bunker/programa-sobrio/\">Lá do Bunker 95</a>, <a class=\"cat-item product-nerdcast\" href=\"https://jovemnerd.com.br/nerdcast/dungeons-dragons-acabou-a-galhofa/\">NerdCast 878</a>, <a class=\"cat-item product-nerdcast\" href=\"https://jovemnerd.com.br/nerdcast/super-mario-bros-isso-e-cinema-a-maldicao-esta-em-outro-castelo/\">NerdCast 877</a>, <a class=\"cat-item product-nerdcast\" href=\"https://jovemnerd.com.br/nerdcast/la-do-bunker/trauma-coletivo/\">Lá do Bunker 91</a>, <a class=\"cat-item product-nerdcast\" href=\"https://jovemnerd.com.br/nerdcast/la-do-bunker/pai-de-pet/\">Lá do Bunker 89</a>, <a class=\"cat-item product-nerdcast\" href=\"https://jovemnerd.com.br/nerdcast/la-do-bunker/maos-na-consciencia/\">Lá do Bunker 88</a>, <a class=\"cat-item product-nerdcast\" href=\"https://jovemnerd.com.br/nerdcast/la-do-bunker/apelo-ao-bagel/\">Lá do Bunker Oscar 06</a>, <a class=\"cat-item product-nerdcast\" href=\"https://jovemnerd.com.br/nerdcast/la-do-bunker/trem-do-elvis/\">Lá do Bunker Oscar 05</a>]\n",
            "Comportamento: [<a class=\"cat-item product-nerdcast\" href=\"https://jovemnerd.com.br/nerdcast/caneca-de-mamicas/recordar-e-viver/\">Caneca de Mamicas 133</a>, <a class=\"cat-item product-nerdcast\" href=\"https://jovemnerd.com.br/nerdcast/loki-2-o-glorioso-proposito-do-deus-da-trapaca/\">NerdCast 908</a>, <a class=\"cat-item product-nerdcast\" href=\"https://jovemnerd.com.br/nerdcast/la-do-bunker/nepotismo-e-brotheragem/\">Lá do Bunker 122</a>, <a class=\"cat-item product-nerdcast\" href=\"https://jovemnerd.com.br/nerdcast/caneca-de-mamicas/vizinhas-do-mickey/\">Caneca de Mamicas 132</a>, <a class=\"cat-item product-nerdcast\" href=\"https://jovemnerd.com.br/playlist/especial-rpg-cronicas-de-ghanor/\">2011 - 2012 - 2022 - 2023</a>, <a class=\"cat-item product-nerdcast\" href=\"https://jovemnerd.com.br/playlist/rpg-call-of-cthulhu/\">2017 - 2020</a>, <a class=\"cat-item product-nerdcast\" href=\"https://jovemnerd.com.br/playlist/rpg-cyberpunk/\">2013 - 2016</a>, <a class=\"cat-item product-nerdcast\" href=\"https://jovemnerd.com.br/nerdcast/caneca-de-mamicas/so-sei-que-nasa-sei/\">Caneca de Mamicas 131</a>, <a class=\"cat-item product-nerdcast\" href=\"https://jovemnerd.com.br/nerdcast/caneca-de-mamicas/o-conhecimento-liberta/\">Caneca de Mamicas 129</a>, <a class=\"cat-item product-nerdcast\" href=\"https://jovemnerd.com.br/nerdcast/caneca-de-mamicas/educacao-com-empatia-emocional-em-dia/\">Caneca de Mamicas 125</a>, <a class=\"cat-item product-nerdcast\" href=\"https://jovemnerd.com.br/nerdcast/caneca-de-mamicas/meu-nome-e-alan/\">Caneca de Mamicas 122</a>, <a class=\"cat-item product-nerdcast\" href=\"https://jovemnerd.com.br/nerdcast/papo-de-parceiro/conselho-de-sellers/\">Papo de Parceiro 25</a>, <a class=\"cat-item product-nerdcast\" href=\"https://jovemnerd.com.br/nerdcast/caneca-de-mamicas/criancas-trans-existem/\">Caneca de Mamicas 120</a>]\n",
            "Cotidiano: [<a class=\"cat-item product-nerdcast\" href=\"https://jovemnerd.com.br/nerdcast/caneca-de-mamicas/recordar-e-viver/\">Caneca de Mamicas 133</a>, <a class=\"cat-item product-nerdcast\" href=\"https://jovemnerd.com.br/nerdcast/loki-2-o-glorioso-proposito-do-deus-da-trapaca/\">NerdCast 908</a>, <a class=\"cat-item product-nerdcast\" href=\"https://jovemnerd.com.br/nerdcast/la-do-bunker/nepotismo-e-brotheragem/\">Lá do Bunker 122</a>, <a class=\"cat-item product-nerdcast\" href=\"https://jovemnerd.com.br/nerdcast/caneca-de-mamicas/vizinhas-do-mickey/\">Caneca de Mamicas 132</a>, <a class=\"cat-item product-nerdcast\" href=\"https://jovemnerd.com.br/playlist/especial-rpg-cronicas-de-ghanor/\">2011 - 2012 - 2022 - 2023</a>, <a class=\"cat-item product-nerdcast\" href=\"https://jovemnerd.com.br/playlist/rpg-call-of-cthulhu/\">2017 - 2020</a>, <a class=\"cat-item product-nerdcast\" href=\"https://jovemnerd.com.br/playlist/rpg-cyberpunk/\">2013 - 2016</a>, <a class=\"cat-item product-nerdcast\" href=\"https://jovemnerd.com.br/nerdcast/qual-e-a-pauta-karaoke-lagostas-e-dlc-de-role/\">NerdCast 905</a>, <a class=\"cat-item product-nerdcast\" href=\"https://jovemnerd.com.br/nerdcast/caneca-de-mamicas/quando-a-gente-ama-a-gente-cuida/\">Caneca de Mamicas 128</a>, <a class=\"cat-item product-nerdcast\" href=\"https://jovemnerd.com.br/nerdcast/caneca-de-mamicas/o-duelo-do-amor/\">Caneca de Mamicas 127</a>, <a class=\"cat-item product-nerdcast\" href=\"https://jovemnerd.com.br/nerdcast/qual-e-a-pauta-npc-de-bike-caveiras-e-tempestade-de-merda/\">NerdCast 901</a>, <a class=\"cat-item product-nerdcast\" href=\"https://jovemnerd.com.br/nerdcast/como-e-bom-fofocar/\">NerdCast 899</a>, <a class=\"cat-item product-nerdcast\" href=\"https://jovemnerd.com.br/nerdcast/caneca-de-mamicas/a-vida-alem-da-imagem/\">Caneca de Mamicas 119</a>, <a class=\"cat-item product-nerdcast\" href=\"https://jovemnerd.com.br/nerdcast/mais-regras-nao-escritas-da-vida/\">NerdCast 893</a>, <a class=\"cat-item product-nerdcast\" href=\"https://jovemnerd.com.br/nerdcast/caneca-de-mamicas/quanto-mais-natural-melhor/\">Caneca de Mamicas 115</a>, <a class=\"cat-item product-nerdcast\" href=\"https://jovemnerd.com.br/nerdcast/qual-e-a-pauta-cachimbo-chicote-e-compras-malucas/\">NerdCast 888</a>, <a class=\"cat-item product-nerdcast\" href=\"https://jovemnerd.com.br/nerdcast/caneca-de-mamicas/que-delicia-mergulhar-nesse-orgulho-lgbtqia/\">Caneca de Mamicas 112</a>, <a class=\"cat-item product-nerdcast\" href=\"https://jovemnerd.com.br/nerdcast/caneca-de-mamicas/filhas-da-mae/\">Caneca de Mamicas 106</a>, <a class=\"cat-item product-nerdcast\" href=\"https://jovemnerd.com.br/nerdcast/babycast-4-crescem-tao-rapido/\">NerdCast BabyCast 4 </a>, <a class=\"cat-item product-nerdcast\" href=\"https://jovemnerd.com.br/nerdcast/caneca-de-mamicas/chic-londres/\">Caneca de Mamicas 105 </a>, <a class=\"cat-item product-nerdcast\" href=\"https://jovemnerd.com.br/nerdcast/qual-e-a-pauta-sauna-injecoes-e-caipirinha-em-numenor/\">NerdCast 880</a>, <a class=\"cat-item product-nerdcast\" href=\"https://jovemnerd.com.br/nerdcast/caneca-de-mamicas/fofocando-ate-gemer/\">Caneca de Mamicas 104</a>, <a class=\"cat-item product-nerdcast\" href=\"https://jovemnerd.com.br/nerdcast/caneca-de-mamicas/desbravadores-me-chama-que-eu-vou/\">Caneca de Mamicas 102</a>]\n",
            "Dia dos Namorados: [<a class=\"cat-item product-nerdcast\" href=\"https://jovemnerd.com.br/nerdcast/caneca-de-mamicas/recordar-e-viver/\">Caneca de Mamicas 133</a>, <a class=\"cat-item product-nerdcast\" href=\"https://jovemnerd.com.br/nerdcast/loki-2-o-glorioso-proposito-do-deus-da-trapaca/\">NerdCast 908</a>, <a class=\"cat-item product-nerdcast\" href=\"https://jovemnerd.com.br/nerdcast/la-do-bunker/nepotismo-e-brotheragem/\">Lá do Bunker 122</a>, <a class=\"cat-item product-nerdcast\" href=\"https://jovemnerd.com.br/nerdcast/caneca-de-mamicas/vizinhas-do-mickey/\">Caneca de Mamicas 132</a>, <a class=\"cat-item product-nerdcast\" href=\"https://jovemnerd.com.br/playlist/especial-rpg-cronicas-de-ghanor/\">2011 - 2012 - 2022 - 2023</a>, <a class=\"cat-item product-nerdcast\" href=\"https://jovemnerd.com.br/playlist/rpg-call-of-cthulhu/\">2017 - 2020</a>, <a class=\"cat-item product-nerdcast\" href=\"https://jovemnerd.com.br/playlist/rpg-cyberpunk/\">2013 - 2016</a>, <a class=\"cat-item product-nerdcast\" href=\"https://jovemnerd.com.br/nerdcast/caneca-de-mamicas/as-podcasters-das-causas-impossiveis/\">Caneca de Mamicas 110</a>, <a class=\"cat-item product-nerdcast\" href=\"https://jovemnerd.com.br/nerdcast/especial-dia-dos-namorados-2023/\">NerdCast 884</a>, <a class=\"cat-item product-nerdcast\" href=\"https://jovemnerd.com.br/nerdcast/caneca-de-mamicas/minha-vida-minhas-fobias-minhas-regras/\">Caneca de Mamicas 59</a>, <a class=\"cat-item product-nerdcast\" href=\"https://jovemnerd.com.br/nerdcast/caneca-de-mamicas/antes-so-do-que-mal-acompanhado/\">Caneca de Mamicas 58</a>, <a class=\"cat-item product-nerdcast\" href=\"https://jovemnerd.com.br/nerdcast/especial-dia-dos-namorados-2022/\">NerdCast 833</a>, <a class=\"cat-item product-nerdcast\" href=\"https://jovemnerd.com.br/nerdcast/especial-dia-dos-namorados-2021/\">NerdCast 781</a>, <a class=\"cat-item product-nerdcast\" href=\"https://jovemnerd.com.br/nerdcast/especial-dia-dos-namorados-2020/\">NerdCast 729</a>, <a class=\"cat-item product-nerdcast\" href=\"https://jovemnerd.com.br/nerdcast/especial-dia-dos-namorados-2019/\">NerdCast 677</a>, <a class=\"cat-item product-nerdcast\" href=\"https://jovemnerd.com.br/nerdcast/especial-dia-dos-namorados-2018/\">NerdCast 623</a>, <a class=\"cat-item product-nerdcast\" href=\"https://jovemnerd.com.br/nerdcast/especial-dia-dos-namorados-2017/\">NerdCast 571</a>, <a class=\"cat-item product-nerdcast\" href=\"https://jovemnerd.com.br/nerdcast/nerdcast-520-especial-dia-dos-namorados-2016/\">NerdCast 520</a>, <a class=\"cat-item product-nerdcast\" href=\"https://jovemnerd.com.br/nerdcast/nerdcast-469-especial-dia-dos-namorados-2015/\">NerdCast 469</a>, <a class=\"cat-item product-nerdcast\" href=\"https://jovemnerd.com.br/nerdcast/nerdcast-417-especial-dia-dos-namorados-2014/\">NerdCast 417</a>, <a class=\"cat-item product-nerdcast\" href=\"https://jovemnerd.com.br/nerdcast/nerdcast-366-especial-dia-dos-namorados-2013/\">NerdCast 366</a>, <a class=\"cat-item product-nerdcast\" href=\"https://jovemnerd.com.br/nerdcast/nerdcast-314-especial-dia-dos-namorados-2012/\">NerdCast 314</a>, <a class=\"cat-item product-nerdcast\" href=\"https://jovemnerd.com.br/nerdcast/nerdcast-263-especial-dia-dos-namorados-2011/\">NerdCast 263</a>, <a class=\"cat-item product-nerdcast\" href=\"https://jovemnerd.com.br/nerdcast/nerdcast-213-especial-dia-dos-namorados-2010/\">NerdCast 213</a>, <a class=\"cat-item product-nerdcast\" href=\"https://jovemnerd.com.br/nerdcast/nerdcast-165-especial-dia-dos-namorados/\">NerdCast 165</a>]\n",
            "Educação: [<a class=\"cat-item product-nerdcast\" href=\"https://jovemnerd.com.br/nerdcast/caneca-de-mamicas/recordar-e-viver/\">Caneca de Mamicas 133</a>, <a class=\"cat-item product-nerdcast\" href=\"https://jovemnerd.com.br/nerdcast/loki-2-o-glorioso-proposito-do-deus-da-trapaca/\">NerdCast 908</a>, <a class=\"cat-item product-nerdcast\" href=\"https://jovemnerd.com.br/nerdcast/la-do-bunker/nepotismo-e-brotheragem/\">Lá do Bunker 122</a>, <a class=\"cat-item product-nerdcast\" href=\"https://jovemnerd.com.br/nerdcast/caneca-de-mamicas/vizinhas-do-mickey/\">Caneca de Mamicas 132</a>, <a class=\"cat-item product-nerdcast\" href=\"https://jovemnerd.com.br/playlist/especial-rpg-cronicas-de-ghanor/\">2011 - 2012 - 2022 - 2023</a>, <a class=\"cat-item product-nerdcast\" href=\"https://jovemnerd.com.br/playlist/rpg-call-of-cthulhu/\">2017 - 2020</a>, <a class=\"cat-item product-nerdcast\" href=\"https://jovemnerd.com.br/playlist/rpg-cyberpunk/\">2013 - 2016</a>, <a class=\"cat-item product-nerdcast\" href=\"https://jovemnerd.com.br/nerdcast/papo-de-parceiro/venda-muito-nos-quatro-melhores-meses-do-ano/\">Papo de Parceiro 27</a>, <a class=\"cat-item product-nerdcast\" href=\"https://jovemnerd.com.br/nerdcast/caneca-de-mamicas/os-sorvetinhos-da-fertilizacao/\">Caneca de Mamicas 124</a>, <a class=\"cat-item product-nerdcast\" href=\"https://jovemnerd.com.br/nerdcast/caneca-de-mamicas/dente-por-dente-ouro-por-ouro/\">Caneca de Mamicas 108</a>, <a class=\"cat-item product-nerdcast\" href=\"https://jovemnerd.com.br/nerdcast/empreendedor/como-a-ia-vai-afetar-os-seus-negocios/\">Empreendedor 93</a>, <a class=\"cat-item product-nerdcast\" href=\"https://jovemnerd.com.br/nerdcast/nerdtech/chat-gpt-a-revolucao-em-forma-de-texto/\">NerdTech 84</a>, <a class=\"cat-item product-nerdcast\" href=\"https://jovemnerd.com.br/nerdcast/extra/o-equilibrio-e-a-seguranca-da-informacao/\">Extra Oferecido por XP EDUCAÇÃO</a>, <a class=\"cat-item product-nerdcast\" href=\"https://jovemnerd.com.br/nerdcast/nerdtech/faculdades-de-tecnologia-na-era-das-aulas-online/\">NerdTech 83</a>, <a class=\"cat-item product-nerdcast\" href=\"https://jovemnerd.com.br/nerdcast/as-origens-da-humanidade/\">NerdCast 859</a>, <a class=\"cat-item product-nerdcast\" href=\"https://jovemnerd.com.br/nerdcast/caneca-de-mamicas/legalize-jah/\">Caneca de Mamicas 82</a>, <a class=\"cat-item product-nerdcast\" href=\"https://jovemnerd.com.br/nerdcast/caneca-de-mamicas/tabu-e-pra-jacu/\">Caneca de Mamicas 78</a>, <a class=\"cat-item product-nerdcast\" href=\"https://jovemnerd.com.br/nerdcast/caneca-de-mamicas/quem-procura-cura/\">Caneca de Mamicas 75</a>, <a class=\"cat-item product-nerdcast\" href=\"https://jovemnerd.com.br/nerdcast/extra/criando-produtos-e-assinaturas-digitais/\">Extra Oferecido por Zapsign</a>, <a class=\"cat-item product-nerdcast\" href=\"https://jovemnerd.com.br/nerdcast/empreendedor/qual-e-o-melhor-canal-de-venda/\">Empreendedor 90</a>, <a class=\"cat-item product-nerdcast\" href=\"https://jovemnerd.com.br/nerdcast/caneca-de-mamicas/sou-brega-mas-sou-feliz/\">Caneca de Mamicas 68</a>, <a class=\"cat-item product-nerdcast\" href=\"https://jovemnerd.com.br/nerdcast/as-profissoes-do-futuro/\">NerdCast 842</a>, <a class=\"cat-item product-nerdcast\" href=\"https://jovemnerd.com.br/nerdcast/caneca-de-mamicas/nosso-microfone-nao-sera-desplugado/\">Caneca de Mamicas 66</a>, <a class=\"cat-item product-nerdcast\" href=\"https://jovemnerd.com.br/nerdcast/nerdtech/o-mercado-pos-pandemia/\">NerdTech 78</a>, <a class=\"cat-item product-nerdcast\" href=\"https://jovemnerd.com.br/nerdcast/empreendedor/fama-e-negocios/\">Empreendedor 89</a>, <a class=\"cat-item product-nerdcast\" href=\"https://jovemnerd.com.br/nerdcast/papo-de-parceiro/marcando-gols-no-e-commerce-esportivo/\">Papo de Parceiro 12</a>, <a class=\"cat-item product-nerdcast\" href=\"https://jovemnerd.com.br/nerdcast/caneca-de-mamicas/a-perfeicao-e-inimiga-do-aprendizado/\">Caneca de Mamicas 64</a>]\n",
            "Empreendedorismo: [<a class=\"cat-item product-nerdcast\" href=\"https://jovemnerd.com.br/nerdcast/caneca-de-mamicas/recordar-e-viver/\">Caneca de Mamicas 133</a>, <a class=\"cat-item product-nerdcast\" href=\"https://jovemnerd.com.br/nerdcast/loki-2-o-glorioso-proposito-do-deus-da-trapaca/\">NerdCast 908</a>, <a class=\"cat-item product-nerdcast\" href=\"https://jovemnerd.com.br/nerdcast/la-do-bunker/nepotismo-e-brotheragem/\">Lá do Bunker 122</a>, <a class=\"cat-item product-nerdcast\" href=\"https://jovemnerd.com.br/nerdcast/caneca-de-mamicas/vizinhas-do-mickey/\">Caneca de Mamicas 132</a>, <a class=\"cat-item product-nerdcast\" href=\"https://jovemnerd.com.br/playlist/especial-rpg-cronicas-de-ghanor/\">2011 - 2012 - 2022 - 2023</a>, <a class=\"cat-item product-nerdcast\" href=\"https://jovemnerd.com.br/playlist/rpg-call-of-cthulhu/\">2017 - 2020</a>, <a class=\"cat-item product-nerdcast\" href=\"https://jovemnerd.com.br/playlist/rpg-cyberpunk/\">2013 - 2016</a>, <a class=\"cat-item product-nerdcast\" href=\"https://jovemnerd.com.br/nerdcast/nerdtech/o-que-esperar-dos-novos-smartphones/\">NerdTech 93</a>, <a class=\"cat-item product-nerdcast\" href=\"https://jovemnerd.com.br/nerdcast/papo-de-parceiro/venda-muito-nos-quatro-melhores-meses-do-ano/\">Papo de Parceiro 27</a>, <a class=\"cat-item product-nerdcast\" href=\"https://jovemnerd.com.br/nerdcast/extra/os-segredos-do-cooperativismo/\">Extra Oferecido por SomosCoop</a>, <a class=\"cat-item product-nerdcast\" href=\"https://jovemnerd.com.br/nerdcast/papo-de-parceiro/curadoria-de-ofertas-aprenda-a-engajar-e-vender/\">Papo de Parceiro 26</a>, <a class=\"cat-item product-nerdcast\" href=\"https://jovemnerd.com.br/nerdcast/papo-de-parceiro/conselho-de-sellers/\">Papo de Parceiro 25</a>, <a class=\"cat-item product-nerdcast\" href=\"https://jovemnerd.com.br/nerdcast/papo-de-parceiro/descomplicando-pra-poder-vender-dormindo/\">Papo de Parceiro 24</a>, <a class=\"cat-item product-nerdcast\" href=\"https://jovemnerd.com.br/nerdcast/papo-de-parceiro/da-fabrica-direto-para-o-consumidor/\">Papo de Parceiro 23</a>, <a class=\"cat-item product-nerdcast\" href=\"https://jovemnerd.com.br/nerdcast/empreendedor/como-a-ia-vai-afetar-os-seus-negocios/\">Empreendedor 93</a>, <a class=\"cat-item product-nerdcast\" href=\"https://jovemnerd.com.br/nerdcast/papo-de-parceiro/como-funciona-a-magia-por-tras-dos-servicos-da-disney/\">Papo de Parceiro 22</a>, <a class=\"cat-item product-nerdcast\" href=\"https://jovemnerd.com.br/nerdcast/papo-de-parceiro/habitos-de-compras-de-geracao-para-geracao/\">Papo de Parceiro 21</a>, <a class=\"cat-item product-nerdcast\" href=\"https://jovemnerd.com.br/nerdcast/papo-de-parceiro/ferramentas-para-o-sucesso-das-suas-vendas/\">Papo de Parceiro 20 </a>, <a class=\"cat-item product-nerdcast\" href=\"https://jovemnerd.com.br/nerdcast/papo-de-parceiro/aprimorando-suas-buscas-no-e-commerce/\">Papo de Parceiro 19</a>, <a class=\"cat-item product-nerdcast\" href=\"https://jovemnerd.com.br/nerdcast/empreendedor/perrengues-das-provas-de-residencia/\">Empreendedor 92</a>, <a class=\"cat-item product-nerdcast\" href=\"https://jovemnerd.com.br/nerdcast/papo-de-parceiro/planejando-vendas-em-2023/\">Papo de Parceiro 18</a>, <a class=\"cat-item product-nerdcast\" href=\"https://jovemnerd.com.br/nerdcast/papo-de-parceiro/planejando-um-janeiro-de-vendas-fantasticas/\">Papo de Parceiro 17</a>, <a class=\"cat-item product-nerdcast\" href=\"https://jovemnerd.com.br/nerdcast/papo-de-parceiro/fornecedores-fantasticos-e-onde-acha-los/\">Papo de Parceiro 16</a>, <a class=\"cat-item product-nerdcast\" href=\"https://jovemnerd.com.br/nerdcast/papo-de-parceiro/nadando-no-oceano-vermelho-do-mercado-de-jogos/\">Papo de Parceiro 15</a>, <a class=\"cat-item product-nerdcast\" href=\"https://jovemnerd.com.br/nerdcast/empreendedor/aprimorando-a-performance/\">Empreendedor 91</a>, <a class=\"cat-item product-nerdcast\" href=\"https://jovemnerd.com.br/nerdcast/papo-de-parceiro/magalu-coletas-entrega-ultra-rapida-e-fulfillment/\">Papo de Parceiro 14</a>, <a class=\"cat-item product-nerdcast\" href=\"https://jovemnerd.com.br/nerdcast/nerdtech/previsoes-do-futuro-do-passado/\">NerdTech 79</a>]\n",
            "Entrevistas: [<a class=\"cat-item product-nerdcast\" href=\"https://jovemnerd.com.br/nerdcast/caneca-de-mamicas/recordar-e-viver/\">Caneca de Mamicas 133</a>, <a class=\"cat-item product-nerdcast\" href=\"https://jovemnerd.com.br/nerdcast/loki-2-o-glorioso-proposito-do-deus-da-trapaca/\">NerdCast 908</a>, <a class=\"cat-item product-nerdcast\" href=\"https://jovemnerd.com.br/nerdcast/la-do-bunker/nepotismo-e-brotheragem/\">Lá do Bunker 122</a>, <a class=\"cat-item product-nerdcast\" href=\"https://jovemnerd.com.br/nerdcast/caneca-de-mamicas/vizinhas-do-mickey/\">Caneca de Mamicas 132</a>, <a class=\"cat-item product-nerdcast\" href=\"https://jovemnerd.com.br/playlist/especial-rpg-cronicas-de-ghanor/\">2011 - 2012 - 2022 - 2023</a>, <a class=\"cat-item product-nerdcast\" href=\"https://jovemnerd.com.br/playlist/rpg-call-of-cthulhu/\">2017 - 2020</a>, <a class=\"cat-item product-nerdcast\" href=\"https://jovemnerd.com.br/playlist/rpg-cyberpunk/\">2013 - 2016</a>, <a class=\"cat-item product-nerdcast\" href=\"https://jovemnerd.com.br/nerdcast/papo-de-parceiro/planejando-vendas-em-2023/\">Papo de Parceiro 18</a>, <a class=\"cat-item product-nerdcast\" href=\"https://jovemnerd.com.br/nerdcast/la-do-bunker/heroi-hablando/\">Lá do Bunker 75</a>, <a class=\"cat-item product-nerdcast\" href=\"https://jovemnerd.com.br/nerdcast/caneca-de-mamicas/seu-estado-de-espirito-vale-mais-que-seu-estado-civil/\">Caneca de Mamicas 79</a>, <a class=\"cat-item product-nerdcast\" href=\"https://jovemnerd.com.br/nerdcast/papo-de-parceiro/nadando-no-oceano-vermelho-do-mercado-de-jogos/\">Papo de Parceiro 15</a>, <a class=\"cat-item product-nerdcast\" href=\"https://jovemnerd.com.br/nerdcast/papo-de-parceiro/magalu-coletas-entrega-ultra-rapida-e-fulfillment/\">Papo de Parceiro 14</a>, <a class=\"cat-item product-nerdcast\" href=\"https://jovemnerd.com.br/nerdcast/la-do-bunker/taca-le-pau-no-medieval/\">Lá do Bunker 60</a>, <a class=\"cat-item product-nerdcast\" href=\"https://jovemnerd.com.br/nerdcast/empreendedor/qual-e-o-melhor-canal-de-venda/\">Empreendedor 90</a>, <a class=\"cat-item product-nerdcast\" href=\"https://jovemnerd.com.br/nerdcast/la-do-bunker/testemunho-da-empolgacao/\">Lá do Bunker 58</a>, <a class=\"cat-item product-nerdcast\" href=\"https://jovemnerd.com.br/nerdcast/caneca-de-mamicas/sou-brega-mas-sou-feliz/\">Caneca de Mamicas 68</a>, <a class=\"cat-item product-nerdcast\" href=\"https://jovemnerd.com.br/nerdcast/papo-de-parceiro/quebrando-galhos-no-brasil-inteiro/\">Papo de Parceiro 13</a>, <a class=\"cat-item product-nerdcast\" href=\"https://jovemnerd.com.br/nerdcast/la-do-bunker/virgem-de-o-senhor-dos-aneis/\">Lá do Bunker 57</a>, <a class=\"cat-item product-nerdcast\" href=\"https://jovemnerd.com.br/nerdcast/caneca-de-mamicas/o-lado-zen-da-vida/\">Caneca de Mamicas 67</a>, <a class=\"cat-item product-nerdcast\" href=\"https://jovemnerd.com.br/nerdcast/as-profissoes-do-futuro/\">NerdCast 842</a>, <a class=\"cat-item product-nerdcast\" href=\"https://jovemnerd.com.br/nerdcast/caneca-de-mamicas/nosso-microfone-nao-sera-desplugado/\">Caneca de Mamicas 66</a>, <a class=\"cat-item product-nerdcast\" href=\"https://jovemnerd.com.br/nerdcast/nerdtech/o-mercado-pos-pandemia/\">NerdTech 78</a>, <a class=\"cat-item product-nerdcast\" href=\"https://jovemnerd.com.br/nerdcast/empreendedor/fama-e-negocios/\">Empreendedor 89</a>, <a class=\"cat-item product-nerdcast\" href=\"https://jovemnerd.com.br/nerdcast/papo-de-parceiro/marcando-gols-no-e-commerce-esportivo/\">Papo de Parceiro 12</a>, <a class=\"cat-item product-nerdcast\" href=\"https://jovemnerd.com.br/nerdcast/la-do-bunker/autocritica-e-game-over/\">Lá do Bunker 53</a>, <a class=\"cat-item product-nerdcast\" href=\"https://jovemnerd.com.br/nerdcast/nerdcash/a-montanha-russa-dos-ciclos-economicos/\">NerdCash 49</a>, <a class=\"cat-item product-nerdcast\" href=\"https://jovemnerd.com.br/nerdcast/la-do-bunker/a-vida-real-e-terrivel/\">Lá do Bunker 50</a>]\n",
            "Esportes: [<a class=\"cat-item product-nerdcast\" href=\"https://jovemnerd.com.br/nerdcast/caneca-de-mamicas/recordar-e-viver/\">Caneca de Mamicas 133</a>, <a class=\"cat-item product-nerdcast\" href=\"https://jovemnerd.com.br/nerdcast/loki-2-o-glorioso-proposito-do-deus-da-trapaca/\">NerdCast 908</a>, <a class=\"cat-item product-nerdcast\" href=\"https://jovemnerd.com.br/nerdcast/la-do-bunker/nepotismo-e-brotheragem/\">Lá do Bunker 122</a>, <a class=\"cat-item product-nerdcast\" href=\"https://jovemnerd.com.br/nerdcast/caneca-de-mamicas/vizinhas-do-mickey/\">Caneca de Mamicas 132</a>, <a class=\"cat-item product-nerdcast\" href=\"https://jovemnerd.com.br/playlist/especial-rpg-cronicas-de-ghanor/\">2011 - 2012 - 2022 - 2023</a>, <a class=\"cat-item product-nerdcast\" href=\"https://jovemnerd.com.br/playlist/rpg-call-of-cthulhu/\">2017 - 2020</a>, <a class=\"cat-item product-nerdcast\" href=\"https://jovemnerd.com.br/playlist/rpg-cyberpunk/\">2013 - 2016</a>, <a class=\"cat-item product-nerdcast\" href=\"https://jovemnerd.com.br/nerdcast/caneca-de-mamicas/copa-2023-debinha-e-o-caneco-na-caneca/\">Caneca de Mamicas 116</a>, <a class=\"cat-item product-nerdcast\" href=\"https://jovemnerd.com.br/nerdcast/os-espetaculos-dos-super-bowl/\">NerdCast 868</a>, <a class=\"cat-item product-nerdcast\" href=\"https://jovemnerd.com.br/nerdcast/pele-sera-eterno/\">NerdCast 863</a>, <a class=\"cat-item product-nerdcast\" href=\"https://jovemnerd.com.br/nerdcast/vaitecatar/ja-estamos-com-saudades-foi-bom-demais/\">Vai te Catar 29</a>, <a class=\"cat-item product-nerdcast\" href=\"https://jovemnerd.com.br/nerdcast/vaitecatar/uma-final-pra-torcer-contra/\">Vai te Catar 28</a>, <a class=\"cat-item product-nerdcast\" href=\"https://jovemnerd.com.br/nerdcast/vaitecatar/uma-disputa-acirrada-pelo-4o-lugar/\">Vai te Catar 27</a>, <a class=\"cat-item product-nerdcast\" href=\"https://jovemnerd.com.br/nerdcast/vaitecatar/esquenta-para-a-final/\">Vai te Catar 26</a>, <a class=\"cat-item product-nerdcast\" href=\"https://jovemnerd.com.br/nerdcast/vaitecatar/final-finalmente-definida/\">Vai te Catar 25</a>, <a class=\"cat-item product-nerdcast\" href=\"https://jovemnerd.com.br/nerdcast/vaitecatar/o-messi-e-bom-demais/\">Vai te Catar 24</a>, <a class=\"cat-item product-nerdcast\" href=\"https://jovemnerd.com.br/nerdcast/vaitecatar/a-copa-para-mas-a-gente-nao/\">Vai te Catar 23</a>, <a class=\"cat-item product-nerdcast\" href=\"https://jovemnerd.com.br/nerdcast/vaitecatar/qual-sera-o-novo-tecnico-da-selecao/\">Vai te Catar 22</a>, <a class=\"cat-item product-nerdcast\" href=\"https://jovemnerd.com.br/nerdcast/vaitecatar/meu-marrocos-e-gigante/\">Vai te Catar 21</a>, <a class=\"cat-item product-nerdcast\" href=\"https://jovemnerd.com.br/nerdcast/vaitecatar/para-se-decepcionar-basta-estar-vivo/\">Vai te Catar 20</a>, <a class=\"cat-item product-nerdcast\" href=\"https://jovemnerd.com.br/nerdcast/vaitecatar/expectativas-para-as-quartas-de-final/\">Vai te Catar 19</a>, <a class=\"cat-item product-nerdcast\" href=\"https://jovemnerd.com.br/nerdcast/vaitecatar/errando-e-acertando-com-golaco-ramos/\">Vai te Catar 18</a>, <a class=\"cat-item product-nerdcast\" href=\"https://jovemnerd.com.br/nerdcast/vaitecatar/finalmente-a-selecao-estreou-na-copa/\">Vai te Catar 17</a>, <a class=\"cat-item product-nerdcast\" href=\"https://jovemnerd.com.br/nerdcast/vaitecatar/como-parar-kylian-mbappe/\">Vai te Catar 16</a>, <a class=\"cat-item product-nerdcast\" href=\"https://jovemnerd.com.br/nerdcast/vaitecatar/o-messi-e-brabo/\">Vai te Catar 15</a>, <a class=\"cat-item product-nerdcast\" href=\"https://jovemnerd.com.br/nerdcast/vaitecatar/alergia-a-camaroes/\">Vai te Catar 14</a>]\n",
            "Game of Thrones: [<a class=\"cat-item product-nerdcast\" href=\"https://jovemnerd.com.br/nerdcast/caneca-de-mamicas/recordar-e-viver/\">Caneca de Mamicas 133</a>, <a class=\"cat-item product-nerdcast\" href=\"https://jovemnerd.com.br/nerdcast/loki-2-o-glorioso-proposito-do-deus-da-trapaca/\">NerdCast 908</a>, <a class=\"cat-item product-nerdcast\" href=\"https://jovemnerd.com.br/nerdcast/la-do-bunker/nepotismo-e-brotheragem/\">Lá do Bunker 122</a>, <a class=\"cat-item product-nerdcast\" href=\"https://jovemnerd.com.br/nerdcast/caneca-de-mamicas/vizinhas-do-mickey/\">Caneca de Mamicas 132</a>, <a class=\"cat-item product-nerdcast\" href=\"https://jovemnerd.com.br/playlist/especial-rpg-cronicas-de-ghanor/\">2011 - 2012 - 2022 - 2023</a>, <a class=\"cat-item product-nerdcast\" href=\"https://jovemnerd.com.br/playlist/rpg-call-of-cthulhu/\">2017 - 2020</a>, <a class=\"cat-item product-nerdcast\" href=\"https://jovemnerd.com.br/playlist/rpg-cyberpunk/\">2013 - 2016</a>, <a class=\"cat-item product-nerdcast\" href=\"https://jovemnerd.com.br/nerdcast/la-do-bunker/taca-le-pau-no-medieval/\">Lá do Bunker 60</a>, <a class=\"cat-item product-nerdcast\" href=\"https://jovemnerd.com.br/nerdcast/la-do-bunker/isso-e-tao-2009/\">Lá do Bunker 59</a>, <a class=\"cat-item product-nerdcast\" href=\"https://jovemnerd.com.br/nerdcast/la-do-bunker/testemunho-da-empolgacao/\">Lá do Bunker 58</a>, <a class=\"cat-item product-nerdcast\" href=\"https://jovemnerd.com.br/nerdcast/la-do-bunker/atropelados-pela-cultura-pop/\">Lá do Bunker 54</a>, <a class=\"cat-item product-nerdcast\" href=\"https://jovemnerd.com.br/nerdcast/la-do-bunker/cachorro-nao-usa-chupeta/\">Lá do Bunker 49</a>, <a class=\"cat-item product-nerdcast\" href=\"https://jovemnerd.com.br/nerdcast/la-do-bunker/esquentando-a-casa-do-dragao/\">Lá do Bunker 48</a>, <a class=\"cat-item product-nerdcast\" href=\"https://jovemnerd.com.br/nerdcast/game-of-thrones-o-dificil-adeus/\">NerdCast 675</a>, <a class=\"cat-item product-nerdcast\" href=\"https://jovemnerd.com.br/nerdcast/bolao-game-of-thrones-ultima-temporada/\">NerdCast 668</a>, <a class=\"cat-item product-nerdcast\" href=\"https://jovemnerd.com.br/nerdcast/game-of-thrones-virou-fanfic/\">NerdCast 583</a>, <a class=\"cat-item product-nerdcast\" href=\"https://jovemnerd.com.br/nerdcast/game-of-thrones/\">NerdCast 523</a>, <a class=\"cat-item product-nerdcast\" href=\"https://jovemnerd.com.br/nerdcast/nerdcast-472-game-of-thrones-esqueca-o-livro/\">NerdCast 472</a>, <a class=\"cat-item product-nerdcast\" href=\"https://jovemnerd.com.br/nerdcast/nerdcast-420-na-guerra-dos-tronos-valar-morghulis/\">NerdCast 420</a>, <a class=\"cat-item product-nerdcast\" href=\"https://jovemnerd.com.br/nerdcast/nerdcast-368-a-previsivel-guerra-dos-tronos-dracarys/\">NerdCast 368</a>, <a class=\"cat-item product-nerdcast\" href=\"https://jovemnerd.com.br/nerdcast/nerdcast-258-a-imprevisivel-guerra-dos-tronos/\">NerdCast 258</a>]\n",
            "Games: [<a class=\"cat-item product-nerdcast\" href=\"https://jovemnerd.com.br/nerdcast/caneca-de-mamicas/recordar-e-viver/\">Caneca de Mamicas 133</a>, <a class=\"cat-item product-nerdcast\" href=\"https://jovemnerd.com.br/nerdcast/loki-2-o-glorioso-proposito-do-deus-da-trapaca/\">NerdCast 908</a>, <a class=\"cat-item product-nerdcast\" href=\"https://jovemnerd.com.br/nerdcast/la-do-bunker/nepotismo-e-brotheragem/\">Lá do Bunker 122</a>, <a class=\"cat-item product-nerdcast\" href=\"https://jovemnerd.com.br/nerdcast/caneca-de-mamicas/vizinhas-do-mickey/\">Caneca de Mamicas 132</a>, <a class=\"cat-item product-nerdcast\" href=\"https://jovemnerd.com.br/playlist/especial-rpg-cronicas-de-ghanor/\">2011 - 2012 - 2022 - 2023</a>, <a class=\"cat-item product-nerdcast\" href=\"https://jovemnerd.com.br/playlist/rpg-call-of-cthulhu/\">2017 - 2020</a>, <a class=\"cat-item product-nerdcast\" href=\"https://jovemnerd.com.br/playlist/rpg-cyberpunk/\">2013 - 2016</a>, <a class=\"cat-item product-nerdcast\" href=\"https://jovemnerd.com.br/nerdcast/bastidores-de-um-jogo-aaa/\">NerdCast 906</a>, <a class=\"cat-item product-nerdcast\" href=\"https://jovemnerd.com.br/nerdcast/la-do-bunker/abano-reciproco/\">Lá do Bunker 114</a>, <a class=\"cat-item product-nerdcast\" href=\"https://jovemnerd.com.br/nerdcast/la-do-bunker/tesao-por-engano/\">Lá do Bunker 113</a>, <a class=\"cat-item product-nerdcast\" href=\"https://jovemnerd.com.br/nerdcast/the-legend-of-zelda-ocarinas-sopros-e-lagrimas/\">NerdCast 883</a>, <a class=\"cat-item product-nerdcast\" href=\"https://jovemnerd.com.br/nerdcast/dungeons-dragons-alem-dos-livros/\">NerdCast 874</a>, <a class=\"cat-item product-nerdcast\" href=\"https://jovemnerd.com.br/nerdcast/la-do-bunker/maos-na-consciencia/\">Lá do Bunker 88</a>, <a class=\"cat-item product-nerdcast\" href=\"https://jovemnerd.com.br/nerdcast/nerdtech/paywall/\">NerdTech 85</a>, <a class=\"cat-item product-nerdcast\" href=\"https://jovemnerd.com.br/nerdcast/la-do-bunker/chefes-audaciosos/\">Lá do Bunker 81</a>, <a class=\"cat-item product-nerdcast\" href=\"https://jovemnerd.com.br/nerdcast/la-do-bunker/boleira-arrependida/\">Lá do Bunker 71</a>, <a class=\"cat-item product-nerdcast\" href=\"https://jovemnerd.com.br/nerdcast/extra/magic-the-gathering-e-lore-pra-todo-mundo/\">Extra Oferecido por Magic: The Gathering</a>, <a class=\"cat-item product-nerdcast\" href=\"https://jovemnerd.com.br/nerdcast/la-do-bunker/paquera-espacial/\">Lá do Bunker 61</a>, <a class=\"cat-item product-nerdcast\" href=\"https://jovemnerd.com.br/nerdcast/la-do-bunker/isso-e-tao-2009/\">Lá do Bunker 59</a>, <a class=\"cat-item product-nerdcast\" href=\"https://jovemnerd.com.br/nerdcast/la-do-bunker/testemunho-da-empolgacao/\">Lá do Bunker 58</a>, <a class=\"cat-item product-nerdcast\" href=\"https://jovemnerd.com.br/nerdcast/la-do-bunker/virgem-de-o-senhor-dos-aneis/\">Lá do Bunker 57</a>, <a class=\"cat-item product-nerdcast\" href=\"https://jovemnerd.com.br/nerdcast/as-profissoes-do-futuro/\">NerdCast 842</a>, <a class=\"cat-item product-nerdcast\" href=\"https://jovemnerd.com.br/nerdcast/papo-de-parceiro/marcando-gols-no-e-commerce-esportivo/\">Papo de Parceiro 12</a>, <a class=\"cat-item product-nerdcast\" href=\"https://jovemnerd.com.br/nerdcast/la-do-bunker/autocritica-e-game-over/\">Lá do Bunker 53</a>, <a class=\"cat-item product-nerdcast\" href=\"https://jovemnerd.com.br/nerdcast/la-do-bunker/a-vida-real-e-terrivel/\">Lá do Bunker 50</a>, <a class=\"cat-item product-nerdcast\" href=\"https://jovemnerd.com.br/nerdcast/nerdtech/games-monetizados/\">NerdTech 77</a>, <a class=\"cat-item product-nerdcast\" href=\"https://jovemnerd.com.br/nerdcast/la-do-bunker/a-hora-do-mundo-aberto/\">Lá do Bunker 46</a>]\n",
            "Gastronomia: [<a class=\"cat-item product-nerdcast\" href=\"https://jovemnerd.com.br/nerdcast/caneca-de-mamicas/recordar-e-viver/\">Caneca de Mamicas 133</a>, <a class=\"cat-item product-nerdcast\" href=\"https://jovemnerd.com.br/nerdcast/loki-2-o-glorioso-proposito-do-deus-da-trapaca/\">NerdCast 908</a>, <a class=\"cat-item product-nerdcast\" href=\"https://jovemnerd.com.br/nerdcast/la-do-bunker/nepotismo-e-brotheragem/\">Lá do Bunker 122</a>, <a class=\"cat-item product-nerdcast\" href=\"https://jovemnerd.com.br/nerdcast/caneca-de-mamicas/vizinhas-do-mickey/\">Caneca de Mamicas 132</a>, <a class=\"cat-item product-nerdcast\" href=\"https://jovemnerd.com.br/playlist/especial-rpg-cronicas-de-ghanor/\">2011 - 2012 - 2022 - 2023</a>, <a class=\"cat-item product-nerdcast\" href=\"https://jovemnerd.com.br/playlist/rpg-call-of-cthulhu/\">2017 - 2020</a>, <a class=\"cat-item product-nerdcast\" href=\"https://jovemnerd.com.br/playlist/rpg-cyberpunk/\">2013 - 2016</a>, <a class=\"cat-item product-nerdcast\" href=\"https://jovemnerd.com.br/nerdcast/the-waffle-king-brasil-a-retencao-do-sabor/\">NerdCast Extra oferecido por The Waffle King</a>, <a class=\"cat-item product-nerdcast\" href=\"https://jovemnerd.com.br/nerdcast/papo-de-parceiro/quebrando-galhos-no-brasil-inteiro/\">Papo de Parceiro 13</a>, <a class=\"cat-item product-nerdcast\" href=\"https://jovemnerd.com.br/nerdcast/la-do-bunker/virgem-de-o-senhor-dos-aneis/\">Lá do Bunker 57</a>, <a class=\"cat-item product-nerdcast\" href=\"https://jovemnerd.com.br/nerdcast/caneca-de-mamicas/o-lado-zen-da-vida/\">Caneca de Mamicas 67</a>, <a class=\"cat-item product-nerdcast\" href=\"https://jovemnerd.com.br/nerdcast/nerdtech/o-mercado-pos-pandemia/\">NerdTech 78</a>, <a class=\"cat-item product-nerdcast\" href=\"https://jovemnerd.com.br/nerdcast/papo-de-parceiro/marcando-gols-no-e-commerce-esportivo/\">Papo de Parceiro 12</a>, <a class=\"cat-item product-nerdcast\" href=\"https://jovemnerd.com.br/nerdcast/caneca-de-mamicas/sem-voce-meu-amor-eu-nao-sou-ninguem/\">Caneca de Mamicas 52</a>, <a class=\"cat-item product-nerdcast\" href=\"https://jovemnerd.com.br/nerdcast/larica-total-10-anos-da-cozinha-de-guerrilha/\">NerdCast 819</a>, <a class=\"cat-item product-nerdcast\" href=\"https://jovemnerd.com.br/nerdcast/generacast/nao-e-dieta-e-genetica/\">Generacast 08</a>, <a class=\"cat-item product-nerdcast\" href=\"https://jovemnerd.com.br/nerdcast/caneca-de-mamicas/vai-catar-coquinho/\">Caneca de Mamicas 41</a>, <a class=\"cat-item product-nerdcast\" href=\"https://jovemnerd.com.br/nerdcast/caneca-de-mamicas/em-terra-de-cafezes-quem-tem-jacu-e-rei/\">Caneca de Mamicas 40</a>, <a class=\"cat-item product-nerdcast\" href=\"https://jovemnerd.com.br/nerdcast/speak-english/comendo-em-ingles/\">Speak English 29</a>, <a class=\"cat-item product-nerdcast\" href=\"https://jovemnerd.com.br/nerdcast/churrasco-no-marmore-do-inferno/\">NerdCast 694</a>, <a class=\"cat-item product-nerdcast\" href=\"https://jovemnerd.com.br/nerdcast/comidas-horriveis/\">NerdCast 647</a>, <a class=\"cat-item product-nerdcast\" href=\"https://jovemnerd.com.br/nerdcast/segredos-dos-restaurantes/\">NerdCast 606</a>, <a class=\"cat-item product-nerdcast\" href=\"https://jovemnerd.com.br/nerdcast/o-melhor-hamburguer-do-brasil/\">NerdCast 586</a>, <a class=\"cat-item product-nerdcast\" href=\"https://jovemnerd.com.br/nerdcast/junk-food/\">NerdCast 585</a>, <a class=\"cat-item product-nerdcast\" href=\"https://jovemnerd.com.br/nerdcast/nerdcast-504-comfort-food/\">NerdCast 504</a>, <a class=\"cat-item product-nerdcast\" href=\"https://jovemnerd.com.br/nerdcast/nerdcast-434-nerds-cervejeiros-2/\">NerdCast 434</a>, <a class=\"cat-item product-nerdcast\" href=\"https://jovemnerd.com.br/nerdcast/nerdcast-355-eu-so-quero-chocolate/\">NerdCast 355</a>]\n",
            "História: [<a class=\"cat-item product-nerdcast\" href=\"https://jovemnerd.com.br/nerdcast/caneca-de-mamicas/recordar-e-viver/\">Caneca de Mamicas 133</a>, <a class=\"cat-item product-nerdcast\" href=\"https://jovemnerd.com.br/nerdcast/loki-2-o-glorioso-proposito-do-deus-da-trapaca/\">NerdCast 908</a>, <a class=\"cat-item product-nerdcast\" href=\"https://jovemnerd.com.br/nerdcast/la-do-bunker/nepotismo-e-brotheragem/\">Lá do Bunker 122</a>, <a class=\"cat-item product-nerdcast\" href=\"https://jovemnerd.com.br/nerdcast/caneca-de-mamicas/vizinhas-do-mickey/\">Caneca de Mamicas 132</a>, <a class=\"cat-item product-nerdcast\" href=\"https://jovemnerd.com.br/playlist/especial-rpg-cronicas-de-ghanor/\">2011 - 2012 - 2022 - 2023</a>, <a class=\"cat-item product-nerdcast\" href=\"https://jovemnerd.com.br/playlist/rpg-call-of-cthulhu/\">2017 - 2020</a>, <a class=\"cat-item product-nerdcast\" href=\"https://jovemnerd.com.br/playlist/rpg-cyberpunk/\">2013 - 2016</a>, <a class=\"cat-item product-nerdcast\" href=\"https://jovemnerd.com.br/nerdcast/oppenheimer-e-o-poder-politico-do-atomo/\">NerdCast 891</a>, <a class=\"cat-item product-nerdcast\" href=\"https://jovemnerd.com.br/nerdcast/caneca-de-mamicas/as-garrafas-de-sendler/\">Caneca de Mamicas 93</a>, <a class=\"cat-item product-nerdcast\" href=\"https://jovemnerd.com.br/nerdcast/as-guerras-do-opio/\">NerdCast 867</a>, <a class=\"cat-item product-nerdcast\" href=\"https://jovemnerd.com.br/nerdcast/a-ascensao-do-fascismo/\">NerdCast 849</a>, <a class=\"cat-item product-nerdcast\" href=\"https://jovemnerd.com.br/nerdcast/generacast/fofocas-da-genetica-medieval/\">Generacast 11</a>, <a class=\"cat-item product-nerdcast\" href=\"https://jovemnerd.com.br/nerdcast/o-poder-de-roma/\">NerdCast 844</a>, <a class=\"cat-item product-nerdcast\" href=\"https://jovemnerd.com.br/nerdcast/la-do-bunker/virgem-de-o-senhor-dos-aneis/\">Lá do Bunker 57</a>, <a class=\"cat-item product-nerdcast\" href=\"https://jovemnerd.com.br/nerdcast/caneca-de-mamicas/nosso-microfone-nao-sera-desplugado/\">Caneca de Mamicas 66</a>, <a class=\"cat-item product-nerdcast\" href=\"https://jovemnerd.com.br/nerdcast/caneca-de-mamicas/direitos-nao-escritos-sao-palavras-ao-vento/\">Caneca de Mamicas 65</a>, <a class=\"cat-item product-nerdcast\" href=\"https://jovemnerd.com.br/nerdcast/generacast/genes-cheiros-e-encontros/\">Generacast 10</a>, <a class=\"cat-item product-nerdcast\" href=\"https://jovemnerd.com.br/nerdcast/la-do-bunker/cachorro-nao-usa-chupeta/\">Lá do Bunker 49</a>, <a class=\"cat-item product-nerdcast\" href=\"https://jovemnerd.com.br/nerdcast/o-espaco-disputado/\">NerdCast 835</a>, <a class=\"cat-item product-nerdcast\" href=\"https://jovemnerd.com.br/nerdcast/a-historia-da-ucrania/\">NerdCast 821</a>, <a class=\"cat-item product-nerdcast\" href=\"https://jovemnerd.com.br/nerdcast/pra-entender-o-afeganistao/\">NerdCast 793</a>, <a class=\"cat-item product-nerdcast\" href=\"https://jovemnerd.com.br/nerdcast/egiptologia-tutancamon-napoleao-e-durepox-arqueologico/\">NerdCast 790</a>, <a class=\"cat-item product-nerdcast\" href=\"https://jovemnerd.com.br/nerdcast/piratas-no-brasil/\">NerdCast 776</a>, <a class=\"cat-item product-nerdcast\" href=\"https://jovemnerd.com.br/nerdcast/historia-vs-ficcao-2/\">NerdCast 771</a>, <a class=\"cat-item product-nerdcast\" href=\"https://jovemnerd.com.br/nerdcast/roma-barbara-e-decadente/\">NerdCast 755</a>, <a class=\"cat-item product-nerdcast\" href=\"https://jovemnerd.com.br/nerdcast/underground-railroad-jornadas-para-a-liberdade/\">NerdCast 752</a>, <a class=\"cat-item product-nerdcast\" href=\"https://jovemnerd.com.br/nerdcast/as-maiores-invencoes-da-historia/\">NerdCast 744</a>]\n",
            "História Alternativa: [<a class=\"cat-item product-nerdcast\" href=\"https://jovemnerd.com.br/nerdcast/caneca-de-mamicas/recordar-e-viver/\">Caneca de Mamicas 133</a>, <a class=\"cat-item product-nerdcast\" href=\"https://jovemnerd.com.br/nerdcast/loki-2-o-glorioso-proposito-do-deus-da-trapaca/\">NerdCast 908</a>, <a class=\"cat-item product-nerdcast\" href=\"https://jovemnerd.com.br/nerdcast/la-do-bunker/nepotismo-e-brotheragem/\">Lá do Bunker 122</a>, <a class=\"cat-item product-nerdcast\" href=\"https://jovemnerd.com.br/nerdcast/caneca-de-mamicas/vizinhas-do-mickey/\">Caneca de Mamicas 132</a>, <a class=\"cat-item product-nerdcast\" href=\"https://jovemnerd.com.br/playlist/especial-rpg-cronicas-de-ghanor/\">2011 - 2012 - 2022 - 2023</a>, <a class=\"cat-item product-nerdcast\" href=\"https://jovemnerd.com.br/playlist/rpg-call-of-cthulhu/\">2017 - 2020</a>, <a class=\"cat-item product-nerdcast\" href=\"https://jovemnerd.com.br/playlist/rpg-cyberpunk/\">2013 - 2016</a>, <a class=\"cat-item product-nerdcast\" href=\"https://jovemnerd.com.br/nerdcast/a-batalha-dos-crossovers-11/\">NerdCast 895</a>, <a class=\"cat-item product-nerdcast\" href=\"https://jovemnerd.com.br/nerdcast/caneca-de-mamicas/futuro-alternativo/\">Caneca de Mamicas 114</a>, <a class=\"cat-item product-nerdcast\" href=\"https://jovemnerd.com.br/nerdcast/generacast/fofocas-da-genetica-medieval/\">Generacast 11</a>, <a class=\"cat-item product-nerdcast\" href=\"https://jovemnerd.com.br/nerdcast/la-do-bunker/virgem-de-o-senhor-dos-aneis/\">Lá do Bunker 57</a>, <a class=\"cat-item product-nerdcast\" href=\"https://jovemnerd.com.br/nerdcast/caneca-de-mamicas/nosso-microfone-nao-sera-desplugado/\">Caneca de Mamicas 66</a>, <a class=\"cat-item product-nerdcast\" href=\"https://jovemnerd.com.br/nerdcast/la-do-bunker/autocritica-e-game-over/\">Lá do Bunker 53</a>, <a class=\"cat-item product-nerdcast\" href=\"https://jovemnerd.com.br/nerdcast/a-batalha-dos-crossovers-10/\">NerdCast 816</a>, <a class=\"cat-item product-nerdcast\" href=\"https://jovemnerd.com.br/nerdcast/a-batalha-dos-crossovers-9/\">NerdCast 766</a>, <a class=\"cat-item product-nerdcast\" href=\"https://jovemnerd.com.br/nerdcast/a-batalha-dos-crossovers-8/\">NerdCast 688</a>, <a class=\"cat-item product-nerdcast\" href=\"https://jovemnerd.com.br/nerdcast/o-mundo-depois-de-thanos/\">NerdCast 632</a>, <a class=\"cat-item product-nerdcast\" href=\"https://jovemnerd.com.br/nerdcast/e-se-o-brasil-fosse-colonizado-por-outras-potencias/\">NerdCast 615</a>, <a class=\"cat-item product-nerdcast\" href=\"https://jovemnerd.com.br/nerdcast/batalha-dos-crossovers-7/\">NerdCast 605</a>, <a class=\"cat-item product-nerdcast\" href=\"https://jovemnerd.com.br/nerdcast/a-batalha-dos-crossovers-6/\">NerdCast 537</a>, <a class=\"cat-item product-nerdcast\" href=\"https://jovemnerd.com.br/nerdcast/nerdcast-488-a-batalha-dos-crossovers-5/\">NerdCast 488</a>, <a class=\"cat-item product-nerdcast\" href=\"https://jovemnerd.com.br/nerdcast/nerdcast-451-como-sera-a-terceira-guerra-mundial/\">NerdCast 451</a>, <a class=\"cat-item product-nerdcast\" href=\"https://jovemnerd.com.br/nerdcast/nerdcast-362-as-guerras-dos-anjos-da-morte/\">NerdCast 362</a>, <a class=\"cat-item product-nerdcast\" href=\"https://jovemnerd.com.br/nerdcast/nerdcast-361-a-batalha-dos-crossovers-4/\">NerdCast 361</a>, <a class=\"cat-item product-nerdcast\" href=\"https://jovemnerd.com.br/nerdcast/nerdcast-305-a-batalha-dos-crossovers-3/\">NerdCast 305</a>, <a class=\"cat-item product-nerdcast\" href=\"https://jovemnerd.com.br/nerdcast/nerdcast-277-a-batalha-dos-crossovers-2/\">NerdCast 277</a>, <a class=\"cat-item product-nerdcast\" href=\"https://jovemnerd.com.br/nerdcast/nerdcast-248-a-batalha-dos-crossovers/\">NerdCast 248</a>]\n",
            "Internet: [<a class=\"cat-item product-nerdcast\" href=\"https://jovemnerd.com.br/nerdcast/caneca-de-mamicas/recordar-e-viver/\">Caneca de Mamicas 133</a>, <a class=\"cat-item product-nerdcast\" href=\"https://jovemnerd.com.br/nerdcast/loki-2-o-glorioso-proposito-do-deus-da-trapaca/\">NerdCast 908</a>, <a class=\"cat-item product-nerdcast\" href=\"https://jovemnerd.com.br/nerdcast/la-do-bunker/nepotismo-e-brotheragem/\">Lá do Bunker 122</a>, <a class=\"cat-item product-nerdcast\" href=\"https://jovemnerd.com.br/nerdcast/caneca-de-mamicas/vizinhas-do-mickey/\">Caneca de Mamicas 132</a>, <a class=\"cat-item product-nerdcast\" href=\"https://jovemnerd.com.br/playlist/especial-rpg-cronicas-de-ghanor/\">2011 - 2012 - 2022 - 2023</a>, <a class=\"cat-item product-nerdcast\" href=\"https://jovemnerd.com.br/playlist/rpg-call-of-cthulhu/\">2017 - 2020</a>, <a class=\"cat-item product-nerdcast\" href=\"https://jovemnerd.com.br/playlist/rpg-cyberpunk/\">2013 - 2016</a>, <a class=\"cat-item product-nerdcast\" href=\"https://jovemnerd.com.br/nerdcast/as-incriveis-vozes-de-franca-e-o-labirinto/\">NerdCast 898</a>, <a class=\"cat-item product-nerdcast\" href=\"https://jovemnerd.com.br/nerdcast/caneca-de-mamicas/barbie-e-seus-50-tons-de-rosa/\">Caneca de Mamicas 118</a>, <a class=\"cat-item product-nerdcast\" href=\"https://jovemnerd.com.br/nerdcast/nerdtech/rinha-de-bilionario-tech/\">NerdTech 90</a>, <a class=\"cat-item product-nerdcast\" href=\"https://jovemnerd.com.br/nerdcast/nerdtech/oculos-vr-e-a-visao-alem-do-bolso/\">NerdTech 89</a>, <a class=\"cat-item product-nerdcast\" href=\"https://jovemnerd.com.br/nerdcast/caneca-de-mamicas/vozes-da-resistencia/\">Caneca de Mamicas 109</a>, <a class=\"cat-item product-nerdcast\" href=\"https://jovemnerd.com.br/nerdcast/la-do-bunker/esqueca-tudo-o-que-conhece/\">Lá do Bunker 97</a>, <a class=\"cat-item product-nerdcast\" href=\"https://jovemnerd.com.br/nerdcast/nerdtech/automacao-no-code-para-gerente-de-produtos/\">NerdTech 87</a>, <a class=\"cat-item product-nerdcast\" href=\"https://jovemnerd.com.br/nerdcast/la-do-bunker/trauma-coletivo/\">Lá do Bunker 91</a>, <a class=\"cat-item product-nerdcast\" href=\"https://jovemnerd.com.br/nerdcast/la-do-bunker/maos-na-consciencia/\">Lá do Bunker 88</a>, <a class=\"cat-item product-nerdcast\" href=\"https://jovemnerd.com.br/nerdcast/nerdtech/paywall/\">NerdTech 85</a>, <a class=\"cat-item product-nerdcast\" href=\"https://jovemnerd.com.br/nerdcast/la-do-bunker/prevendo-o-inesperado/\">Lá do Bunker 85</a>, <a class=\"cat-item product-nerdcast\" href=\"https://jovemnerd.com.br/nerdcast/la-do-bunker/a-lista-de-natal-do-jovem-nerd/\">Lá do Bunker  Extra</a>, <a class=\"cat-item product-nerdcast\" href=\"https://jovemnerd.com.br/nerdcast/la-do-bunker/heroi-hablando/\">Lá do Bunker 75</a>, <a class=\"cat-item product-nerdcast\" href=\"https://jovemnerd.com.br/nerdcast/nerdtech/desbravando-o-vale-do-silicio-big-techs-e-a-carteira/\">NerdTech 82</a>, <a class=\"cat-item product-nerdcast\" href=\"https://jovemnerd.com.br/nerdcast/la-do-bunker/el-bruxeiro-mexicano/\">Lá do Bunker 69</a>, <a class=\"cat-item product-nerdcast\" href=\"https://jovemnerd.com.br/nerdcast/papo-de-parceiro/nadando-no-oceano-vermelho-do-mercado-de-jogos/\">Papo de Parceiro 15</a>, <a class=\"cat-item product-nerdcast\" href=\"https://jovemnerd.com.br/nerdcast/nerdtech/engenheiros-de-arte-gerativa/\">NerdTech 80</a>, <a class=\"cat-item product-nerdcast\" href=\"https://jovemnerd.com.br/nerdcast/papo-de-parceiro/magalu-coletas-entrega-ultra-rapida-e-fulfillment/\">Papo de Parceiro 14</a>, <a class=\"cat-item product-nerdcast\" href=\"https://jovemnerd.com.br/nerdcast/extra/criando-produtos-e-assinaturas-digitais/\">Extra Oferecido por Zapsign</a>, <a class=\"cat-item product-nerdcast\" href=\"https://jovemnerd.com.br/nerdcast/la-do-bunker/paquera-espacial/\">Lá do Bunker 61</a>]\n",
            "Lendas e Mistérios: [<a class=\"cat-item product-nerdcast\" href=\"https://jovemnerd.com.br/nerdcast/caneca-de-mamicas/recordar-e-viver/\">Caneca de Mamicas 133</a>, <a class=\"cat-item product-nerdcast\" href=\"https://jovemnerd.com.br/nerdcast/loki-2-o-glorioso-proposito-do-deus-da-trapaca/\">NerdCast 908</a>, <a class=\"cat-item product-nerdcast\" href=\"https://jovemnerd.com.br/nerdcast/la-do-bunker/nepotismo-e-brotheragem/\">Lá do Bunker 122</a>, <a class=\"cat-item product-nerdcast\" href=\"https://jovemnerd.com.br/nerdcast/caneca-de-mamicas/vizinhas-do-mickey/\">Caneca de Mamicas 132</a>, <a class=\"cat-item product-nerdcast\" href=\"https://jovemnerd.com.br/playlist/especial-rpg-cronicas-de-ghanor/\">2011 - 2012 - 2022 - 2023</a>, <a class=\"cat-item product-nerdcast\" href=\"https://jovemnerd.com.br/playlist/rpg-call-of-cthulhu/\">2017 - 2020</a>, <a class=\"cat-item product-nerdcast\" href=\"https://jovemnerd.com.br/playlist/rpg-cyberpunk/\">2013 - 2016</a>, <a class=\"cat-item product-nerdcast\" href=\"https://jovemnerd.com.br/nerdcast/la-do-bunker/virgem-de-o-senhor-dos-aneis/\">Lá do Bunker 57</a>, <a class=\"cat-item product-nerdcast\" href=\"https://jovemnerd.com.br/nerdcast/la-do-bunker/a-vida-real-e-terrivel/\">Lá do Bunker 50</a>, <a class=\"cat-item product-nerdcast\" href=\"https://jovemnerd.com.br/nerdcast/la-do-bunker/esquentando-a-casa-do-dragao/\">Lá do Bunker 48</a>, <a class=\"cat-item product-nerdcast\" href=\"https://jovemnerd.com.br/nerdcast/nerdcast-430-alguns-misterios-da-humanidade/\">NerdCast 430</a>, <a class=\"cat-item product-nerdcast\" href=\"https://jovemnerd.com.br/nerdcast/nerdcast-409-alienigenas-do-passado/\">NerdCast 409</a>, <a class=\"cat-item product-nerdcast\" href=\"https://jovemnerd.com.br/nerdcast/nerdcast-281-supersticoes-mandingas-e-farofa/\">NerdCast 281</a>, <a class=\"cat-item product-nerdcast\" href=\"https://jovemnerd.com.br/nerdcast/nerdcast-270-de-nordico-e-louco-todo-mito-tem-um-pouco/\">NerdCast 270</a>, <a class=\"cat-item product-nerdcast\" href=\"https://jovemnerd.com.br/nerdcast/nerdcast-232-dragoes-monstros-e-o-impronunciavel-cthulhu/\">NerdCast 232</a>, <a class=\"cat-item product-nerdcast\" href=\"https://jovemnerd.com.br/nerdcast/nerdcast-226-sociedade-secreta-s-a/\">NerdCast 226</a>, <a class=\"cat-item product-nerdcast\" href=\"https://jovemnerd.com.br/nerdcast/nerdcast-205b-homens-e-monstros-da-mitologia-grega/\">NerdCast 205</a>, <a class=\"cat-item product-nerdcast\" href=\"https://jovemnerd.com.br/nerdcast/nerdcast-205a-teogonia-da-mitologia-grega/\">NerdCast 205</a>, <a class=\"cat-item product-nerdcast\" href=\"https://jovemnerd.com.br/nerdcast/nerdcast-197-o-sobrenatural-ecziste-ou-nao/\">NerdCast 197</a>, <a class=\"cat-item product-nerdcast\" href=\"https://jovemnerd.com.br/nerdcast/nerdcast-181-nerdcast-para-nao-humanos/\">NerdCast 181</a>, <a class=\"cat-item product-nerdcast\" href=\"https://jovemnerd.com.br/nerdcast/nerdcast-112b-contatos-imediatos-ou-ligue-mais-tarde/\">NerdCast 112b</a>, <a class=\"cat-item product-nerdcast\" href=\"https://jovemnerd.com.br/nerdcast/nerdcast-112a-ovni-objeto-voador-nerd-identificado/\">NerdCast 112a</a>]\n",
            "Literatura: [<a class=\"cat-item product-nerdcast\" href=\"https://jovemnerd.com.br/nerdcast/caneca-de-mamicas/recordar-e-viver/\">Caneca de Mamicas 133</a>, <a class=\"cat-item product-nerdcast\" href=\"https://jovemnerd.com.br/nerdcast/loki-2-o-glorioso-proposito-do-deus-da-trapaca/\">NerdCast 908</a>, <a class=\"cat-item product-nerdcast\" href=\"https://jovemnerd.com.br/nerdcast/la-do-bunker/nepotismo-e-brotheragem/\">Lá do Bunker 122</a>, <a class=\"cat-item product-nerdcast\" href=\"https://jovemnerd.com.br/nerdcast/caneca-de-mamicas/vizinhas-do-mickey/\">Caneca de Mamicas 132</a>, <a class=\"cat-item product-nerdcast\" href=\"https://jovemnerd.com.br/playlist/especial-rpg-cronicas-de-ghanor/\">2011 - 2012 - 2022 - 2023</a>, <a class=\"cat-item product-nerdcast\" href=\"https://jovemnerd.com.br/playlist/rpg-call-of-cthulhu/\">2017 - 2020</a>, <a class=\"cat-item product-nerdcast\" href=\"https://jovemnerd.com.br/playlist/rpg-cyberpunk/\">2013 - 2016</a>, <a class=\"cat-item product-nerdcast\" href=\"https://jovemnerd.com.br/nerdcast/la-do-bunker/virgem-de-o-senhor-dos-aneis/\">Lá do Bunker 57</a>, <a class=\"cat-item product-nerdcast\" href=\"https://jovemnerd.com.br/nerdcast/caneca-de-mamicas/o-lado-zen-da-vida/\">Caneca de Mamicas 67</a>, <a class=\"cat-item product-nerdcast\" href=\"https://jovemnerd.com.br/nerdcast/caneca-de-mamicas/nosso-microfone-nao-sera-desplugado/\">Caneca de Mamicas 66</a>, <a class=\"cat-item product-nerdcast\" href=\"https://jovemnerd.com.br/nerdcast/la-do-bunker/autocritica-e-game-over/\">Lá do Bunker 53</a>, <a class=\"cat-item product-nerdcast\" href=\"https://jovemnerd.com.br/nerdcast/la-do-bunker/a-vida-real-e-terrivel/\">Lá do Bunker 50</a>, <a class=\"cat-item product-nerdcast\" href=\"https://jovemnerd.com.br/nerdcast/la-do-bunker/cachorro-nao-usa-chupeta/\">Lá do Bunker 49</a>, <a class=\"cat-item product-nerdcast\" href=\"https://jovemnerd.com.br/nerdcast/la-do-bunker/esquentando-a-casa-do-dragao/\">Lá do Bunker 48</a>, <a class=\"cat-item product-nerdcast\" href=\"https://jovemnerd.com.br/nerdcast/la-do-bunker/a-hora-do-mundo-aberto/\">Lá do Bunker 46</a>, <a class=\"cat-item product-nerdcast\" href=\"https://jovemnerd.com.br/nerdcast/la-do-bunker/os-inimigos-do-hype/\">Lá do Bunker 44</a>, <a class=\"cat-item product-nerdcast\" href=\"https://jovemnerd.com.br/nerdcast/caneca-de-mamicas/sou-poliglota-mas-so-no-amooor/\">Caneca de Mamicas 51</a>, <a class=\"cat-item product-nerdcast\" href=\"https://jovemnerd.com.br/nerdcast/fundacao-bom-dia-boa-tarde-e-boa-noite/\">NerdCast 806</a>, <a class=\"cat-item product-nerdcast\" href=\"https://jovemnerd.com.br/nerdcast/traduzindo-o-senhor-dos-aneis/\">NerdCast 704</a>, <a class=\"cat-item product-nerdcast\" href=\"https://jovemnerd.com.br/nerdcast/nerdcast-522-co-autoria-escrevendo-a-3-4-ou-6-maos/\">NerdCast 522</a>, <a class=\"cat-item product-nerdcast\" href=\"https://jovemnerd.com.br/nerdcast/nerdcast-491-filhos-do-eden-e-o-fim-de-tudo/\">NerdCast 491</a>, <a class=\"cat-item product-nerdcast\" href=\"https://jovemnerd.com.br/nerdcast/nerdcast-472-game-of-thrones-esqueca-o-livro/\">NerdCast 472</a>, <a class=\"cat-item product-nerdcast\" href=\"https://jovemnerd.com.br/nerdcast/nerdcast-471-elementar-meu-caro-nerd/\">NerdCast 471</a>, <a class=\"cat-item product-nerdcast\" href=\"https://jovemnerd.com.br/nerdcast/nerdcast-435-criacao-de-mundos/\">NerdCast 435</a>, <a class=\"cat-item product-nerdcast\" href=\"https://jovemnerd.com.br/nerdcast/nerdcast-406-o-obscuro-e-iluminado-stephen-king/\">NerdCast 406</a>, <a class=\"cat-item product-nerdcast\" href=\"https://jovemnerd.com.br/nerdcast/nerdcast-385-os-segredos-publicos-de-tom-clancy/\">NerdCast 385</a>, <a class=\"cat-item product-nerdcast\" href=\"https://jovemnerd.com.br/nerdcast/nerdcast-379-literatura-fantastica-brasileira/\">NerdCast 379</a>]\n",
            "Lost: [<a class=\"cat-item product-nerdcast\" href=\"https://jovemnerd.com.br/nerdcast/caneca-de-mamicas/recordar-e-viver/\">Caneca de Mamicas 133</a>, <a class=\"cat-item product-nerdcast\" href=\"https://jovemnerd.com.br/nerdcast/loki-2-o-glorioso-proposito-do-deus-da-trapaca/\">NerdCast 908</a>, <a class=\"cat-item product-nerdcast\" href=\"https://jovemnerd.com.br/nerdcast/la-do-bunker/nepotismo-e-brotheragem/\">Lá do Bunker 122</a>, <a class=\"cat-item product-nerdcast\" href=\"https://jovemnerd.com.br/nerdcast/caneca-de-mamicas/vizinhas-do-mickey/\">Caneca de Mamicas 132</a>, <a class=\"cat-item product-nerdcast\" href=\"https://jovemnerd.com.br/playlist/especial-rpg-cronicas-de-ghanor/\">2011 - 2012 - 2022 - 2023</a>, <a class=\"cat-item product-nerdcast\" href=\"https://jovemnerd.com.br/playlist/rpg-call-of-cthulhu/\">2017 - 2020</a>, <a class=\"cat-item product-nerdcast\" href=\"https://jovemnerd.com.br/playlist/rpg-cyberpunk/\">2013 - 2016</a>, <a class=\"cat-item product-nerdcast\" href=\"https://jovemnerd.com.br/nerdcast/nerdcast-219-lost-desabafo/\">NerdCast 219</a>, <a class=\"cat-item product-nerdcast\" href=\"https://jovemnerd.com.br/nerdcast/nerdcast-210-lost-5-teorias-antes-do-fim/\">NerdCast 210</a>, <a class=\"cat-item product-nerdcast\" href=\"https://jovemnerd.com.br/nerdcast/nerdcast-168b-lost-what-about-us/\">NerdCast 168b</a>, <a class=\"cat-item product-nerdcast\" href=\"https://jovemnerd.com.br/nerdcast/nerdcast-168a-lost-uma-serie-de-camadas/\">NerdCast 168a</a>, <a class=\"cat-item product-nerdcast\" href=\"https://jovemnerd.com.br/nerdcast/nerdcast-116b-lost-uma-serie-de-futuro-do-preterito/\">NerdCast 116b</a>, <a class=\"cat-item product-nerdcast\" href=\"https://jovemnerd.com.br/nerdcast/nerdcast-116a-lost-a-volta-dos-que-nao-foram/\">NerdCast 116a</a>, <a class=\"cat-item product-nerdcast\" href=\"https://jovemnerd.com.br/nerdcast/nerdcast-76b-lost-eu-acredito-em-jacob-ou-nao/\">NerdCast 76b</a>, <a class=\"cat-item product-nerdcast\" href=\"https://jovemnerd.com.br/nerdcast/nerdcast-76a-lost-malditos-mind-games/\">NerdCast 76a</a>, <a class=\"cat-item product-nerdcast\" href=\"https://jovemnerd.com.br/nerdcast/nerdcast-42-perdidos-e-sem-respostas/\">NerdCast 42</a>, <a class=\"cat-item product-nerdcast\" href=\"https://jovemnerd.com.br/nerdcast/nerdcast-28b-orientation-0-of-6-the-nerd/\">NerdCast 28b</a>, <a class=\"cat-item product-nerdcast\" href=\"https://jovemnerd.com.br/nerdcast/nerdcast-28a-4-8-15-16-23-42/\">NerdCast 28a</a>]\n",
            "MAIS POPULARES: [<a class=\"cat-item product-nerdcast\" href=\"https://jovemnerd.com.br/nerdcast/caneca-de-mamicas/recordar-e-viver/\">Caneca de Mamicas 133</a>, <a class=\"cat-item product-nerdcast\" href=\"https://jovemnerd.com.br/nerdcast/loki-2-o-glorioso-proposito-do-deus-da-trapaca/\">NerdCast 908</a>, <a class=\"cat-item product-nerdcast\" href=\"https://jovemnerd.com.br/nerdcast/la-do-bunker/nepotismo-e-brotheragem/\">Lá do Bunker 122</a>, <a class=\"cat-item product-nerdcast\" href=\"https://jovemnerd.com.br/nerdcast/caneca-de-mamicas/vizinhas-do-mickey/\">Caneca de Mamicas 132</a>, <a class=\"cat-item product-nerdcast\" href=\"https://jovemnerd.com.br/playlist/especial-rpg-cronicas-de-ghanor/\">2011 - 2012 - 2022 - 2023</a>, <a class=\"cat-item product-nerdcast\" href=\"https://jovemnerd.com.br/playlist/rpg-call-of-cthulhu/\">2017 - 2020</a>, <a class=\"cat-item product-nerdcast\" href=\"https://jovemnerd.com.br/playlist/rpg-cyberpunk/\">2013 - 2016</a>, <a class=\"cat-item product-nerdcast\" href=\"https://jovemnerd.com.br/nerdcast/la-do-bunker/virgem-de-o-senhor-dos-aneis/\">Lá do Bunker 57</a>, <a class=\"cat-item product-nerdcast\" href=\"https://jovemnerd.com.br/nerdcast/empreendedor/fama-e-negocios/\">Empreendedor 89</a>, <a class=\"cat-item product-nerdcast\" href=\"https://jovemnerd.com.br/nerdcast/la-do-bunker/autocritica-e-game-over/\">Lá do Bunker 53</a>, <a class=\"cat-item product-nerdcast\" href=\"https://jovemnerd.com.br/nerdcast/la-do-bunker/cachorro-nao-usa-chupeta/\">Lá do Bunker 49</a>, <a class=\"cat-item product-nerdcast\" href=\"https://jovemnerd.com.br/nerdcast/la-do-bunker/esquentando-a-casa-do-dragao/\">Lá do Bunker 48</a>, <a class=\"cat-item product-nerdcast\" href=\"https://jovemnerd.com.br/nerdcast/20-anos-de-jovem-nerd/\">NerdCast 825</a>, <a class=\"cat-item product-nerdcast\" href=\"https://jovemnerd.com.br/nerdcast/bariatricas-selvagens-2-double-dumping/\">NerdCast 724</a>, <a class=\"cat-item product-nerdcast\" href=\"https://jovemnerd.com.br/nerdcast/um-bilhao-de-downloads/\">NerdCast 699</a>, <a class=\"cat-item product-nerdcast\" href=\"https://jovemnerd.com.br/nerdcast/bariatricas-selvagens/\">NerdCast 603</a>, <a class=\"cat-item product-nerdcast\" href=\"https://jovemnerd.com.br/nerdcast/nerdcast-rpg/rpg-call-of-cthulhu-2-o-horror-do-necronomicon/\">NerdCast 602</a>, <a class=\"cat-item product-nerdcast\" href=\"https://jovemnerd.com.br/nerdcast/o-melhor-de-600-nerdcasts/\">NerdCast 600</a>, <a class=\"cat-item product-nerdcast\" href=\"https://jovemnerd.com.br/nerdcast/rick-and-morty-nao-pense-nisso/\">NerdCast 590</a>, <a class=\"cat-item product-nerdcast\" href=\"https://jovemnerd.com.br/nerdcast/eu-sobrevivi-2/\">NerdCast 589</a>, <a class=\"cat-item product-nerdcast\" href=\"https://jovemnerd.com.br/nerdcast/junk-food/\">NerdCast 585</a>, <a class=\"cat-item product-nerdcast\" href=\"https://jovemnerd.com.br/nerdcast/game-of-thrones-virou-fanfic/\">NerdCast 583</a>, <a class=\"cat-item product-nerdcast\" href=\"https://jovemnerd.com.br/nerdcast/quem-tem-nerdcast-tem-medo-ou-nao-2/\">NerdCast 582</a>, <a class=\"cat-item product-nerdcast\" href=\"https://jovemnerd.com.br/nerdcast/nerdcast-rpg/rpg-call-of-cthulhu-1-o-misterio-de-william-faraday/\">NerdCast 549</a>, <a class=\"cat-item product-nerdcast\" href=\"https://jovemnerd.com.br/nerdcast/nerdcast-rpg/nerdcast-446-rpg-cyberpunk-2-o-passageiro-do-futuro/\">NerdCast 446</a>, <a class=\"cat-item product-nerdcast\" href=\"https://jovemnerd.com.br/nerdcast/nerdcast-rpg/nerdcast-395-rpg-cyberpunk-1-o-grande-assalto/\">NerdCast 395</a>, <a class=\"cat-item product-nerdcast\" href=\"https://jovemnerd.com.br/nerdcast/nerdcast-rpg/nerdcast-291-rpg-o-duque-a-rosa-e-o-beholder/\">NerdCast 291</a>]\n",
            "Melhores Momentos: [<a class=\"cat-item product-nerdcast\" href=\"https://jovemnerd.com.br/nerdcast/caneca-de-mamicas/recordar-e-viver/\">Caneca de Mamicas 133</a>, <a class=\"cat-item product-nerdcast\" href=\"https://jovemnerd.com.br/nerdcast/loki-2-o-glorioso-proposito-do-deus-da-trapaca/\">NerdCast 908</a>, <a class=\"cat-item product-nerdcast\" href=\"https://jovemnerd.com.br/nerdcast/la-do-bunker/nepotismo-e-brotheragem/\">Lá do Bunker 122</a>, <a class=\"cat-item product-nerdcast\" href=\"https://jovemnerd.com.br/nerdcast/caneca-de-mamicas/vizinhas-do-mickey/\">Caneca de Mamicas 132</a>, <a class=\"cat-item product-nerdcast\" href=\"https://jovemnerd.com.br/playlist/especial-rpg-cronicas-de-ghanor/\">2011 - 2012 - 2022 - 2023</a>, <a class=\"cat-item product-nerdcast\" href=\"https://jovemnerd.com.br/playlist/rpg-call-of-cthulhu/\">2017 - 2020</a>, <a class=\"cat-item product-nerdcast\" href=\"https://jovemnerd.com.br/playlist/rpg-cyberpunk/\">2013 - 2016</a>, <a class=\"cat-item product-nerdcast\" href=\"https://jovemnerd.com.br/nerdcast/o-melhor-de-900-nerdcasts/\">NerdCast 900</a>, <a class=\"cat-item product-nerdcast\" href=\"https://jovemnerd.com.br/nerdcast/o-melhor-de-850-nerdcasts/\">NerdCast 850</a>, <a class=\"cat-item product-nerdcast\" href=\"https://jovemnerd.com.br/nerdcast/la-do-bunker/virgem-de-o-senhor-dos-aneis/\">Lá do Bunker 57</a>, <a class=\"cat-item product-nerdcast\" href=\"https://jovemnerd.com.br/nerdcast/caneca-de-mamicas/o-lado-zen-da-vida/\">Caneca de Mamicas 67</a>, <a class=\"cat-item product-nerdcast\" href=\"https://jovemnerd.com.br/nerdcast/empreendedor/fama-e-negocios/\">Empreendedor 89</a>, <a class=\"cat-item product-nerdcast\" href=\"https://jovemnerd.com.br/nerdcast/la-do-bunker/autocritica-e-game-over/\">Lá do Bunker 53</a>, <a class=\"cat-item product-nerdcast\" href=\"https://jovemnerd.com.br/nerdcast/la-do-bunker/bastidores-bombasticos-do-bunker/\">Lá do Bunker 43</a>, <a class=\"cat-item product-nerdcast\" href=\"https://jovemnerd.com.br/nerdcast/caneca-de-mamicas/caneca-50-mililitros/\">Caneca de Mamicas 50</a>, <a class=\"cat-item product-nerdcast\" href=\"https://jovemnerd.com.br/nerdcast/o-melhor-de-800-nerdcasts/\">NerdCast 800</a>, <a class=\"cat-item product-nerdcast\" href=\"https://jovemnerd.com.br/nerdcast/o-melhor-de-750-nerdcasts/\">NerdCast 750</a>, <a class=\"cat-item product-nerdcast\" href=\"https://jovemnerd.com.br/nerdcast/o-melhor-de-700-nerdcasts/\">NerdCast 700</a>, <a class=\"cat-item product-nerdcast\" href=\"https://jovemnerd.com.br/nerdcast/o-melhor-de-650-nerdcasts/\">NerdCast 650</a>, <a class=\"cat-item product-nerdcast\" href=\"https://jovemnerd.com.br/nerdcast/o-melhor-de-600-nerdcasts/\">NerdCast 600</a>, <a class=\"cat-item product-nerdcast\" href=\"https://jovemnerd.com.br/nerdcast/o-melhor-de-550-nerdcasts/\">NerdCast 550</a>, <a class=\"cat-item product-nerdcast\" href=\"https://jovemnerd.com.br/nerdcast/nerdcast-500-o-melhor-de-500-nerdcasts/\">NerdCast 500</a>, <a class=\"cat-item product-nerdcast\" href=\"https://jovemnerd.com.br/nerdcast/nerdcast-450-o-melhor-de-450-nerdcasts/\">NerdCast 450</a>, <a class=\"cat-item product-nerdcast\" href=\"https://jovemnerd.com.br/nerdcast/nerdcast-400-o-melhor-de-400-nerdcasts/\">NerdCast 400</a>, <a class=\"cat-item product-nerdcast\" href=\"https://jovemnerd.com.br/nerdcast/nerdcast-350-o-melhor-de-350-nerdcasts/\">NerdCast 350</a>, <a class=\"cat-item product-nerdcast\" href=\"https://jovemnerd.com.br/nerdcast/nerdcast-300-o-melhor-de-300-nerdcasts/\">NerdCast 300</a>, <a class=\"cat-item product-nerdcast\" href=\"https://jovemnerd.com.br/nerdcast/nerdcast-250-o-melhor-de-250-nerdcasts/\">NerdCast 250</a>]\n",
            "Música: [<a class=\"cat-item product-nerdcast\" href=\"https://jovemnerd.com.br/nerdcast/caneca-de-mamicas/recordar-e-viver/\">Caneca de Mamicas 133</a>, <a class=\"cat-item product-nerdcast\" href=\"https://jovemnerd.com.br/nerdcast/loki-2-o-glorioso-proposito-do-deus-da-trapaca/\">NerdCast 908</a>, <a class=\"cat-item product-nerdcast\" href=\"https://jovemnerd.com.br/nerdcast/la-do-bunker/nepotismo-e-brotheragem/\">Lá do Bunker 122</a>, <a class=\"cat-item product-nerdcast\" href=\"https://jovemnerd.com.br/nerdcast/caneca-de-mamicas/vizinhas-do-mickey/\">Caneca de Mamicas 132</a>, <a class=\"cat-item product-nerdcast\" href=\"https://jovemnerd.com.br/playlist/especial-rpg-cronicas-de-ghanor/\">2011 - 2012 - 2022 - 2023</a>, <a class=\"cat-item product-nerdcast\" href=\"https://jovemnerd.com.br/playlist/rpg-call-of-cthulhu/\">2017 - 2020</a>, <a class=\"cat-item product-nerdcast\" href=\"https://jovemnerd.com.br/playlist/rpg-cyberpunk/\">2013 - 2016</a>, <a class=\"cat-item product-nerdcast\" href=\"https://jovemnerd.com.br/nerdcast/caneca-de-mamicas/da-broadway-ao-proibidao-todo-mundo-sem-nocao/\">Caneca de Mamicas 126</a>, <a class=\"cat-item product-nerdcast\" href=\"https://jovemnerd.com.br/nerdcast/covers-melhores-que-originais/\">NerdCast 847</a>, <a class=\"cat-item product-nerdcast\" href=\"https://jovemnerd.com.br/nerdcast/caneca-de-mamicas/o-lado-zen-da-vida/\">Caneca de Mamicas 67</a>, <a class=\"cat-item product-nerdcast\" href=\"https://jovemnerd.com.br/nerdcast/as-profissoes-do-futuro/\">NerdCast 842</a>, <a class=\"cat-item product-nerdcast\" href=\"https://jovemnerd.com.br/nerdcast/caneca-de-mamicas/nosso-microfone-nao-sera-desplugado/\">Caneca de Mamicas 66</a>, <a class=\"cat-item product-nerdcast\" href=\"https://jovemnerd.com.br/nerdcast/la-do-bunker/autocritica-e-game-over/\">Lá do Bunker 53</a>, <a class=\"cat-item product-nerdcast\" href=\"https://jovemnerd.com.br/nerdcast/la-do-bunker/os-inimigos-do-hype/\">Lá do Bunker 44</a>, <a class=\"cat-item product-nerdcast\" href=\"https://jovemnerd.com.br/nerdcast/trilhas-sonoras-de-uma-orquestra-de-um-homem-so/\">NerdCast 813</a>, <a class=\"cat-item product-nerdcast\" href=\"https://jovemnerd.com.br/nerdcast/david-bowie-as-multiplas-faces-de-um-artista-unico/\">NerdCast 807</a>, <a class=\"cat-item product-nerdcast\" href=\"https://jovemnerd.com.br/nerdcast/caneca-de-mamicas/credo-de-novela-que-limite-delicia/\">Caneca de Mamicas 30</a>, <a class=\"cat-item product-nerdcast\" href=\"https://jovemnerd.com.br/nerdcast/caneca-de-mamicas/vale-a-pena-cantar-de-novo/\">Caneca de Mamicas 29</a>, <a class=\"cat-item product-nerdcast\" href=\"https://jovemnerd.com.br/nerdcast/caneca-de-mamicas/credo-que-90s-delicia/\">Caneca de Mamicas 14</a>, <a class=\"cat-item product-nerdcast\" href=\"https://jovemnerd.com.br/nerdcast/o-que-e-um-rockstar-historia-de-musicos-musicas-e-estrada/\">NerdCast 789</a>, <a class=\"cat-item product-nerdcast\" href=\"https://jovemnerd.com.br/nerdcast/os-embalos-das-musicas-tema/\">NerdCast 763</a>, <a class=\"cat-item product-nerdcast\" href=\"https://jovemnerd.com.br/nerdcast/esse-tal-de-rock-nacional/\">NerdCast 751</a>, <a class=\"cat-item product-nerdcast\" href=\"https://jovemnerd.com.br/nerdcast/queen/\">NerdCast 734</a>, <a class=\"cat-item product-nerdcast\" href=\"https://jovemnerd.com.br/nerdcast/qual-e-musica-2/\">NerdCast 595</a>, <a class=\"cat-item product-nerdcast\" href=\"https://jovemnerd.com.br/nerdcast/que-musica-e-essa/\">NerdCast 541</a>, <a class=\"cat-item product-nerdcast\" href=\"https://jovemnerd.com.br/nerdcast/bandas-de-garagem-2/\">NerdCast 531</a>, <a class=\"cat-item product-nerdcast\" href=\"https://jovemnerd.com.br/nerdcast/nerdcast-499-bandas-de-garagem/\">NerdCast 499</a>]\n",
            "Nostalgia: [<a class=\"cat-item product-nerdcast\" href=\"https://jovemnerd.com.br/nerdcast/caneca-de-mamicas/recordar-e-viver/\">Caneca de Mamicas 133</a>, <a class=\"cat-item product-nerdcast\" href=\"https://jovemnerd.com.br/nerdcast/loki-2-o-glorioso-proposito-do-deus-da-trapaca/\">NerdCast 908</a>, <a class=\"cat-item product-nerdcast\" href=\"https://jovemnerd.com.br/nerdcast/la-do-bunker/nepotismo-e-brotheragem/\">Lá do Bunker 122</a>, <a class=\"cat-item product-nerdcast\" href=\"https://jovemnerd.com.br/nerdcast/caneca-de-mamicas/vizinhas-do-mickey/\">Caneca de Mamicas 132</a>, <a class=\"cat-item product-nerdcast\" href=\"https://jovemnerd.com.br/playlist/especial-rpg-cronicas-de-ghanor/\">2011 - 2012 - 2022 - 2023</a>, <a class=\"cat-item product-nerdcast\" href=\"https://jovemnerd.com.br/playlist/rpg-call-of-cthulhu/\">2017 - 2020</a>, <a class=\"cat-item product-nerdcast\" href=\"https://jovemnerd.com.br/playlist/rpg-cyberpunk/\">2013 - 2016</a>, <a class=\"cat-item product-nerdcast\" href=\"https://jovemnerd.com.br/nerdcast/caneca-de-mamicas/credo-que-sexy-guy-delicia/\">Caneca de Mamicas 69</a>, <a class=\"cat-item product-nerdcast\" href=\"https://jovemnerd.com.br/nerdcast/la-do-bunker/virgem-de-o-senhor-dos-aneis/\">Lá do Bunker 57</a>, <a class=\"cat-item product-nerdcast\" href=\"https://jovemnerd.com.br/nerdcast/caneca-de-mamicas/o-lado-zen-da-vida/\">Caneca de Mamicas 67</a>, <a class=\"cat-item product-nerdcast\" href=\"https://jovemnerd.com.br/nerdcast/la-do-bunker/autocritica-e-game-over/\">Lá do Bunker 53</a>, <a class=\"cat-item product-nerdcast\" href=\"https://jovemnerd.com.br/nerdcast/caneca-de-mamicas/a-perfeicao-e-inimiga-do-aprendizado/\">Caneca de Mamicas 64</a>, <a class=\"cat-item product-nerdcast\" href=\"https://jovemnerd.com.br/nerdcast/la-do-bunker/a-vida-real-e-terrivel/\">Lá do Bunker 50</a>, <a class=\"cat-item product-nerdcast\" href=\"https://jovemnerd.com.br/nerdcast/la-do-bunker/cachorro-nao-usa-chupeta/\">Lá do Bunker 49</a>, <a class=\"cat-item product-nerdcast\" href=\"https://jovemnerd.com.br/nerdcast/caneca-de-mamicas/e-resgatando-que-se-e-resgatado/\">Caneca de Mamicas 55</a>, <a class=\"cat-item product-nerdcast\" href=\"https://jovemnerd.com.br/nerdcast/caneca-de-mamicas/minha-mae-e-uma-peca/\">Caneca de Mamicas 53</a>, <a class=\"cat-item product-nerdcast\" href=\"https://jovemnerd.com.br/nerdcast/caneca-de-mamicas/sem-voce-meu-amor-eu-nao-sou-ninguem/\">Caneca de Mamicas 52</a>, <a class=\"cat-item product-nerdcast\" href=\"https://jovemnerd.com.br/nerdcast/caneca-de-mamicas/sou-poliglota-mas-so-no-amooor/\">Caneca de Mamicas 51</a>, <a class=\"cat-item product-nerdcast\" href=\"https://jovemnerd.com.br/nerdcast/caneca-de-mamicas/caneca-50-mililitros/\">Caneca de Mamicas 50</a>, <a class=\"cat-item product-nerdcast\" href=\"https://jovemnerd.com.br/nerdcast/20-anos-de-jovem-nerd/\">NerdCast 825</a>, <a class=\"cat-item product-nerdcast\" href=\"https://jovemnerd.com.br/nerdcast/nerdtech/whatsapp-mirc-msn-e-icq-querem-tc/\">NerdTech 74</a>, <a class=\"cat-item product-nerdcast\" href=\"https://jovemnerd.com.br/nerdcast/caneca-de-mamicas/ta-na-hora-de-lembrar/\">Caneca de Mamicas 43</a>, <a class=\"cat-item product-nerdcast\" href=\"https://jovemnerd.com.br/nerdcast/caneca-de-mamicas/credo-de-novela-que-limite-delicia/\">Caneca de Mamicas 30</a>, <a class=\"cat-item product-nerdcast\" href=\"https://jovemnerd.com.br/nerdcast/caneca-de-mamicas/vale-a-pena-cantar-de-novo/\">Caneca de Mamicas 29</a>, <a class=\"cat-item product-nerdcast\" href=\"https://jovemnerd.com.br/nerdcast/caneca-de-mamicas/zerando-a-vida-como-um-rockstar/\">Caneca de Mamicas 15</a>, <a class=\"cat-item product-nerdcast\" href=\"https://jovemnerd.com.br/nerdcast/to-ficando-velho/\">NerdCast 716</a>, <a class=\"cat-item product-nerdcast\" href=\"https://jovemnerd.com.br/nerdcast/um-bilhao-de-downloads/\">NerdCast 699</a>]\n",
            "Notícias: [<a class=\"cat-item product-nerdcast\" href=\"https://jovemnerd.com.br/nerdcast/caneca-de-mamicas/recordar-e-viver/\">Caneca de Mamicas 133</a>, <a class=\"cat-item product-nerdcast\" href=\"https://jovemnerd.com.br/nerdcast/loki-2-o-glorioso-proposito-do-deus-da-trapaca/\">NerdCast 908</a>, <a class=\"cat-item product-nerdcast\" href=\"https://jovemnerd.com.br/nerdcast/la-do-bunker/nepotismo-e-brotheragem/\">Lá do Bunker 122</a>, <a class=\"cat-item product-nerdcast\" href=\"https://jovemnerd.com.br/nerdcast/caneca-de-mamicas/vizinhas-do-mickey/\">Caneca de Mamicas 132</a>, <a class=\"cat-item product-nerdcast\" href=\"https://jovemnerd.com.br/playlist/especial-rpg-cronicas-de-ghanor/\">2011 - 2012 - 2022 - 2023</a>, <a class=\"cat-item product-nerdcast\" href=\"https://jovemnerd.com.br/playlist/rpg-call-of-cthulhu/\">2017 - 2020</a>, <a class=\"cat-item product-nerdcast\" href=\"https://jovemnerd.com.br/playlist/rpg-cyberpunk/\">2013 - 2016</a>, <a class=\"cat-item product-nerdcast\" href=\"https://jovemnerd.com.br/nerdcast/la-do-bunker/foi-mal-tava-doidao/\">Lá do Bunker 121</a>, <a class=\"cat-item product-nerdcast\" href=\"https://jovemnerd.com.br/nerdcast/la-do-bunker/variavel-do-macarrao/\">Lá do Bunker 120</a>, <a class=\"cat-item product-nerdcast\" href=\"https://jovemnerd.com.br/nerdcast/la-do-bunker/bilhetinho-da-escola/\">Lá do Bunker 119</a>, <a class=\"cat-item product-nerdcast\" href=\"https://jovemnerd.com.br/nerdcast/la-do-bunker/genesis-de-miranhete/\">Lá do Bunker 118</a>, <a class=\"cat-item product-nerdcast\" href=\"https://jovemnerd.com.br/nerdcast/la-do-bunker/sangue-coragem-e-juventude/\">Lá do Bunker 116</a>, <a class=\"cat-item product-nerdcast\" href=\"https://jovemnerd.com.br/nerdcast/la-do-bunker/toca-fresquinha/\">Lá do Bunker 115</a>, <a class=\"cat-item product-nerdcast\" href=\"https://jovemnerd.com.br/nerdcast/la-do-bunker/miando-o-role/\">Lá do Bunker 112</a>, <a class=\"cat-item product-nerdcast\" href=\"https://jovemnerd.com.br/nerdcast/la-do-bunker/proficiencia-inexistente/\">Lá do Bunker 111</a>, <a class=\"cat-item product-nerdcast\" href=\"https://jovemnerd.com.br/nerdcast/la-do-bunker/motivo-de-derretimento/\">Lá do Bunker 110</a>, <a class=\"cat-item product-nerdcast\" href=\"https://jovemnerd.com.br/nerdcast/la-do-bunker/chegando-derrapando/\">Lá do Bunker 109</a>, <a class=\"cat-item product-nerdcast\" href=\"https://jovemnerd.com.br/nerdcast/la-do-bunker/futebol-anime-tecnologia-e-tapa/\">Lá do Bunker 108</a>, <a class=\"cat-item product-nerdcast\" href=\"https://jovemnerd.com.br/nerdcast/la-do-bunker/computador-felpudo/\">Lá do Bunker 107</a>, <a class=\"cat-item product-nerdcast\" href=\"https://jovemnerd.com.br/nerdcast/la-do-bunker/rasteira-no-cinema/\">Lá do Bunker 106</a>, <a class=\"cat-item product-nerdcast\" href=\"https://jovemnerd.com.br/nerdcast/la-do-bunker/dorme-que-passa/\">Lá do Bunker 105</a>, <a class=\"cat-item product-nerdcast\" href=\"https://jovemnerd.com.br/nerdcast/la-do-bunker/esquema-do-magneto/\">Lá do Bunker 104</a>, <a class=\"cat-item product-nerdcast\" href=\"https://jovemnerd.com.br/nerdcast/la-do-bunker/crises-planejadas/\">Lá do Bunker 103</a>, <a class=\"cat-item product-nerdcast\" href=\"https://jovemnerd.com.br/nerdcast/la-do-bunker/surra-de-mario/\">Lá do Bunker 102</a>, <a class=\"cat-item product-nerdcast\" href=\"https://jovemnerd.com.br/nerdcast/la-do-bunker/micareta-gamer/\">Lá do Bunker 101</a>, <a class=\"cat-item product-nerdcast\" href=\"https://jovemnerd.com.br/nerdcast/la-do-bunker/100-episodios-reclamando/\">Lá do Bunker 100</a>, <a class=\"cat-item product-nerdcast\" href=\"https://jovemnerd.com.br/nerdcast/la-do-bunker/autosaneamento-basico/\">Lá do Bunker 99</a>]\n",
            "Política: [<a class=\"cat-item product-nerdcast\" href=\"https://jovemnerd.com.br/nerdcast/caneca-de-mamicas/recordar-e-viver/\">Caneca de Mamicas 133</a>, <a class=\"cat-item product-nerdcast\" href=\"https://jovemnerd.com.br/nerdcast/loki-2-o-glorioso-proposito-do-deus-da-trapaca/\">NerdCast 908</a>, <a class=\"cat-item product-nerdcast\" href=\"https://jovemnerd.com.br/nerdcast/la-do-bunker/nepotismo-e-brotheragem/\">Lá do Bunker 122</a>, <a class=\"cat-item product-nerdcast\" href=\"https://jovemnerd.com.br/nerdcast/caneca-de-mamicas/vizinhas-do-mickey/\">Caneca de Mamicas 132</a>, <a class=\"cat-item product-nerdcast\" href=\"https://jovemnerd.com.br/playlist/especial-rpg-cronicas-de-ghanor/\">2011 - 2012 - 2022 - 2023</a>, <a class=\"cat-item product-nerdcast\" href=\"https://jovemnerd.com.br/playlist/rpg-call-of-cthulhu/\">2017 - 2020</a>, <a class=\"cat-item product-nerdcast\" href=\"https://jovemnerd.com.br/playlist/rpg-cyberpunk/\">2013 - 2016</a>, <a class=\"cat-item product-nerdcast\" href=\"https://jovemnerd.com.br/nerdcast/caneca-de-mamicas/vozes-da-resistencia/\">Caneca de Mamicas 109</a>, <a class=\"cat-item product-nerdcast\" href=\"https://jovemnerd.com.br/nerdcast/politica-internacional-2022/\">NerdCast 860</a>, <a class=\"cat-item product-nerdcast\" href=\"https://jovemnerd.com.br/nerdcast/caneca-de-mamicas/frente-ampla-democratica/\">Caneca de Mamicas 76</a>, <a class=\"cat-item product-nerdcast\" href=\"https://jovemnerd.com.br/nerdcast/la-do-bunker/virgem-de-o-senhor-dos-aneis/\">Lá do Bunker 57</a>, <a class=\"cat-item product-nerdcast\" href=\"https://jovemnerd.com.br/nerdcast/caneca-de-mamicas/nosso-microfone-nao-sera-desplugado/\">Caneca de Mamicas 66</a>, <a class=\"cat-item product-nerdcast\" href=\"https://jovemnerd.com.br/nerdcast/nerdtech/o-mercado-pos-pandemia/\">NerdTech 78</a>, <a class=\"cat-item product-nerdcast\" href=\"https://jovemnerd.com.br/nerdcast/caneca-de-mamicas/direitos-nao-escritos-sao-palavras-ao-vento/\">Caneca de Mamicas 65</a>, <a class=\"cat-item product-nerdcast\" href=\"https://jovemnerd.com.br/nerdcast/nerdcash/a-montanha-russa-dos-ciclos-economicos/\">NerdCash 49</a>, <a class=\"cat-item product-nerdcast\" href=\"https://jovemnerd.com.br/nerdcast/nerdtech/games-monetizados/\">NerdTech 77</a>, <a class=\"cat-item product-nerdcast\" href=\"https://jovemnerd.com.br/nerdcast/o-espaco-disputado/\">NerdCast 835</a>, <a class=\"cat-item product-nerdcast\" href=\"https://jovemnerd.com.br/nerdcast/nerdcash/investindo-no-exterior/\">NerdCash 48</a>, <a class=\"cat-item product-nerdcast\" href=\"https://jovemnerd.com.br/nerdcast/nerdcash/a-crise-das-incertezas/\">NerdCash 47</a>, <a class=\"cat-item product-nerdcast\" href=\"https://jovemnerd.com.br/nerdcast/nerdtech/ceos-excentricos/\">NerdTech 75</a>, <a class=\"cat-item product-nerdcast\" href=\"https://jovemnerd.com.br/nerdcast/a-historia-da-ucrania/\">NerdCast 821</a>, <a class=\"cat-item product-nerdcast\" href=\"https://jovemnerd.com.br/nerdcast/nerdcash/guerra-economica/\">NerdCash 45</a>, <a class=\"cat-item product-nerdcast\" href=\"https://jovemnerd.com.br/nerdcast/politica-internacional-2021/\">NerdCast 812</a>, <a class=\"cat-item product-nerdcast\" href=\"https://jovemnerd.com.br/nerdcast/politica-internacional-2020/\">NerdCast 756</a>, <a class=\"cat-item product-nerdcast\" href=\"https://jovemnerd.com.br/nerdcast/nerdcash/eua-eleicoes-2020-e-o-mercado/\">NerdCash 28</a>, <a class=\"cat-item product-nerdcast\" href=\"https://jovemnerd.com.br/nerdcast/politica-internacional-2019/\">NerdCast 703</a>]\n",
            "Profissões: [<a class=\"cat-item product-nerdcast\" href=\"https://jovemnerd.com.br/nerdcast/caneca-de-mamicas/recordar-e-viver/\">Caneca de Mamicas 133</a>, <a class=\"cat-item product-nerdcast\" href=\"https://jovemnerd.com.br/nerdcast/loki-2-o-glorioso-proposito-do-deus-da-trapaca/\">NerdCast 908</a>, <a class=\"cat-item product-nerdcast\" href=\"https://jovemnerd.com.br/nerdcast/la-do-bunker/nepotismo-e-brotheragem/\">Lá do Bunker 122</a>, <a class=\"cat-item product-nerdcast\" href=\"https://jovemnerd.com.br/nerdcast/caneca-de-mamicas/vizinhas-do-mickey/\">Caneca de Mamicas 132</a>, <a class=\"cat-item product-nerdcast\" href=\"https://jovemnerd.com.br/playlist/especial-rpg-cronicas-de-ghanor/\">2011 - 2012 - 2022 - 2023</a>, <a class=\"cat-item product-nerdcast\" href=\"https://jovemnerd.com.br/playlist/rpg-call-of-cthulhu/\">2017 - 2020</a>, <a class=\"cat-item product-nerdcast\" href=\"https://jovemnerd.com.br/playlist/rpg-cyberpunk/\">2013 - 2016</a>, <a class=\"cat-item product-nerdcast\" href=\"https://jovemnerd.com.br/nerdcast/profissao-quadrinista/\">NerdCast 865</a>, <a class=\"cat-item product-nerdcast\" href=\"https://jovemnerd.com.br/nerdcast/extra/criando-produtos-e-assinaturas-digitais/\">Extra Oferecido por Zapsign</a>, <a class=\"cat-item product-nerdcast\" href=\"https://jovemnerd.com.br/nerdcast/papo-de-parceiro/quebrando-galhos-no-brasil-inteiro/\">Papo de Parceiro 13</a>, <a class=\"cat-item product-nerdcast\" href=\"https://jovemnerd.com.br/nerdcast/caneca-de-mamicas/o-lado-zen-da-vida/\">Caneca de Mamicas 67</a>, <a class=\"cat-item product-nerdcast\" href=\"https://jovemnerd.com.br/nerdcast/as-profissoes-do-futuro/\">NerdCast 842</a>, <a class=\"cat-item product-nerdcast\" href=\"https://jovemnerd.com.br/nerdcast/caneca-de-mamicas/nosso-microfone-nao-sera-desplugado/\">Caneca de Mamicas 66</a>, <a class=\"cat-item product-nerdcast\" href=\"https://jovemnerd.com.br/nerdcast/nerdtech/o-mercado-pos-pandemia/\">NerdTech 78</a>, <a class=\"cat-item product-nerdcast\" href=\"https://jovemnerd.com.br/nerdcast/empreendedor/fama-e-negocios/\">Empreendedor 89</a>, <a class=\"cat-item product-nerdcast\" href=\"https://jovemnerd.com.br/nerdcast/papo-de-parceiro/marcando-gols-no-e-commerce-esportivo/\">Papo de Parceiro 12</a>, <a class=\"cat-item product-nerdcast\" href=\"https://jovemnerd.com.br/nerdcast/nerdcash/a-montanha-russa-dos-ciclos-economicos/\">NerdCash 49</a>, <a class=\"cat-item product-nerdcast\" href=\"https://jovemnerd.com.br/nerdcast/nerdtech/games-monetizados/\">NerdTech 77</a>, <a class=\"cat-item product-nerdcast\" href=\"https://jovemnerd.com.br/nerdcast/generacast/genes-cheiros-e-encontros/\">Generacast 10</a>, <a class=\"cat-item product-nerdcast\" href=\"https://jovemnerd.com.br/nerdcast/empreendedor/seja-agua-adapte-os-seus-negocios/\">Empreendedor 87</a>, <a class=\"cat-item product-nerdcast\" href=\"https://jovemnerd.com.br/nerdcast/papo-de-parceiro/fazendo-as-compras-no-super-market-place/\">Papo de Parceiro 10</a>, <a class=\"cat-item product-nerdcast\" href=\"https://jovemnerd.com.br/nerdcast/nerdtech/o-mundo-precisa-de-devs/\">NerdTech 64</a>, <a class=\"cat-item product-nerdcast\" href=\"https://jovemnerd.com.br/nerdcast/profissao-relacoes-publicas/\">NerdCast 746</a>, <a class=\"cat-item product-nerdcast\" href=\"https://jovemnerd.com.br/nerdcast/profissao-advogado/\">NerdCast 733</a>, <a class=\"cat-item product-nerdcast\" href=\"https://jovemnerd.com.br/nerdcast/profissao-arquiteto/\">NerdCast 709</a>, <a class=\"cat-item product-nerdcast\" href=\"https://jovemnerd.com.br/nerdcast/profissao-artesao/\">NerdCast 701</a>, <a class=\"cat-item product-nerdcast\" href=\"https://jovemnerd.com.br/nerdcast/nerdtech/profissao-programador-4-0/\">NerdTech 43</a>]\n",
            "Publicidade: [<a class=\"cat-item product-nerdcast\" href=\"https://jovemnerd.com.br/nerdcast/caneca-de-mamicas/recordar-e-viver/\">Caneca de Mamicas 133</a>, <a class=\"cat-item product-nerdcast\" href=\"https://jovemnerd.com.br/nerdcast/loki-2-o-glorioso-proposito-do-deus-da-trapaca/\">NerdCast 908</a>, <a class=\"cat-item product-nerdcast\" href=\"https://jovemnerd.com.br/nerdcast/la-do-bunker/nepotismo-e-brotheragem/\">Lá do Bunker 122</a>, <a class=\"cat-item product-nerdcast\" href=\"https://jovemnerd.com.br/nerdcast/caneca-de-mamicas/vizinhas-do-mickey/\">Caneca de Mamicas 132</a>, <a class=\"cat-item product-nerdcast\" href=\"https://jovemnerd.com.br/playlist/especial-rpg-cronicas-de-ghanor/\">2011 - 2012 - 2022 - 2023</a>, <a class=\"cat-item product-nerdcast\" href=\"https://jovemnerd.com.br/playlist/rpg-call-of-cthulhu/\">2017 - 2020</a>, <a class=\"cat-item product-nerdcast\" href=\"https://jovemnerd.com.br/playlist/rpg-cyberpunk/\">2013 - 2016</a>, <a class=\"cat-item product-nerdcast\" href=\"https://jovemnerd.com.br/nerdcast/papo-de-parceiro/quebrando-galhos-no-brasil-inteiro/\">Papo de Parceiro 13</a>, <a class=\"cat-item product-nerdcast\" href=\"https://jovemnerd.com.br/nerdcast/empreendedor/fama-e-negocios/\">Empreendedor 89</a>, <a class=\"cat-item product-nerdcast\" href=\"https://jovemnerd.com.br/nerdcast/papo-de-parceiro/marcando-gols-no-e-commerce-esportivo/\">Papo de Parceiro 12</a>, <a class=\"cat-item product-nerdcast\" href=\"https://jovemnerd.com.br/nerdcast/la-do-bunker/extra-a-lista-terminal/\">Lá do Bunker Oferecido por Amazon Prime Video</a>, <a class=\"cat-item product-nerdcast\" href=\"https://jovemnerd.com.br/nerdcast/nerdcash/a-montanha-russa-dos-ciclos-economicos/\">NerdCash 49</a>, <a class=\"cat-item product-nerdcast\" href=\"https://jovemnerd.com.br/nerdcast/la-do-bunker/cachorro-nao-usa-chupeta/\">Lá do Bunker 49</a>, <a class=\"cat-item product-nerdcast\" href=\"https://jovemnerd.com.br/nerdcast/papo-de-parceiro/cuidando-da-pele-e-do-seu-e-commerce/\">Papo de Parceiro 11</a>, <a class=\"cat-item product-nerdcast\" href=\"https://jovemnerd.com.br/nerdcast/nerdcast-397-polemicas-da-publicidade/\">NerdCast 397</a>]\n",
            "Quadrinhos: [<a class=\"cat-item product-nerdcast\" href=\"https://jovemnerd.com.br/nerdcast/caneca-de-mamicas/recordar-e-viver/\">Caneca de Mamicas 133</a>, <a class=\"cat-item product-nerdcast\" href=\"https://jovemnerd.com.br/nerdcast/loki-2-o-glorioso-proposito-do-deus-da-trapaca/\">NerdCast 908</a>, <a class=\"cat-item product-nerdcast\" href=\"https://jovemnerd.com.br/nerdcast/la-do-bunker/nepotismo-e-brotheragem/\">Lá do Bunker 122</a>, <a class=\"cat-item product-nerdcast\" href=\"https://jovemnerd.com.br/nerdcast/caneca-de-mamicas/vizinhas-do-mickey/\">Caneca de Mamicas 132</a>, <a class=\"cat-item product-nerdcast\" href=\"https://jovemnerd.com.br/playlist/especial-rpg-cronicas-de-ghanor/\">2011 - 2012 - 2022 - 2023</a>, <a class=\"cat-item product-nerdcast\" href=\"https://jovemnerd.com.br/playlist/rpg-call-of-cthulhu/\">2017 - 2020</a>, <a class=\"cat-item product-nerdcast\" href=\"https://jovemnerd.com.br/playlist/rpg-cyberpunk/\">2013 - 2016</a>, <a class=\"cat-item product-nerdcast\" href=\"https://jovemnerd.com.br/nerdcast/la-do-bunker/abano-reciproco/\">Lá do Bunker 114</a>, <a class=\"cat-item product-nerdcast\" href=\"https://jovemnerd.com.br/nerdcast/la-do-bunker/tesao-por-engano/\">Lá do Bunker 113</a>, <a class=\"cat-item product-nerdcast\" href=\"https://jovemnerd.com.br/nerdcast/chega-de-filmes-de-heroi/\">NerdCast 894</a>, <a class=\"cat-item product-nerdcast\" href=\"https://jovemnerd.com.br/nerdcast/o-dc-universe-nas-maos-de-james-gunn/\">NerdCast 869</a>, <a class=\"cat-item product-nerdcast\" href=\"https://jovemnerd.com.br/nerdcast/la-do-bunker/taca-le-pau-no-medieval/\">Lá do Bunker 60</a>, <a class=\"cat-item product-nerdcast\" href=\"https://jovemnerd.com.br/nerdcast/la-do-bunker/isso-e-tao-2009/\">Lá do Bunker 59</a>, <a class=\"cat-item product-nerdcast\" href=\"https://jovemnerd.com.br/nerdcast/la-do-bunker/testemunho-da-empolgacao/\">Lá do Bunker 58</a>, <a class=\"cat-item product-nerdcast\" href=\"https://jovemnerd.com.br/nerdcast/la-do-bunker/virgem-de-o-senhor-dos-aneis/\">Lá do Bunker 57</a>, <a class=\"cat-item product-nerdcast\" href=\"https://jovemnerd.com.br/nerdcast/la-do-bunker/autocritica-e-game-over/\">Lá do Bunker 53</a>, <a class=\"cat-item product-nerdcast\" href=\"https://jovemnerd.com.br/nerdcast/la-do-bunker/a-vida-real-e-terrivel/\">Lá do Bunker 50</a>, <a class=\"cat-item product-nerdcast\" href=\"https://jovemnerd.com.br/nerdcast/la-do-bunker/cachorro-nao-usa-chupeta/\">Lá do Bunker 49</a>, <a class=\"cat-item product-nerdcast\" href=\"https://jovemnerd.com.br/nerdcast/la-do-bunker/tudo-parte-do-plano/\">Lá do Bunker 47</a>, <a class=\"cat-item product-nerdcast\" href=\"https://jovemnerd.com.br/nerdcast/la-do-bunker/a-hora-do-mundo-aberto/\">Lá do Bunker 46</a>, <a class=\"cat-item product-nerdcast\" href=\"https://jovemnerd.com.br/nerdcast/la-do-bunker/os-inimigos-do-hype/\">Lá do Bunker 44</a>, <a class=\"cat-item product-nerdcast\" href=\"https://jovemnerd.com.br/nerdcast/la-do-bunker/pausa-pro-gatinho/\">Lá do Bunker 38</a>, <a class=\"cat-item product-nerdcast\" href=\"https://jovemnerd.com.br/nerdcast/extra/ccxp-bastidores-perrengues-e-o-penetra/\">Extra Oferecido por Fanta</a>, <a class=\"cat-item product-nerdcast\" href=\"https://jovemnerd.com.br/nerdcast/invencivel-profundo-tosco-e-surpreendente/\">NerdCast 777</a>, <a class=\"cat-item product-nerdcast\" href=\"https://jovemnerd.com.br/nerdcast/hellboy-nos-quadrinhos/\">NerdCast 672</a>, <a class=\"cat-item product-nerdcast\" href=\"https://jovemnerd.com.br/nerdcast/shazam-nos-quadrinhos/\">NerdCast 667</a>, <a class=\"cat-item product-nerdcast\" href=\"https://jovemnerd.com.br/nerdcast/aquaman-uma-estrela-do-mar-turumtsss/\">NerdCast 649</a>]\n",
            "Retrospectiva: [<a class=\"cat-item product-nerdcast\" href=\"https://jovemnerd.com.br/nerdcast/caneca-de-mamicas/recordar-e-viver/\">Caneca de Mamicas 133</a>, <a class=\"cat-item product-nerdcast\" href=\"https://jovemnerd.com.br/nerdcast/loki-2-o-glorioso-proposito-do-deus-da-trapaca/\">NerdCast 908</a>, <a class=\"cat-item product-nerdcast\" href=\"https://jovemnerd.com.br/nerdcast/la-do-bunker/nepotismo-e-brotheragem/\">Lá do Bunker 122</a>, <a class=\"cat-item product-nerdcast\" href=\"https://jovemnerd.com.br/nerdcast/caneca-de-mamicas/vizinhas-do-mickey/\">Caneca de Mamicas 132</a>, <a class=\"cat-item product-nerdcast\" href=\"https://jovemnerd.com.br/playlist/especial-rpg-cronicas-de-ghanor/\">2011 - 2012 - 2022 - 2023</a>, <a class=\"cat-item product-nerdcast\" href=\"https://jovemnerd.com.br/playlist/rpg-call-of-cthulhu/\">2017 - 2020</a>, <a class=\"cat-item product-nerdcast\" href=\"https://jovemnerd.com.br/playlist/rpg-cyberpunk/\">2013 - 2016</a>, <a class=\"cat-item product-nerdcast\" href=\"https://jovemnerd.com.br/nerdcast/la-do-bunker/destaques-e-desdestaques/\">Lá do Bunker 76</a>, <a class=\"cat-item product-nerdcast\" href=\"https://jovemnerd.com.br/nerdcast/caneca-de-mamicas/nosso-microfone-nao-sera-desplugado/\">Caneca de Mamicas 66</a>, <a class=\"cat-item product-nerdcast\" href=\"https://jovemnerd.com.br/nerdcast/la-do-bunker/a-vida-real-e-terrivel/\">Lá do Bunker 50</a>, <a class=\"cat-item product-nerdcast\" href=\"https://jovemnerd.com.br/nerdcast/la-do-bunker/cachorro-nao-usa-chupeta/\">Lá do Bunker 49</a>, <a class=\"cat-item product-nerdcast\" href=\"https://jovemnerd.com.br/nerdcast/nerdcast-142-retrospectiva-nerd-2008/\">NerdCast 142</a>, <a class=\"cat-item product-nerdcast\" href=\"https://jovemnerd.com.br/nerdcast/nerdcast-93-retrospectiva-nerd-2007/\">NerdCast 93</a>, <a class=\"cat-item product-nerdcast\" href=\"https://jovemnerd.com.br/nerdcast/nerdcast-45-retrospectiva-nerd-2006/\">NerdCast 45</a>]\n",
            "RPG: [<a class=\"cat-item product-nerdcast\" href=\"https://jovemnerd.com.br/nerdcast/caneca-de-mamicas/recordar-e-viver/\">Caneca de Mamicas 133</a>, <a class=\"cat-item product-nerdcast\" href=\"https://jovemnerd.com.br/nerdcast/loki-2-o-glorioso-proposito-do-deus-da-trapaca/\">NerdCast 908</a>, <a class=\"cat-item product-nerdcast\" href=\"https://jovemnerd.com.br/nerdcast/la-do-bunker/nepotismo-e-brotheragem/\">Lá do Bunker 122</a>, <a class=\"cat-item product-nerdcast\" href=\"https://jovemnerd.com.br/nerdcast/caneca-de-mamicas/vizinhas-do-mickey/\">Caneca de Mamicas 132</a>, <a class=\"cat-item product-nerdcast\" href=\"https://jovemnerd.com.br/playlist/especial-rpg-cronicas-de-ghanor/\">2011 - 2012 - 2022 - 2023</a>, <a class=\"cat-item product-nerdcast\" href=\"https://jovemnerd.com.br/playlist/rpg-call-of-cthulhu/\">2017 - 2020</a>, <a class=\"cat-item product-nerdcast\" href=\"https://jovemnerd.com.br/playlist/rpg-cyberpunk/\">2013 - 2016</a>, <a class=\"cat-item product-nerdcast\" href=\"https://jovemnerd.com.br/nerdcast/criando-mundos-de-rpg/\">NerdCast 902</a>, <a class=\"cat-item product-nerdcast\" href=\"https://jovemnerd.com.br/nerdcast/extra/a-roda-do-tempo-e-os-falsos-dragoes/\">Extra Oferecido por Prime Vídeo</a>, <a class=\"cat-item product-nerdcast\" href=\"https://jovemnerd.com.br/nerdcast/rpg-ghanor-5-o-tripa-de-pedra-a-cuica-e-o-pata-rachada\">NerdCast 892</a>, <a class=\"cat-item product-nerdcast\" href=\"https://jovemnerd.com.br/nerdcast/dungeons-dragons-alem-dos-livros/\">NerdCast 874</a>, <a class=\"cat-item product-nerdcast\" href=\"https://jovemnerd.com.br/nerdcast/nerdcast-rpg/rpg-ghanor-4-o-bardo-o-santo-e-o-bico-de-tamanco/\">NerdCast 862</a>, <a class=\"cat-item product-nerdcast\" href=\"https://jovemnerd.com.br/nerdcast/magias-do-rpg-da-bola-de-fogo-a-aposentadoria/\">NerdCast 805</a>, <a class=\"cat-item product-nerdcast\" href=\"https://jovemnerd.com.br/nerdcast/rpg-na-historia/\">NerdCast 767</a>, <a class=\"cat-item product-nerdcast\" href=\"https://jovemnerd.com.br/nerdcast/bastidores-do-nerdcast-rpg-cthulhu/\">NerdCast 761</a>, <a class=\"cat-item product-nerdcast\" href=\"https://jovemnerd.com.br/nerdcast/nerdcast-rpg/rpg-call-of-cthulhu-4-o-ultimo-ritual/\">NerdCast 757</a>, <a class=\"cat-item product-nerdcast\" href=\"https://jovemnerd.com.br/nerdcast/manas-decks-e-magic/\">NerdCast 745</a>, <a class=\"cat-item product-nerdcast\" href=\"https://jovemnerd.com.br/nerdcast/o-triunfo-da-tormenta/\">NerdCast 679</a>, <a class=\"cat-item product-nerdcast\" href=\"https://jovemnerd.com.br/nerdcast/nerdcast-rpg/rpg-call-of-cthulhu-3-o-despertar-dos-profundos/\">NerdCast 666</a>, <a class=\"cat-item product-nerdcast\" href=\"https://jovemnerd.com.br/nerdcast/nerdcast-rpg/rpg-call-of-cthulhu-2-o-horror-do-necronomicon/\">NerdCast 602</a>, <a class=\"cat-item product-nerdcast\" href=\"https://jovemnerd.com.br/nerdcast/nerdcast-rpg/rpg-call-of-cthulhu-1-o-misterio-de-william-faraday/\">NerdCast 549</a>, <a class=\"cat-item product-nerdcast\" href=\"https://jovemnerd.com.br/nerdcast/nerdcast-radio-news/\">NerdCast 549 Teaser </a>, <a class=\"cat-item product-nerdcast\" href=\"https://jovemnerd.com.br/nerdcast/nerdcast-rpg/nerdcast-498-rpg-cyberpunk-3-estrada-para-o-inferno/\">NerdCast 498</a>, <a class=\"cat-item product-nerdcast\" href=\"https://jovemnerd.com.br/nerdcast/nerdcast-rpg/nerdcast-446-rpg-cyberpunk-2-o-passageiro-do-futuro/\">NerdCast 446</a>, <a class=\"cat-item product-nerdcast\" href=\"https://jovemnerd.com.br/nerdcast/nerdcast-rpg/nerdcast-395-rpg-cyberpunk-1-o-grande-assalto/\">NerdCast 395</a>, <a class=\"cat-item product-nerdcast\" href=\"https://jovemnerd.com.br/nerdcast/nerdcast-rpg/nerdcast-341-rpg-o-corvo-a-periguete-e-o-bucentauro/\">NerdCast 341</a>, <a class=\"cat-item product-nerdcast\" href=\"https://jovemnerd.com.br/nerdcast/nerdcast-rpg/nerdcast-291-rpg-o-duque-a-rosa-e-o-beholder/\">NerdCast 291</a>]\n",
            "Séries: [<a class=\"cat-item product-nerdcast\" href=\"https://jovemnerd.com.br/nerdcast/caneca-de-mamicas/recordar-e-viver/\">Caneca de Mamicas 133</a>, <a class=\"cat-item product-nerdcast\" href=\"https://jovemnerd.com.br/nerdcast/loki-2-o-glorioso-proposito-do-deus-da-trapaca/\">NerdCast 908</a>, <a class=\"cat-item product-nerdcast\" href=\"https://jovemnerd.com.br/nerdcast/la-do-bunker/nepotismo-e-brotheragem/\">Lá do Bunker 122</a>, <a class=\"cat-item product-nerdcast\" href=\"https://jovemnerd.com.br/nerdcast/caneca-de-mamicas/vizinhas-do-mickey/\">Caneca de Mamicas 132</a>, <a class=\"cat-item product-nerdcast\" href=\"https://jovemnerd.com.br/playlist/especial-rpg-cronicas-de-ghanor/\">2011 - 2012 - 2022 - 2023</a>, <a class=\"cat-item product-nerdcast\" href=\"https://jovemnerd.com.br/playlist/rpg-call-of-cthulhu/\">2017 - 2020</a>, <a class=\"cat-item product-nerdcast\" href=\"https://jovemnerd.com.br/playlist/rpg-cyberpunk/\">2013 - 2016</a>, <a class=\"cat-item product-nerdcast\" href=\"https://jovemnerd.com.br/nerdcast/gen-v-drama-adolescente-com-poderes-muito-sangue-e-p0/\">NerdCast 907</a>, <a class=\"cat-item product-nerdcast\" href=\"https://jovemnerd.com.br/nerdcast/one-piece-o-rei-dos-live-action-de-anime/\">NerdCast 904</a>, <a class=\"cat-item product-nerdcast\" href=\"https://jovemnerd.com.br/nerdcast/ahsoka-e-contemplacao/\">NerdCast 903</a>, <a class=\"cat-item product-nerdcast\" href=\"https://jovemnerd.com.br/nerdcast/la-do-bunker/se-fazendo-de-dificil/\">Lá do Bunker 117</a>, <a class=\"cat-item product-nerdcast\" href=\"https://jovemnerd.com.br/nerdcast/caneca-de-mamicas/live-action-ou-nao-eis-a-questao/\">Caneca de Mamicas 123</a>, <a class=\"cat-item product-nerdcast\" href=\"https://jovemnerd.com.br/nerdcast/chega-de-filmes-de-heroi/\">NerdCast 894</a>, <a class=\"cat-item product-nerdcast\" href=\"https://jovemnerd.com.br/nerdcast/black-mirror-e-horrivel/\">NerdCast 890</a>, <a class=\"cat-item product-nerdcast\" href=\"https://jovemnerd.com.br/nerdcast/la-do-bunker/programa-sobrio/\">Lá do Bunker 95</a>, <a class=\"cat-item product-nerdcast\" href=\"https://jovemnerd.com.br/nerdcast/mandalorian-3-acabou-o-amor/\">NerdCast 879</a>, <a class=\"cat-item product-nerdcast\" href=\"https://jovemnerd.com.br/nerdcast/la-do-bunker/rt-comentado-da-vida-real/\">Lá do Bunker 93</a>, <a class=\"cat-item product-nerdcast\" href=\"https://jovemnerd.com.br/nerdcast/la-do-bunker/trauma-coletivo/\">Lá do Bunker 91</a>, <a class=\"cat-item product-nerdcast\" href=\"https://jovemnerd.com.br/nerdcast/la-do-bunker/pai-de-pet/\">Lá do Bunker 89</a>, <a class=\"cat-item product-nerdcast\" href=\"https://jovemnerd.com.br/nerdcast/the-last-of-us-procure-a-luz-morangos-e-zumbis/\">NerdCast 873</a>, <a class=\"cat-item product-nerdcast\" href=\"https://jovemnerd.com.br/nerdcast/la-do-bunker/prevendo-o-inesperado/\">Lá do Bunker 85</a>, <a class=\"cat-item product-nerdcast\" href=\"https://jovemnerd.com.br/nerdcast/caneca-de-mamicas/filmes-e-series-pra-colocar-na-sua-lista/\">Caneca de Mamicas 88</a>, <a class=\"cat-item product-nerdcast\" href=\"https://jovemnerd.com.br/nerdcast/la-do-bunker/velozes-e-furiosas/\">Lá do Bunker 73</a>, <a class=\"cat-item product-nerdcast\" href=\"https://jovemnerd.com.br/nerdcast/star-wars-andor-enfrentem-o-imperio/\">NerdCast 858</a>, <a class=\"cat-item product-nerdcast\" href=\"https://jovemnerd.com.br/nerdcast/la-do-bunker/el-bruxeiro-mexicano/\">Lá do Bunker 69</a>, <a class=\"cat-item product-nerdcast\" href=\"https://jovemnerd.com.br/nerdcast/mulher-hulk-destruindo-carros-e-a-quarta-parede/\">NerdCast 854</a>, <a class=\"cat-item product-nerdcast\" href=\"https://jovemnerd.com.br/nerdcast/house-of-the-dragon-conspiracoes-traicoes-e-pack-do-pezinho/\">NerdCast 853</a>]\n",
            "Star Wars: [<a class=\"cat-item product-nerdcast\" href=\"https://jovemnerd.com.br/nerdcast/caneca-de-mamicas/recordar-e-viver/\">Caneca de Mamicas 133</a>, <a class=\"cat-item product-nerdcast\" href=\"https://jovemnerd.com.br/nerdcast/loki-2-o-glorioso-proposito-do-deus-da-trapaca/\">NerdCast 908</a>, <a class=\"cat-item product-nerdcast\" href=\"https://jovemnerd.com.br/nerdcast/la-do-bunker/nepotismo-e-brotheragem/\">Lá do Bunker 122</a>, <a class=\"cat-item product-nerdcast\" href=\"https://jovemnerd.com.br/nerdcast/caneca-de-mamicas/vizinhas-do-mickey/\">Caneca de Mamicas 132</a>, <a class=\"cat-item product-nerdcast\" href=\"https://jovemnerd.com.br/playlist/especial-rpg-cronicas-de-ghanor/\">2011 - 2012 - 2022 - 2023</a>, <a class=\"cat-item product-nerdcast\" href=\"https://jovemnerd.com.br/playlist/rpg-call-of-cthulhu/\">2017 - 2020</a>, <a class=\"cat-item product-nerdcast\" href=\"https://jovemnerd.com.br/playlist/rpg-cyberpunk/\">2013 - 2016</a>, <a class=\"cat-item product-nerdcast\" href=\"https://jovemnerd.com.br/nerdcast/ahsoka-e-contemplacao/\">NerdCast 903</a>, <a class=\"cat-item product-nerdcast\" href=\"https://jovemnerd.com.br/nerdcast/star-wars-andor-enfrentem-o-imperio/\">NerdCast 858</a>, <a class=\"cat-item product-nerdcast\" href=\"https://jovemnerd.com.br/nerdcast/la-do-bunker/paquera-espacial/\">Lá do Bunker 61</a>, <a class=\"cat-item product-nerdcast\" href=\"https://jovemnerd.com.br/nerdcast/obi-wan-kenobi-poderia-ser-ben-melhor/\">NerdCast 836</a>, <a class=\"cat-item product-nerdcast\" href=\"https://jovemnerd.com.br/nerdcast/o-espaco-disputado/\">NerdCast 835</a>, <a class=\"cat-item product-nerdcast\" href=\"https://jovemnerd.com.br/nerdcast/o-desnecessario-livro-de-boba-fett/\">NerdCast 817</a>, <a class=\"cat-item product-nerdcast\" href=\"https://jovemnerd.com.br/nerdcast/star-wars-a-gente-reclama-mais-do-que-sonha/\">NerdCast 782</a>, <a class=\"cat-item product-nerdcast\" href=\"https://jovemnerd.com.br/nerdcast/mandalorian-a-baba-do-baby-yoda/\">NerdCast 708</a>, <a class=\"cat-item product-nerdcast\" href=\"https://jovemnerd.com.br/nerdcast/o-futuro-de-star-wars/\">NerdCast 696</a>, <a class=\"cat-item product-nerdcast\" href=\"https://jovemnerd.com.br/nerdcast/han-solo-e-o-que-tem-pra-hoje/\">NerdCast 622</a>, <a class=\"cat-item product-nerdcast\" href=\"https://jovemnerd.com.br/nerdcast/star-wars-os-ultimos-jedi-vem-pro-nosso-lado/\">NerdCast 599</a>, <a class=\"cat-item product-nerdcast\" href=\"https://jovemnerd.com.br/nerdcast/rogue-one/\">NerdCast 548</a>, <a class=\"cat-item product-nerdcast\" href=\"https://jovemnerd.com.br/nerdcast/nerdcast-497-star-wars-vii-o-despertar-das-emocoes/\">NerdCast 497</a>, <a class=\"cat-item product-nerdcast\" href=\"https://jovemnerd.com.br/nerdcast/nerdcast-495-a-revolucao-star-wars/\">NerdCast 495</a>, <a class=\"cat-item product-nerdcast\" href=\"https://jovemnerd.com.br/nerdcast/nerdcast-220-star-wars-a-carteira-e-o-universo-expandido-de-lucas/\">NerdCast 220</a>, <a class=\"cat-item product-nerdcast\" href=\"https://jovemnerd.com.br/nerdcast/nerdcast-199-star-wars-o-retorno-de-dos-do-para-o-jedi/\">NerdCast 199</a>, <a class=\"cat-item product-nerdcast\" href=\"https://jovemnerd.com.br/nerdcast/nerdcast-166-star-wars-o-imperio-contra-taca/\">NerdCast 166</a>, <a class=\"cat-item product-nerdcast\" href=\"https://jovemnerd.com.br/nerdcast/nerdcast-62-so-stormtroopers-imperiais-sao-tao-precisos/\">NerdCast 62</a>, <a class=\"cat-item product-nerdcast\" href=\"https://jovemnerd.com.br/nerdcast/nerdcast-54b-cavaleiros-jedi-que-dizem-nooo/\">NerdCast 54b</a>, <a class=\"cat-item product-nerdcast\" href=\"https://jovemnerd.com.br/nerdcast/nerdcast-54a-20000-lactobacilos-vivos/\">NerdCast 54a</a>]\n",
            "Tecnologia: [<a class=\"cat-item product-nerdcast\" href=\"https://jovemnerd.com.br/nerdcast/caneca-de-mamicas/recordar-e-viver/\">Caneca de Mamicas 133</a>, <a class=\"cat-item product-nerdcast\" href=\"https://jovemnerd.com.br/nerdcast/loki-2-o-glorioso-proposito-do-deus-da-trapaca/\">NerdCast 908</a>, <a class=\"cat-item product-nerdcast\" href=\"https://jovemnerd.com.br/nerdcast/la-do-bunker/nepotismo-e-brotheragem/\">Lá do Bunker 122</a>, <a class=\"cat-item product-nerdcast\" href=\"https://jovemnerd.com.br/nerdcast/caneca-de-mamicas/vizinhas-do-mickey/\">Caneca de Mamicas 132</a>, <a class=\"cat-item product-nerdcast\" href=\"https://jovemnerd.com.br/playlist/especial-rpg-cronicas-de-ghanor/\">2011 - 2012 - 2022 - 2023</a>, <a class=\"cat-item product-nerdcast\" href=\"https://jovemnerd.com.br/playlist/rpg-call-of-cthulhu/\">2017 - 2020</a>, <a class=\"cat-item product-nerdcast\" href=\"https://jovemnerd.com.br/playlist/rpg-cyberpunk/\">2013 - 2016</a>, <a class=\"cat-item product-nerdcast\" href=\"https://jovemnerd.com.br/nerdcast/nerdtech/o-que-esperar-dos-novos-smartphones/\">NerdTech 93</a>, <a class=\"cat-item product-nerdcast\" href=\"https://jovemnerd.com.br/nerdcast/nerdtech/i-a-delivery/\">NerdTech 92</a>, <a class=\"cat-item product-nerdcast\" href=\"https://jovemnerd.com.br/nerdcast/nerdtech/corrida-pelo-polo-sul-da-lua/\">NerdTech 91</a>, <a class=\"cat-item product-nerdcast\" href=\"https://jovemnerd.com.br/nerdcast/nerdtech/rinha-de-bilionario-tech/\">NerdTech 90</a>, <a class=\"cat-item product-nerdcast\" href=\"https://jovemnerd.com.br/nerdcast/nerdtech/oculos-vr-e-a-visao-alem-do-bolso/\">NerdTech 89</a>, <a class=\"cat-item product-nerdcast\" href=\"https://jovemnerd.com.br/nerdcast/nerdtech/ai-7-ferramentas-indispensaveis-para-o-seu-trabalho/\">NerdTech 88</a>, <a class=\"cat-item product-nerdcast\" href=\"https://jovemnerd.com.br/nerdcast/nerdtech/automacao-no-code-para-gerente-de-produtos/\">NerdTech 87</a>, <a class=\"cat-item product-nerdcast\" href=\"https://jovemnerd.com.br/nerdcast/nerdtech/as-transformacoes-do-chat-gpt/\">NerdTech 86</a>, <a class=\"cat-item product-nerdcast\" href=\"https://jovemnerd.com.br/nerdcast/tecnologias-do-futuro-4-ai-e-chatgpt/\">NerdCast 875</a>, <a class=\"cat-item product-nerdcast\" href=\"https://jovemnerd.com.br/nerdcast/nerdtech/chat-gpt-a-revolucao-em-forma-de-texto/\">NerdTech 84</a>, <a class=\"cat-item product-nerdcast\" href=\"https://jovemnerd.com.br/nerdcast/nerdtech/faculdades-de-tecnologia-na-era-das-aulas-online/\">NerdTech 83</a>, <a class=\"cat-item product-nerdcast\" href=\"https://jovemnerd.com.br/nerdcast/nerdtech/desbravando-o-vale-do-silicio-big-techs-e-a-carteira/\">NerdTech 82</a>, <a class=\"cat-item product-nerdcast\" href=\"https://jovemnerd.com.br/nerdcast/extra/ensinando-as-maquinas-a-pensar/\">Extra Oferecido por Instituto Mauá de Tecnologia</a>, <a class=\"cat-item product-nerdcast\" href=\"https://jovemnerd.com.br/nerdcast/nerdtech/engenheiros-de-arte-gerativa/\">NerdTech 80</a>, <a class=\"cat-item product-nerdcast\" href=\"https://jovemnerd.com.br/nerdcast/extra/criando-produtos-e-assinaturas-digitais/\">Extra Oferecido por Zapsign</a>, <a class=\"cat-item product-nerdcast\" href=\"https://jovemnerd.com.br/nerdcast/papo-de-parceiro/quebrando-galhos-no-brasil-inteiro/\">Papo de Parceiro 13</a>, <a class=\"cat-item product-nerdcast\" href=\"https://jovemnerd.com.br/nerdcast/la-do-bunker/virgem-de-o-senhor-dos-aneis/\">Lá do Bunker 57</a>, <a class=\"cat-item product-nerdcast\" href=\"https://jovemnerd.com.br/nerdcast/caneca-de-mamicas/o-lado-zen-da-vida/\">Caneca de Mamicas 67</a>, <a class=\"cat-item product-nerdcast\" href=\"https://jovemnerd.com.br/nerdcast/as-profissoes-do-futuro/\">NerdCast 842</a>, <a class=\"cat-item product-nerdcast\" href=\"https://jovemnerd.com.br/nerdcast/nerdtech/o-mercado-pos-pandemia/\">NerdTech 78</a>]\n",
            "Teoria da Conspiração: [<a class=\"cat-item product-nerdcast\" href=\"https://jovemnerd.com.br/nerdcast/caneca-de-mamicas/recordar-e-viver/\">Caneca de Mamicas 133</a>, <a class=\"cat-item product-nerdcast\" href=\"https://jovemnerd.com.br/nerdcast/loki-2-o-glorioso-proposito-do-deus-da-trapaca/\">NerdCast 908</a>, <a class=\"cat-item product-nerdcast\" href=\"https://jovemnerd.com.br/nerdcast/la-do-bunker/nepotismo-e-brotheragem/\">Lá do Bunker 122</a>, <a class=\"cat-item product-nerdcast\" href=\"https://jovemnerd.com.br/nerdcast/caneca-de-mamicas/vizinhas-do-mickey/\">Caneca de Mamicas 132</a>, <a class=\"cat-item product-nerdcast\" href=\"https://jovemnerd.com.br/playlist/especial-rpg-cronicas-de-ghanor/\">2011 - 2012 - 2022 - 2023</a>, <a class=\"cat-item product-nerdcast\" href=\"https://jovemnerd.com.br/playlist/rpg-call-of-cthulhu/\">2017 - 2020</a>, <a class=\"cat-item product-nerdcast\" href=\"https://jovemnerd.com.br/playlist/rpg-cyberpunk/\">2013 - 2016</a>, <a class=\"cat-item product-nerdcast\" href=\"https://jovemnerd.com.br/nerdcast/la-do-bunker/virgem-de-o-senhor-dos-aneis/\">Lá do Bunker 57</a>, <a class=\"cat-item product-nerdcast\" href=\"https://jovemnerd.com.br/nerdcast/as-profissoes-do-futuro/\">NerdCast 842</a>, <a class=\"cat-item product-nerdcast\" href=\"https://jovemnerd.com.br/nerdcast/la-do-bunker/cachorro-nao-usa-chupeta/\">Lá do Bunker 49</a>, <a class=\"cat-item product-nerdcast\" href=\"https://jovemnerd.com.br/nerdcast/o-espaco-disputado/\">NerdCast 835</a>, <a class=\"cat-item product-nerdcast\" href=\"https://jovemnerd.com.br/nerdcast/novas-teorias-e-conspiracoes/\">NerdCast 552</a>, <a class=\"cat-item product-nerdcast\" href=\"https://jovemnerd.com.br/nerdcast/nerdcast-259-osama-nao-e-obama-ou-nao/\">NerdCast 259</a>, <a class=\"cat-item product-nerdcast\" href=\"https://jovemnerd.com.br/nerdcast/nerdcast-178-conspiracoes-em-11-de-setembro/\">NerdCast 178</a>, <a class=\"cat-item product-nerdcast\" href=\"https://jovemnerd.com.br/nerdcast/nerdcast-136-teoria-da-conspiracao-codigos-experimentos-e-poligonos/\">NerdCast 136</a>, <a class=\"cat-item product-nerdcast\" href=\"https://jovemnerd.com.br/nerdcast/nerdcast-78-conspiracao-leave-britney-alone/\">NerdCast 78</a>, <a class=\"cat-item product-nerdcast\" href=\"https://jovemnerd.com.br/nerdcast/nerdcast-72-constantinopla/\">NerdCast 72</a>]\n",
            "Terror: [<a class=\"cat-item product-nerdcast\" href=\"https://jovemnerd.com.br/nerdcast/caneca-de-mamicas/recordar-e-viver/\">Caneca de Mamicas 133</a>, <a class=\"cat-item product-nerdcast\" href=\"https://jovemnerd.com.br/nerdcast/loki-2-o-glorioso-proposito-do-deus-da-trapaca/\">NerdCast 908</a>, <a class=\"cat-item product-nerdcast\" href=\"https://jovemnerd.com.br/nerdcast/la-do-bunker/nepotismo-e-brotheragem/\">Lá do Bunker 122</a>, <a class=\"cat-item product-nerdcast\" href=\"https://jovemnerd.com.br/nerdcast/caneca-de-mamicas/vizinhas-do-mickey/\">Caneca de Mamicas 132</a>, <a class=\"cat-item product-nerdcast\" href=\"https://jovemnerd.com.br/playlist/especial-rpg-cronicas-de-ghanor/\">2011 - 2012 - 2022 - 2023</a>, <a class=\"cat-item product-nerdcast\" href=\"https://jovemnerd.com.br/playlist/rpg-call-of-cthulhu/\">2017 - 2020</a>, <a class=\"cat-item product-nerdcast\" href=\"https://jovemnerd.com.br/playlist/rpg-cyberpunk/\">2013 - 2016</a>, <a class=\"cat-item product-nerdcast\" href=\"https://jovemnerd.com.br/nerdcast/la-do-bunker/virgem-de-o-senhor-dos-aneis/\">Lá do Bunker 57</a>, <a class=\"cat-item product-nerdcast\" href=\"https://jovemnerd.com.br/nerdcast/caneca-de-mamicas/mais-vale-um-padre-no-porao-do-que-dois-capirotos-voando/\">Caneca de Mamicas 27</a>, <a class=\"cat-item product-nerdcast\" href=\"https://jovemnerd.com.br/nerdcast/caneca-de-mamicas/antes-so-do-que-mal-assombrado/\">Caneca de Mamicas 26</a>, <a class=\"cat-item product-nerdcast\" href=\"https://jovemnerd.com.br/nerdcast/pelados-e-apavorados/\">NerdCast 801</a>, <a class=\"cat-item product-nerdcast\" href=\"https://jovemnerd.com.br/nerdcast/o-sobrenatural-nao-ecziste-ou-nao-2/\">NerdCast 652</a>, <a class=\"cat-item product-nerdcast\" href=\"https://jovemnerd.com.br/nerdcast/nerdcast-106-mioooolos/\">NerdCast 106</a>, <a class=\"cat-item product-nerdcast\" href=\"https://jovemnerd.com.br/nerdcast/nerdcast-37-nerdcast-com-o-vampiro/\">NerdCast 37</a>, <a class=\"cat-item product-nerdcast\" href=\"https://jovemnerd.com.br/nerdcast/nerdcast-18-a-madrugada-dos-nerds/\">NerdCast 18</a>]\n",
            "Trabalho: [<a class=\"cat-item product-nerdcast\" href=\"https://jovemnerd.com.br/nerdcast/caneca-de-mamicas/recordar-e-viver/\">Caneca de Mamicas 133</a>, <a class=\"cat-item product-nerdcast\" href=\"https://jovemnerd.com.br/nerdcast/loki-2-o-glorioso-proposito-do-deus-da-trapaca/\">NerdCast 908</a>, <a class=\"cat-item product-nerdcast\" href=\"https://jovemnerd.com.br/nerdcast/la-do-bunker/nepotismo-e-brotheragem/\">Lá do Bunker 122</a>, <a class=\"cat-item product-nerdcast\" href=\"https://jovemnerd.com.br/nerdcast/caneca-de-mamicas/vizinhas-do-mickey/\">Caneca de Mamicas 132</a>, <a class=\"cat-item product-nerdcast\" href=\"https://jovemnerd.com.br/playlist/especial-rpg-cronicas-de-ghanor/\">2011 - 2012 - 2022 - 2023</a>, <a class=\"cat-item product-nerdcast\" href=\"https://jovemnerd.com.br/playlist/rpg-call-of-cthulhu/\">2017 - 2020</a>, <a class=\"cat-item product-nerdcast\" href=\"https://jovemnerd.com.br/playlist/rpg-cyberpunk/\">2013 - 2016</a>, <a class=\"cat-item product-nerdcast\" href=\"https://jovemnerd.com.br/nerdcast/nerdtech/ai-7-ferramentas-indispensaveis-para-o-seu-trabalho/\">NerdTech 88</a>, <a class=\"cat-item product-nerdcast\" href=\"https://jovemnerd.com.br/nerdcast/papo-de-parceiro/quebrando-galhos-no-brasil-inteiro/\">Papo de Parceiro 13</a>, <a class=\"cat-item product-nerdcast\" href=\"https://jovemnerd.com.br/nerdcast/caneca-de-mamicas/o-lado-zen-da-vida/\">Caneca de Mamicas 67</a>, <a class=\"cat-item product-nerdcast\" href=\"https://jovemnerd.com.br/nerdcast/as-profissoes-do-futuro/\">NerdCast 842</a>, <a class=\"cat-item product-nerdcast\" href=\"https://jovemnerd.com.br/nerdcast/caneca-de-mamicas/nosso-microfone-nao-sera-desplugado/\">Caneca de Mamicas 66</a>, <a class=\"cat-item product-nerdcast\" href=\"https://jovemnerd.com.br/nerdcast/nerdtech/o-mercado-pos-pandemia/\">NerdTech 78</a>, <a class=\"cat-item product-nerdcast\" href=\"https://jovemnerd.com.br/nerdcast/empreendedor/fama-e-negocios/\">Empreendedor 89</a>, <a class=\"cat-item product-nerdcast\" href=\"https://jovemnerd.com.br/nerdcast/papo-de-parceiro/marcando-gols-no-e-commerce-esportivo/\">Papo de Parceiro 12</a>, <a class=\"cat-item product-nerdcast\" href=\"https://jovemnerd.com.br/nerdcast/caneca-de-mamicas/a-perfeicao-e-inimiga-do-aprendizado/\">Caneca de Mamicas 64</a>, <a class=\"cat-item product-nerdcast\" href=\"https://jovemnerd.com.br/nerdcast/nerdcash/a-montanha-russa-dos-ciclos-economicos/\">NerdCash 49</a>, <a class=\"cat-item product-nerdcast\" href=\"https://jovemnerd.com.br/nerdcast/nerdtech/games-monetizados/\">NerdTech 77</a>, <a class=\"cat-item product-nerdcast\" href=\"https://jovemnerd.com.br/nerdcast/la-do-bunker/cachorro-nao-usa-chupeta/\">Lá do Bunker 49</a>, <a class=\"cat-item product-nerdcast\" href=\"https://jovemnerd.com.br/nerdcast/caneca-de-mamicas/curtindo-o-percurso/\">Caneca de Mamicas 60</a>, <a class=\"cat-item product-nerdcast\" href=\"https://jovemnerd.com.br/nerdcast/o-espaco-disputado/\">NerdCast 835</a>, <a class=\"cat-item product-nerdcast\" href=\"https://jovemnerd.com.br/nerdcast/caneca-de-mamicas/e-resgatando-que-se-e-resgatado/\">Caneca de Mamicas 55</a>, <a class=\"cat-item product-nerdcast\" href=\"https://jovemnerd.com.br/nerdcast/papo-de-parceiro/fazendo-as-compras-no-super-market-place/\">Papo de Parceiro 10</a>, <a class=\"cat-item product-nerdcast\" href=\"https://jovemnerd.com.br/nerdcast/la-do-bunker/bastidores-bombasticos-do-bunker/\">Lá do Bunker 43</a>, <a class=\"cat-item product-nerdcast\" href=\"https://jovemnerd.com.br/nerdcast/papo-de-parceiro/da-internet-para-a-estante/\">Papo de Parceiro 09</a>, <a class=\"cat-item product-nerdcast\" href=\"https://jovemnerd.com.br/nerdcast/papo-de-parceiro/moda-do-comercio-aos-pes/\">Papo de Parceiro 08</a>, <a class=\"cat-item product-nerdcast\" href=\"https://jovemnerd.com.br/nerdcast/papo-de-parceiro/a-importancia-da-presenca-nas-redes-sociais/\">Papo de Parceiro 07</a>]\n",
            "TV: [<a class=\"cat-item product-nerdcast\" href=\"https://jovemnerd.com.br/nerdcast/caneca-de-mamicas/recordar-e-viver/\">Caneca de Mamicas 133</a>, <a class=\"cat-item product-nerdcast\" href=\"https://jovemnerd.com.br/nerdcast/loki-2-o-glorioso-proposito-do-deus-da-trapaca/\">NerdCast 908</a>, <a class=\"cat-item product-nerdcast\" href=\"https://jovemnerd.com.br/nerdcast/la-do-bunker/nepotismo-e-brotheragem/\">Lá do Bunker 122</a>, <a class=\"cat-item product-nerdcast\" href=\"https://jovemnerd.com.br/nerdcast/caneca-de-mamicas/vizinhas-do-mickey/\">Caneca de Mamicas 132</a>, <a class=\"cat-item product-nerdcast\" href=\"https://jovemnerd.com.br/playlist/especial-rpg-cronicas-de-ghanor/\">2011 - 2012 - 2022 - 2023</a>, <a class=\"cat-item product-nerdcast\" href=\"https://jovemnerd.com.br/playlist/rpg-call-of-cthulhu/\">2017 - 2020</a>, <a class=\"cat-item product-nerdcast\" href=\"https://jovemnerd.com.br/playlist/rpg-cyberpunk/\">2013 - 2016</a>]\n",
            "Viagens: [<a class=\"cat-item product-nerdcast\" href=\"https://jovemnerd.com.br/nerdcast/caneca-de-mamicas/recordar-e-viver/\">Caneca de Mamicas 133</a>, <a class=\"cat-item product-nerdcast\" href=\"https://jovemnerd.com.br/nerdcast/loki-2-o-glorioso-proposito-do-deus-da-trapaca/\">NerdCast 908</a>, <a class=\"cat-item product-nerdcast\" href=\"https://jovemnerd.com.br/nerdcast/la-do-bunker/nepotismo-e-brotheragem/\">Lá do Bunker 122</a>, <a class=\"cat-item product-nerdcast\" href=\"https://jovemnerd.com.br/nerdcast/caneca-de-mamicas/vizinhas-do-mickey/\">Caneca de Mamicas 132</a>, <a class=\"cat-item product-nerdcast\" href=\"https://jovemnerd.com.br/playlist/especial-rpg-cronicas-de-ghanor/\">2011 - 2012 - 2022 - 2023</a>, <a class=\"cat-item product-nerdcast\" href=\"https://jovemnerd.com.br/playlist/rpg-call-of-cthulhu/\">2017 - 2020</a>, <a class=\"cat-item product-nerdcast\" href=\"https://jovemnerd.com.br/playlist/rpg-cyberpunk/\">2013 - 2016</a>, <a class=\"cat-item product-nerdcast\" href=\"https://jovemnerd.com.br/nerdcast/caneca-de-mamicas/chic-londres/\">Caneca de Mamicas 105 </a>, <a class=\"cat-item product-nerdcast\" href=\"https://jovemnerd.com.br/nerdcast/caneca-de-mamicas/a-realidade-americana/\">Caneca de Mamicas 101</a>, <a class=\"cat-item product-nerdcast\" href=\"https://jovemnerd.com.br/nerdcast/papo-de-parceiro/quebrando-galhos-no-brasil-inteiro/\">Papo de Parceiro 13</a>, <a class=\"cat-item product-nerdcast\" href=\"https://jovemnerd.com.br/nerdcast/la-do-bunker/virgem-de-o-senhor-dos-aneis/\">Lá do Bunker 57</a>, <a class=\"cat-item product-nerdcast\" href=\"https://jovemnerd.com.br/nerdcast/caneca-de-mamicas/o-lado-zen-da-vida/\">Caneca de Mamicas 67</a>, <a class=\"cat-item product-nerdcast\" href=\"https://jovemnerd.com.br/nerdcast/nerdtech/o-mercado-pos-pandemia/\">NerdTech 78</a>, <a class=\"cat-item product-nerdcast\" href=\"https://jovemnerd.com.br/nerdcast/la-do-bunker/autocritica-e-game-over/\">Lá do Bunker 53</a>, <a class=\"cat-item product-nerdcast\" href=\"https://jovemnerd.com.br/nerdcast/nerdcash/a-montanha-russa-dos-ciclos-economicos/\">NerdCash 49</a>, <a class=\"cat-item product-nerdcast\" href=\"https://jovemnerd.com.br/nerdcast/la-do-bunker/cachorro-nao-usa-chupeta/\">Lá do Bunker 49</a>, <a class=\"cat-item product-nerdcast\" href=\"https://jovemnerd.com.br/nerdcast/o-espaco-disputado/\">NerdCast 835</a>, <a class=\"cat-item product-nerdcast\" href=\"https://jovemnerd.com.br/nerdcast/caneca-de-mamicas/e-resgatando-que-se-e-resgatado/\">Caneca de Mamicas 55</a>, <a class=\"cat-item product-nerdcast\" href=\"https://jovemnerd.com.br/nerdcast/la-do-bunker/bastidores-bombasticos-do-bunker/\">Lá do Bunker 43</a>, <a class=\"cat-item product-nerdcast\" href=\"https://jovemnerd.com.br/nerdcast/speak-english/diferencas-culturais-but-not-so-much/\">Speak English 50</a>, <a class=\"cat-item product-nerdcast\" href=\"https://jovemnerd.com.br/nerdcast/caneca-de-mamicas/viajar-pra-se-libertar/\">Caneca de Mamicas 46</a>, <a class=\"cat-item product-nerdcast\" href=\"https://jovemnerd.com.br/nerdcast/sonhando-com-a-proxima-viagem/\">NerdCast 748</a>, <a class=\"cat-item product-nerdcast\" href=\"https://jovemnerd.com.br/nerdcast/viajar-e-se-fder-4/\">NerdCast 714</a>, <a class=\"cat-item product-nerdcast\" href=\"https://jovemnerd.com.br/nerdcast/viajar-e-se-fder-3/\">NerdCast 683</a>, <a class=\"cat-item product-nerdcast\" href=\"https://jovemnerd.com.br/nerdcast/viajar-e-se-f-der-2/\">NerdCast 636</a>, <a class=\"cat-item product-nerdcast\" href=\"https://jovemnerd.com.br/nerdcast/nerdtour-russia/\">NerdCast 630</a>, <a class=\"cat-item product-nerdcast\" href=\"https://jovemnerd.com.br/nerdcast/road-trip/\">NerdCast 580</a>]\n"
          ]
        }
      ],
      "source": [
        "i_theme = 1\n",
        "index_theme = 0\n",
        "\n",
        "while len(list_podcasts_subject[list_themes[-1]]) <= 0:\n",
        "  select = driver.find_element(By.CLASS_NAME, 'nerdcast-filter')\n",
        "  choosed = Select(select).select_by_index(i_theme)\n",
        "\n",
        "  button = driver.find_element(By.ID, 'show-more-podcasts')\n",
        "\n",
        "  style_value = button.get_attribute('style')\n",
        "\n",
        "  if style_value == 'display: block;':\n",
        "\n",
        "      button.click()\n",
        "      time.sleep(5)\n",
        "      new_html = driver.page_source\n",
        "      soup = bs(new_html, 'html.parser')\n",
        "\n",
        "  else:\n",
        "    time.sleep(5)\n",
        "    new_html = driver.page_source\n",
        "    soup = bs(new_html, 'html.parser')\n",
        "\n",
        "    get_podcast = soup.find_all('a', class_='cat-item product-nerdcast')\n",
        "\n",
        "    list_podcasts_subject[list_themes[index_theme]] = get_podcast\n",
        "    print(f'{list_themes[index_theme]}: {list_podcasts_subject[list_themes[index_theme]]}')\n",
        "\n",
        "    i_theme += 1\n",
        "    index_theme += 1"
      ]
    },
    {
      "cell_type": "markdown",
      "metadata": {
        "id": "CwFNdk84MneN"
      },
      "source": [
        "### Get text"
      ]
    },
    {
      "cell_type": "code",
      "execution_count": null,
      "metadata": {
        "id": "F1BED_5-Mnlb",
        "colab": {
          "base_uri": "https://localhost:8080/"
        },
        "outputId": "f0e35c51-3a13-4cd9-e510-9405fc7cabe5"
      },
      "outputs": [
        {
          "output_type": "stream",
          "name": "stdout",
          "text": [
            "{'Animação': ['Caneca de Mamicas 123', 'NerdCast 885', 'Lá do Bunker 57', 'Lá do Bunker 53', 'Lá do Bunker 50', 'Lá do Bunker 49', 'Lá do Bunker 47', 'Lá do Bunker 46', 'NerdCast 832', 'Lá do Bunker 38', 'NerdCast 815', 'Extra Oferecido por Arcane: League of Legends', 'Extra Oferecido por Arcane: League of Legends', 'Extra Oferecido por Arcane: League of Legends', 'NerdCast 590', 'NerdCast 563', 'NerdCast 252', 'NerdCast 121', 'NerdCast 81', 'NerdCast 75'], 'Artes Marciais': ['Lá do Bunker 57', 'Lá do Bunker 50', 'NerdCast 309', 'NerdCast 134'], 'Audio Drama': ['NerdCast 898', 'NerdCast 897', 'Lá do Bunker 57', 'Extra Oferecido por Spotify', 'NerdCast 342'], 'Biografia': ['Caneca de Mamicas 121', 'Papo de Parceiro 13', 'Lá do Bunker 57', 'Caneca de Mamicas 67', 'Caneca de Mamicas 66', 'Empreendedor 89', 'Generacast 10', 'NerdCast 807', 'Empreendedor 82', 'NerdCast 728', 'NerdCast 726', 'NerdTech 46', 'NerdCast 676', 'NerdCast 665', 'NerdCast 646', 'NerdCast 344', 'NerdCast 280', 'NerdCast 184b', 'NerdCast 184a', 'NerdCast 175'], 'Ciências': ['Caneca de Mamicas 130', 'NerdCast 896', 'NerdCast 891', 'NerdCast 886', 'Generacast 13', 'Caneca de Mamicas 103', 'Caneca de Mamicas 97', 'Caneca de Mamicas 95', 'Caneca de Mamicas 92', 'NerdCast 859', 'NerdTech 81', 'Generacast 12', 'Extra Oferecido por Instituto Mauá de Tecnologia', 'NerdCast 848', 'Generacast 11', 'NerdTech 79', 'Caneca de Mamicas 67', 'NerdCast 842', 'Caneca de Mamicas 66', 'NerdCast 840'], 'Cinema': ['Lá do Bunker 117', 'Lá do Bunker 114', 'Lá do Bunker 113', 'Caneca de Mamicas 123', 'NerdCast 894', 'Caneca de Mamicas 117', 'NerdCast 889', 'Lá do Bunker 103', 'NerdCast 887', 'NerdCast 885', 'Lá do Bunker 97', 'NerdCast 881', 'Lá do Bunker 95', 'NerdCast 878', 'NerdCast 877', 'Lá do Bunker 91', 'Lá do Bunker 89', 'Lá do Bunker 88', 'Lá do Bunker Oscar 06', 'Lá do Bunker Oscar 05'], 'Comportamento': ['Caneca de Mamicas 131', 'Caneca de Mamicas 129', 'Caneca de Mamicas 125', 'Caneca de Mamicas 122', 'Papo de Parceiro 25', 'Caneca de Mamicas 120'], 'Cotidiano': ['NerdCast 905', 'Caneca de Mamicas 128', 'Caneca de Mamicas 127', 'NerdCast 901', 'NerdCast 899', 'Caneca de Mamicas 119', 'NerdCast 893', 'Caneca de Mamicas 115', 'NerdCast 888', 'Caneca de Mamicas 112', 'Caneca de Mamicas 106', 'NerdCast BabyCast 4 ', 'Caneca de Mamicas 105 ', 'NerdCast 880', 'Caneca de Mamicas 104', 'Caneca de Mamicas 102'], 'Dia dos Namorados': ['Caneca de Mamicas 110', 'NerdCast 884', 'Caneca de Mamicas 59', 'Caneca de Mamicas 58', 'NerdCast 833', 'NerdCast 781', 'NerdCast 729', 'NerdCast 677', 'NerdCast 623', 'NerdCast 571', 'NerdCast 520', 'NerdCast 469', 'NerdCast 417', 'NerdCast 366', 'NerdCast 314', 'NerdCast 263', 'NerdCast 213', 'NerdCast 165'], 'Educação': ['Papo de Parceiro 27', 'Caneca de Mamicas 124', 'Caneca de Mamicas 108', 'Empreendedor 93', 'NerdTech 84', 'Extra Oferecido por XP EDUCAÇÃO', 'NerdTech 83', 'NerdCast 859', 'Caneca de Mamicas 82', 'Caneca de Mamicas 78', 'Caneca de Mamicas 75', 'Extra Oferecido por Zapsign', 'Empreendedor 90', 'Caneca de Mamicas 68', 'NerdCast 842', 'Caneca de Mamicas 66', 'NerdTech 78', 'Empreendedor 89', 'Papo de Parceiro 12', 'Caneca de Mamicas 64'], 'Empreendedorismo': ['NerdTech 93', 'Papo de Parceiro 27', 'Extra Oferecido por SomosCoop', 'Papo de Parceiro 26', 'Papo de Parceiro 25', 'Papo de Parceiro 24', 'Papo de Parceiro 23', 'Empreendedor 93', 'Papo de Parceiro 22', 'Papo de Parceiro 21', 'Papo de Parceiro 20 ', 'Papo de Parceiro 19', 'Empreendedor 92', 'Papo de Parceiro 18', 'Papo de Parceiro 17', 'Papo de Parceiro 16', 'Papo de Parceiro 15', 'Empreendedor 91', 'Papo de Parceiro 14', 'NerdTech 79'], 'Entrevistas': ['Papo de Parceiro 18', 'Lá do Bunker 75', 'Caneca de Mamicas 79', 'Papo de Parceiro 15', 'Papo de Parceiro 14', 'Lá do Bunker 60', 'Empreendedor 90', 'Lá do Bunker 58', 'Caneca de Mamicas 68', 'Papo de Parceiro 13', 'Lá do Bunker 57', 'Caneca de Mamicas 67', 'NerdCast 842', 'Caneca de Mamicas 66', 'NerdTech 78', 'Empreendedor 89', 'Papo de Parceiro 12', 'Lá do Bunker 53', 'NerdCash 49', 'Lá do Bunker 50'], 'Esportes': ['Caneca de Mamicas 116', 'NerdCast 868', 'NerdCast 863', 'Vai te Catar 29', 'Vai te Catar 28', 'Vai te Catar 27', 'Vai te Catar 26', 'Vai te Catar 25', 'Vai te Catar 24', 'Vai te Catar 23', 'Vai te Catar 22', 'Vai te Catar 21', 'Vai te Catar 20', 'Vai te Catar 19', 'Vai te Catar 18', 'Vai te Catar 17', 'Vai te Catar 16', 'Vai te Catar 15', 'Vai te Catar 14'], 'Game of Thrones': ['Lá do Bunker 60', 'Lá do Bunker 59', 'Lá do Bunker 58', 'Lá do Bunker 54', 'Lá do Bunker 49', 'Lá do Bunker 48', 'NerdCast 675', 'NerdCast 668', 'NerdCast 583', 'NerdCast 523', 'NerdCast 472', 'NerdCast 420', 'NerdCast 368', 'NerdCast 258'], 'Games': ['NerdCast 906', 'Lá do Bunker 114', 'Lá do Bunker 113', 'NerdCast 883', 'NerdCast 874', 'Lá do Bunker 88', 'NerdTech 85', 'Lá do Bunker 81', 'Lá do Bunker 71', 'Extra Oferecido por Magic: The Gathering', 'Lá do Bunker 61', 'Lá do Bunker 59', 'Lá do Bunker 58', 'Lá do Bunker 57', 'NerdCast 842', 'Papo de Parceiro 12', 'Lá do Bunker 53', 'Lá do Bunker 50', 'NerdTech 77', 'Lá do Bunker 46'], 'Gastronomia': ['NerdCast Extra oferecido por The Waffle King', 'Papo de Parceiro 13', 'Lá do Bunker 57', 'Caneca de Mamicas 67', 'NerdTech 78', 'Papo de Parceiro 12', 'Caneca de Mamicas 52', 'NerdCast 819', 'Generacast 08', 'Caneca de Mamicas 41', 'Caneca de Mamicas 40', 'Speak English 29', 'NerdCast 694', 'NerdCast 647', 'NerdCast 606', 'NerdCast 586', 'NerdCast 585', 'NerdCast 504', 'NerdCast 434', 'NerdCast 355'], 'História': ['NerdCast 891', 'Caneca de Mamicas 93', 'NerdCast 867', 'NerdCast 849', 'Generacast 11', 'NerdCast 844', 'Lá do Bunker 57', 'Caneca de Mamicas 66', 'Caneca de Mamicas 65', 'Generacast 10', 'Lá do Bunker 49', 'NerdCast 835', 'NerdCast 821', 'NerdCast 793', 'NerdCast 790', 'NerdCast 776', 'NerdCast 771', 'NerdCast 755', 'NerdCast 752', 'NerdCast 744'], 'História Alternativa': ['NerdCast 895', 'Caneca de Mamicas 114', 'Generacast 11', 'Lá do Bunker 57', 'Caneca de Mamicas 66', 'Lá do Bunker 53', 'NerdCast 816', 'NerdCast 766', 'NerdCast 688', 'NerdCast 632', 'NerdCast 615', 'NerdCast 605', 'NerdCast 537', 'NerdCast 488', 'NerdCast 451', 'NerdCast 362', 'NerdCast 361', 'NerdCast 305', 'NerdCast 277', 'NerdCast 248'], 'Internet': ['NerdCast 898', 'Caneca de Mamicas 118', 'NerdTech 90', 'NerdTech 89', 'Caneca de Mamicas 109', 'Lá do Bunker 97', 'NerdTech 87', 'Lá do Bunker 91', 'Lá do Bunker 88', 'NerdTech 85', 'Lá do Bunker 85', 'Lá do Bunker  Extra', 'Lá do Bunker 75', 'NerdTech 82', 'Lá do Bunker 69', 'Papo de Parceiro 15', 'NerdTech 80', 'Papo de Parceiro 14', 'Extra Oferecido por Zapsign', 'Lá do Bunker 61'], 'Lendas e Mistérios': ['Lá do Bunker 57', 'Lá do Bunker 50', 'Lá do Bunker 48', 'NerdCast 430', 'NerdCast 409', 'NerdCast 281', 'NerdCast 270', 'NerdCast 232', 'NerdCast 226', 'NerdCast 205', 'NerdCast 205', 'NerdCast 197', 'NerdCast 181', 'NerdCast 112b', 'NerdCast 112a'], 'Literatura': ['Lá do Bunker 57', 'Caneca de Mamicas 67', 'Caneca de Mamicas 66', 'Lá do Bunker 53', 'Lá do Bunker 50', 'Lá do Bunker 49', 'Lá do Bunker 48', 'Lá do Bunker 46', 'Lá do Bunker 44', 'Caneca de Mamicas 51', 'NerdCast 806', 'NerdCast 704', 'NerdCast 522', 'NerdCast 491', 'NerdCast 472', 'NerdCast 471', 'NerdCast 435', 'NerdCast 406', 'NerdCast 385', 'NerdCast 379'], 'Lost': ['NerdCast 219', 'NerdCast 210', 'NerdCast 168b', 'NerdCast 168a', 'NerdCast 116b', 'NerdCast 116a', 'NerdCast 76b', 'NerdCast 76a', 'NerdCast 42', 'NerdCast 28b', 'NerdCast 28a'], 'MAIS POPULARES': ['Lá do Bunker 57', 'Empreendedor 89', 'Lá do Bunker 53', 'Lá do Bunker 49', 'Lá do Bunker 48', 'NerdCast 825', 'NerdCast 724', 'NerdCast 699', 'NerdCast 603', 'NerdCast 602', 'NerdCast 600', 'NerdCast 590', 'NerdCast 589', 'NerdCast 585', 'NerdCast 583', 'NerdCast 582', 'NerdCast 549', 'NerdCast 446', 'NerdCast 395', 'NerdCast 291'], 'Melhores Momentos': ['NerdCast 900', 'NerdCast 850', 'Lá do Bunker 57', 'Caneca de Mamicas 67', 'Empreendedor 89', 'Lá do Bunker 53', 'Lá do Bunker 43', 'Caneca de Mamicas 50', 'NerdCast 800', 'NerdCast 750', 'NerdCast 700', 'NerdCast 650', 'NerdCast 600', 'NerdCast 550', 'NerdCast 500', 'NerdCast 450', 'NerdCast 400', 'NerdCast 350', 'NerdCast 300', 'NerdCast 250'], 'Música': ['Caneca de Mamicas 126', 'NerdCast 847', 'Caneca de Mamicas 67', 'NerdCast 842', 'Caneca de Mamicas 66', 'Lá do Bunker 53', 'Lá do Bunker 44', 'NerdCast 813', 'NerdCast 807', 'Caneca de Mamicas 30', 'Caneca de Mamicas 29', 'Caneca de Mamicas 14', 'NerdCast 789', 'NerdCast 763', 'NerdCast 751', 'NerdCast 734', 'NerdCast 595', 'NerdCast 541', 'NerdCast 531', 'NerdCast 499'], 'Nostalgia': ['Caneca de Mamicas 69', 'Lá do Bunker 57', 'Caneca de Mamicas 67', 'Lá do Bunker 53', 'Caneca de Mamicas 64', 'Lá do Bunker 50', 'Lá do Bunker 49', 'Caneca de Mamicas 55', 'Caneca de Mamicas 53', 'Caneca de Mamicas 52', 'Caneca de Mamicas 51', 'Caneca de Mamicas 50', 'NerdCast 825', 'NerdTech 74', 'Caneca de Mamicas 43', 'Caneca de Mamicas 30', 'Caneca de Mamicas 29', 'Caneca de Mamicas 15', 'NerdCast 716', 'NerdCast 699'], 'Notícias': ['Lá do Bunker 121', 'Lá do Bunker 120', 'Lá do Bunker 119', 'Lá do Bunker 118', 'Lá do Bunker 116', 'Lá do Bunker 115', 'Lá do Bunker 112', 'Lá do Bunker 111', 'Lá do Bunker 110', 'Lá do Bunker 109', 'Lá do Bunker 108', 'Lá do Bunker 107', 'Lá do Bunker 106', 'Lá do Bunker 105', 'Lá do Bunker 104', 'Lá do Bunker 103', 'Lá do Bunker 102', 'Lá do Bunker 101', 'Lá do Bunker 100', 'Lá do Bunker 99'], 'Política': ['Caneca de Mamicas 109', 'NerdCast 860', 'Caneca de Mamicas 76', 'Lá do Bunker 57', 'Caneca de Mamicas 66', 'NerdTech 78', 'Caneca de Mamicas 65', 'NerdCash 49', 'NerdTech 77', 'NerdCast 835', 'NerdCash 48', 'NerdCash 47', 'NerdTech 75', 'NerdCast 821', 'NerdCash 45', 'NerdCast 812', 'NerdCast 756', 'NerdCash 28', 'NerdCast 703'], 'Profissões': ['NerdCast 865', 'Extra Oferecido por Zapsign', 'Papo de Parceiro 13', 'Caneca de Mamicas 67', 'NerdCast 842', 'Caneca de Mamicas 66', 'NerdTech 78', 'Empreendedor 89', 'Papo de Parceiro 12', 'NerdCash 49', 'NerdTech 77', 'Generacast 10', 'Empreendedor 87', 'Papo de Parceiro 10', 'NerdTech 64', 'NerdCast 746', 'NerdCast 733', 'NerdCast 709', 'NerdCast 701', 'NerdTech 43'], 'Publicidade': ['Papo de Parceiro 13', 'Empreendedor 89', 'Papo de Parceiro 12', 'Lá do Bunker Oferecido por Amazon Prime Video', 'NerdCash 49', 'Lá do Bunker 49', 'Papo de Parceiro 11', 'NerdCast 397'], 'Quadrinhos': ['Lá do Bunker 114', 'Lá do Bunker 113', 'NerdCast 894', 'NerdCast 869', 'Lá do Bunker 60', 'Lá do Bunker 59', 'Lá do Bunker 58', 'Lá do Bunker 57', 'Lá do Bunker 53', 'Lá do Bunker 50', 'Lá do Bunker 49', 'Lá do Bunker 47', 'Lá do Bunker 46', 'Lá do Bunker 44', 'Lá do Bunker 38', 'Extra Oferecido por Fanta', 'NerdCast 777', 'NerdCast 672', 'NerdCast 667', 'NerdCast 649'], 'Retrospectiva': ['Lá do Bunker 76', 'Caneca de Mamicas 66', 'Lá do Bunker 50', 'Lá do Bunker 49', 'NerdCast 142', 'NerdCast 93', 'NerdCast 45'], 'RPG': ['NerdCast 902', 'Extra Oferecido por Prime Vídeo', 'NerdCast 892', 'NerdCast 874', 'NerdCast 862', 'NerdCast 805', 'NerdCast 767', 'NerdCast 761', 'NerdCast 757', 'NerdCast 745', 'NerdCast 679', 'NerdCast 666', 'NerdCast 602', 'NerdCast 549', 'NerdCast 549 Teaser ', 'NerdCast 498', 'NerdCast 446', 'NerdCast 395', 'NerdCast 341', 'NerdCast 291'], 'Séries': ['NerdCast 907', 'NerdCast 904', 'NerdCast 903', 'Lá do Bunker 117', 'Caneca de Mamicas 123', 'NerdCast 894', 'NerdCast 890', 'Lá do Bunker 95', 'NerdCast 879', 'Lá do Bunker 93', 'Lá do Bunker 91', 'Lá do Bunker 89', 'NerdCast 873', 'Lá do Bunker 85', 'Caneca de Mamicas 88', 'Lá do Bunker 73', 'NerdCast 858', 'Lá do Bunker 69', 'NerdCast 854', 'NerdCast 853'], 'Star Wars': ['NerdCast 903', 'NerdCast 858', 'Lá do Bunker 61', 'NerdCast 836', 'NerdCast 835', 'NerdCast 817', 'NerdCast 782', 'NerdCast 708', 'NerdCast 696', 'NerdCast 622', 'NerdCast 599', 'NerdCast 548', 'NerdCast 497', 'NerdCast 495', 'NerdCast 220', 'NerdCast 199', 'NerdCast 166', 'NerdCast 62', 'NerdCast 54b', 'NerdCast 54a'], 'Tecnologia': ['NerdTech 93', 'NerdTech 92', 'NerdTech 91', 'NerdTech 90', 'NerdTech 89', 'NerdTech 88', 'NerdTech 87', 'NerdTech 86', 'NerdCast 875', 'NerdTech 84', 'NerdTech 83', 'NerdTech 82', 'Extra Oferecido por Instituto Mauá de Tecnologia', 'NerdTech 80', 'Extra Oferecido por Zapsign', 'Papo de Parceiro 13', 'Lá do Bunker 57', 'Caneca de Mamicas 67', 'NerdCast 842', 'NerdTech 78'], 'Teoria da Conspiração': ['Lá do Bunker 57', 'NerdCast 842', 'Lá do Bunker 49', 'NerdCast 835', 'NerdCast 552', 'NerdCast 259', 'NerdCast 178', 'NerdCast 136', 'NerdCast 78', 'NerdCast 72'], 'Terror': ['Lá do Bunker 57', 'Caneca de Mamicas 27', 'Caneca de Mamicas 26', 'NerdCast 801', 'NerdCast 652', 'NerdCast 106', 'NerdCast 37', 'NerdCast 18'], 'Trabalho': ['NerdTech 88', 'Papo de Parceiro 13', 'Caneca de Mamicas 67', 'NerdCast 842', 'Caneca de Mamicas 66', 'NerdTech 78', 'Empreendedor 89', 'Papo de Parceiro 12', 'Caneca de Mamicas 64', 'NerdCash 49', 'NerdTech 77', 'Lá do Bunker 49', 'Caneca de Mamicas 60', 'NerdCast 835', 'Caneca de Mamicas 55', 'Papo de Parceiro 10', 'Lá do Bunker 43', 'Papo de Parceiro 09', 'Papo de Parceiro 08', 'Papo de Parceiro 07'], 'TV': [], 'Viagens': ['Caneca de Mamicas 105 ', 'Caneca de Mamicas 101', 'Papo de Parceiro 13', 'Lá do Bunker 57', 'Caneca de Mamicas 67', 'NerdTech 78', 'Lá do Bunker 53', 'NerdCash 49', 'Lá do Bunker 49', 'NerdCast 835', 'Caneca de Mamicas 55', 'Lá do Bunker 43', 'Speak English 50', 'Caneca de Mamicas 46', 'NerdCast 748', 'NerdCast 714', 'NerdCast 683', 'NerdCast 636', 'NerdCast 630', 'NerdCast 580']}\n"
          ]
        }
      ],
      "source": [
        "for key, value in list_podcasts_subject.items():\n",
        "    names_list = []\n",
        "    for item in value:\n",
        "        text = item.get_text()\n",
        "        names_list.append(text)\n",
        "    list_podcasts_subject[key] = names_list[7:]\n",
        "\n",
        "print(list_podcasts_subject)"
      ]
    },
    {
      "cell_type": "markdown",
      "source": [
        "_____________________________________"
      ],
      "metadata": {
        "id": "Gf8ybinYleL7"
      }
    },
    {
      "cell_type": "markdown",
      "source": [
        "# DataFrame"
      ],
      "metadata": {
        "id": "panmxmdmjnJg"
      }
    },
    {
      "cell_type": "markdown",
      "metadata": {
        "id": "SLvPohpUM0Sd"
      },
      "source": [
        "### df"
      ]
    },
    {
      "cell_type": "code",
      "execution_count": null,
      "metadata": {
        "id": "hoxvCJHtMzxC"
      },
      "outputs": [],
      "source": [
        "df = pd.DataFrame(columns=['Podcast', 'Link'])"
      ]
    },
    {
      "cell_type": "code",
      "execution_count": null,
      "metadata": {
        "id": "jTvbt1ZRM4iZ"
      },
      "outputs": [],
      "source": [
        "for item in list_podcasts:\n",
        "  df.loc[df.shape[0]] = [item.text.strip(), item['href']]"
      ]
    },
    {
      "cell_type": "code",
      "execution_count": null,
      "metadata": {
        "id": "1HN18unhM4lu"
      },
      "outputs": [],
      "source": [
        "df = df[df['Podcast'] != '2011 - 2012 - 2022 - 2023']\n",
        "df = df[df['Podcast'] != '2017 - 2020']\n",
        "df = df[df['Podcast'] != '2013 - 2016']\n",
        "df = df[df['Podcast'] != 'NerdCast 549 Teaser']"
      ]
    },
    {
      "cell_type": "code",
      "execution_count": null,
      "metadata": {
        "id": "yIsTNtZ7M4ox"
      },
      "outputs": [],
      "source": [
        "linhas_duplicadas = df[df.duplicated(keep=False)]\n",
        "\n",
        "print(linhas_duplicadas)"
      ]
    },
    {
      "cell_type": "code",
      "execution_count": null,
      "metadata": {
        "id": "DTvEN765q21A"
      },
      "outputs": [],
      "source": [
        "df = df.drop_duplicates()"
      ]
    },
    {
      "cell_type": "code",
      "source": [
        "df.tail()"
      ],
      "metadata": {
        "id": "m5_LHQCHQ89r"
      },
      "execution_count": null,
      "outputs": []
    },
    {
      "cell_type": "markdown",
      "metadata": {
        "id": "fUTr0Nj5q6Nu"
      },
      "source": [
        "### Add themes to each podcast"
      ]
    },
    {
      "cell_type": "code",
      "execution_count": null,
      "metadata": {
        "id": "-1Iab-64q6pg"
      },
      "outputs": [],
      "source": [
        "df.insert(len(df.columns)-1, column = 'Theme', value = '')"
      ]
    },
    {
      "cell_type": "code",
      "execution_count": null,
      "metadata": {
        "id": "qDvIvRsnq6vW"
      },
      "outputs": [],
      "source": [
        "podcast_names = []\n",
        "\n",
        "for item in list_podcasts:\n",
        "  podcast_names.append(item.text)\n",
        "\n",
        "print(podcast_names)"
      ]
    },
    {
      "cell_type": "code",
      "execution_count": null,
      "metadata": {
        "id": "FXyj3IWFq-El"
      },
      "outputs": [],
      "source": [
        "podcast_names_themes = []\n",
        "\n",
        "for key, value in list_podcasts_subject.items():\n",
        "  for item in value:\n",
        "    podcast_names_themes.append((key, item))\n",
        "print(podcast_names_themes)"
      ]
    },
    {
      "cell_type": "code",
      "execution_count": null,
      "metadata": {
        "id": "APuTCF7yrBnB"
      },
      "outputs": [],
      "source": [
        "for item in podcast_names_themes:\n",
        "  for name in df['Podcast']:\n",
        "    if item == name:\n",
        "      df['Theme'] = item"
      ]
    },
    {
      "cell_type": "code",
      "execution_count": null,
      "metadata": {
        "id": "hgmEBKcCrHMF"
      },
      "outputs": [],
      "source": [
        "for item in podcast_names_themes:\n",
        "  mask = df['Podcast'] == item[1]\n",
        "\n",
        "  if not df.loc[mask, 'Theme'].empty:\n",
        "    existing_theme = df.loc[mask, 'Theme'].iloc[0]\n",
        "    updated_theme = ', '.join([existing_theme, item[0]])\n",
        "    df.loc[mask, 'Theme'] = updated_theme"
      ]
    },
    {
      "cell_type": "code",
      "source": [
        "df.tail()"
      ],
      "metadata": {
        "id": "h4RNKz_2PhWh"
      },
      "execution_count": null,
      "outputs": []
    },
    {
      "cell_type": "code",
      "source": [
        "for index, row in df.iterrows():\n",
        "  theme = row['Theme']\n",
        "  if len(theme) > 1:\n",
        "    theme_list_split = theme.split(', ')\n",
        "    updated_theme = ', '.join(theme_list_split[1:])\n",
        "    df.at[index, 'Theme'] = updated_theme"
      ],
      "metadata": {
        "id": "HlSSe6BCZ4Ue"
      },
      "execution_count": null,
      "outputs": []
    },
    {
      "cell_type": "code",
      "source": [
        "df[30:50]"
      ],
      "metadata": {
        "id": "--Qp2OQ7S6LF"
      },
      "execution_count": null,
      "outputs": []
    },
    {
      "cell_type": "markdown",
      "metadata": {
        "id": "0OgvZNa5zYR_"
      },
      "source": [
        "## Split Podcast and Number"
      ]
    },
    {
      "cell_type": "code",
      "execution_count": null,
      "metadata": {
        "id": "F75XBxWdzXiy"
      },
      "outputs": [],
      "source": [
        "list_of_numbers = []\n",
        "\n",
        "for item in df['Podcast']:\n",
        "\n",
        "  this = any(char.isdigit() for char in item)\n",
        "\n",
        "  if this is False:\n",
        "    item.index\n",
        "    result_string = ''.join(item)\n",
        "\n",
        "    list_of_numbers.append(result_string)\n",
        "\n",
        "  else:\n",
        "    pass"
      ]
    },
    {
      "cell_type": "code",
      "execution_count": null,
      "metadata": {
        "id": "tS0siJ-QzcXr"
      },
      "outputs": [],
      "source": [
        "for item in list_of_numbers:\n",
        "  df = df[df['Podcast'] != item]"
      ]
    },
    {
      "cell_type": "code",
      "execution_count": null,
      "metadata": {
        "id": "5jfOQg2SzccQ"
      },
      "outputs": [],
      "source": [
        "list_text = []\n",
        "\n",
        "for item in df['Podcast']:\n",
        "  this = re.split(r'[0-9]', item)\n",
        "  list_text.extend(this)"
      ]
    },
    {
      "cell_type": "code",
      "execution_count": null,
      "metadata": {
        "id": "reuWW0jKzcfI"
      },
      "outputs": [],
      "source": [
        "list_number = []\n",
        "\n",
        "for item in df['Podcast']:\n",
        "  this = re.split(r'[a-z A-Z á-ú]', item)\n",
        "\n",
        "  list_number.extend(this)"
      ]
    },
    {
      "cell_type": "code",
      "execution_count": null,
      "metadata": {
        "id": "Ky8zU19fzciR"
      },
      "outputs": [],
      "source": [
        "text_new = []\n",
        "\n",
        "for item in list_text:\n",
        "  if len(item) >= 2:\n",
        "    this = item.strip()\n",
        "    text_new.append(this)\n",
        "  else:\n",
        "    pass"
      ]
    },
    {
      "cell_type": "code",
      "execution_count": null,
      "metadata": {
        "id": "x6wtsddxzclS"
      },
      "outputs": [],
      "source": [
        "number_new = []\n",
        "\n",
        "number_new = [item for item in list_number if item != '']"
      ]
    },
    {
      "cell_type": "code",
      "execution_count": null,
      "metadata": {
        "id": "gn3dreE5zi2T"
      },
      "outputs": [],
      "source": [
        "df.insert(2, column = 'Numero', value = 0)"
      ]
    },
    {
      "cell_type": "code",
      "execution_count": null,
      "metadata": {
        "id": "xuUaj42fzi5Y"
      },
      "outputs": [],
      "source": [
        "df['Numero'] = number_new\n",
        "df['Podcast'] = text_new"
      ]
    },
    {
      "cell_type": "code",
      "execution_count": null,
      "metadata": {
        "id": "cvmDAjKfzi74"
      },
      "outputs": [],
      "source": [
        "df.insert(0, 'ID', 1)\n",
        "df['ID'] = range(1, len(df) + 1)"
      ]
    },
    {
      "cell_type": "code",
      "execution_count": null,
      "metadata": {
        "id": "pg5MFTVozi-1"
      },
      "outputs": [],
      "source": [
        "df.head()"
      ]
    },
    {
      "cell_type": "markdown",
      "metadata": {
        "id": "m2r4BfBdF-L0"
      },
      "source": [
        "###df2"
      ]
    },
    {
      "cell_type": "code",
      "execution_count": null,
      "metadata": {
        "id": "PYPlMw3CsivT"
      },
      "outputs": [],
      "source": [
        "df2 = pd.DataFrame(columns=['Assunto', 'Link'])"
      ]
    },
    {
      "cell_type": "code",
      "execution_count": null,
      "metadata": {
        "id": "SCjJCzrksi1v"
      },
      "outputs": [],
      "source": [
        "for item in list_podcasts_titles:\n",
        "  df2.loc[df2.shape[0]] = [item.text.strip(), item.find('a')['href']]"
      ]
    },
    {
      "cell_type": "code",
      "execution_count": null,
      "metadata": {
        "id": "UEg0o_MsmH32",
        "colab": {
          "base_uri": "https://localhost:8080/"
        },
        "outputId": "b2059961-7120-46d3-e914-a70d2acd5a42"
      },
      "outputs": [
        {
          "output_type": "stream",
          "name": "stdout",
          "text": [
            "                             Assunto  \\\n",
            "16     Os segredos do cooperativismo   \n",
            "17              Gênesis de Miranhete   \n",
            "18  Quando a gente ama a gente cuida   \n",
            "19           Ahsoka e… …contemplação   \n",
            "20     Os segredos do cooperativismo   \n",
            "22              Gênesis de Miranhete   \n",
            "23  Quando a gente ama a gente cuida   \n",
            "24           Ahsoka e… …contemplação   \n",
            "\n",
            "                                                 Link  \n",
            "16  https://jovemnerd.com.br/nerdcast/extra/os-seg...  \n",
            "17  https://jovemnerd.com.br/nerdcast/la-do-bunker...  \n",
            "18  https://jovemnerd.com.br/nerdcast/caneca-de-ma...  \n",
            "19  https://jovemnerd.com.br/nerdcast/ahsoka-e-con...  \n",
            "20  https://jovemnerd.com.br/nerdcast/extra/os-seg...  \n",
            "22  https://jovemnerd.com.br/nerdcast/la-do-bunker...  \n",
            "23  https://jovemnerd.com.br/nerdcast/caneca-de-ma...  \n",
            "24  https://jovemnerd.com.br/nerdcast/ahsoka-e-con...  \n"
          ]
        }
      ],
      "source": [
        "linhas_duplicadas = df2[df2.duplicated(keep=False)]\n",
        "\n",
        "print(linhas_duplicadas)"
      ]
    },
    {
      "cell_type": "code",
      "execution_count": null,
      "metadata": {
        "id": "SaSi_8GPg4ap"
      },
      "outputs": [],
      "source": [
        "df2 = df2.drop_duplicates()"
      ]
    },
    {
      "cell_type": "code",
      "execution_count": null,
      "metadata": {
        "id": "nsFbkrLxmO0H",
        "colab": {
          "base_uri": "https://localhost:8080/"
        },
        "outputId": "37452089-07ff-4f1e-f441-d2e0d7e77584"
      },
      "outputs": [
        {
          "output_type": "stream",
          "name": "stdout",
          "text": [
            "Empty DataFrame\n",
            "Columns: [Assunto, Link]\n",
            "Index: []\n"
          ]
        }
      ],
      "source": [
        "linhas_duplicadas = df2[df2.duplicated(keep=False)]\n",
        "\n",
        "print(linhas_duplicadas)"
      ]
    },
    {
      "cell_type": "code",
      "execution_count": null,
      "metadata": {
        "id": "q02gMWbaPwHz",
        "colab": {
          "base_uri": "https://localhost:8080/"
        },
        "outputId": "9f05968f-81c0-4d92-cdfb-5b24c1450797"
      },
      "outputs": [
        {
          "output_type": "stream",
          "name": "stderr",
          "text": [
            "<ipython-input-62-55a6c10cc2fd>:2: SettingWithCopyWarning: \n",
            "A value is trying to be set on a copy of a slice from a DataFrame.\n",
            "Try using .loc[row_indexer,col_indexer] = value instead\n",
            "\n",
            "See the caveats in the documentation: https://pandas.pydata.org/pandas-docs/stable/user_guide/indexing.html#returning-a-view-versus-a-copy\n",
            "  df2['ID'] = range(1, len(df2) + 1)\n"
          ]
        }
      ],
      "source": [
        "df2.insert(0, 'ID', 1)\n",
        "df2['ID'] = range(1, len(df2) + 1)"
      ]
    },
    {
      "cell_type": "code",
      "execution_count": null,
      "metadata": {
        "id": "u5ctf1RCjJx4",
        "colab": {
          "base_uri": "https://localhost:8080/",
          "height": 206
        },
        "outputId": "721c0dd8-198d-469d-bab7-61a94b4fad1e"
      },
      "outputs": [
        {
          "output_type": "execute_result",
          "data": {
            "text/plain": [
              "   ID                                            Assunto  \\\n",
              "0   1                                   Recordar é viver   \n",
              "1   2    Loki 2: O glorioso propósito do deus da trapaça   \n",
              "2   3                            Nepotismo e brotheragem   \n",
              "3   4                                 Vizinhas do Mickey   \n",
              "4   5  GEN V: Drama adolescente com poderes, muito sa...   \n",
              "\n",
              "                                                Link  \n",
              "0  https://jovemnerd.com.br/nerdcast/caneca-de-ma...  \n",
              "1  https://jovemnerd.com.br/nerdcast/loki-2-o-glo...  \n",
              "2  https://jovemnerd.com.br/nerdcast/la-do-bunker...  \n",
              "3  https://jovemnerd.com.br/nerdcast/caneca-de-ma...  \n",
              "4  https://jovemnerd.com.br/nerdcast/gen-v-drama-...  "
            ],
            "text/html": [
              "\n",
              "  <div id=\"df-5a6f6595-f435-4163-8a22-f0681ca5244a\" class=\"colab-df-container\">\n",
              "    <div>\n",
              "<style scoped>\n",
              "    .dataframe tbody tr th:only-of-type {\n",
              "        vertical-align: middle;\n",
              "    }\n",
              "\n",
              "    .dataframe tbody tr th {\n",
              "        vertical-align: top;\n",
              "    }\n",
              "\n",
              "    .dataframe thead th {\n",
              "        text-align: right;\n",
              "    }\n",
              "</style>\n",
              "<table border=\"1\" class=\"dataframe\">\n",
              "  <thead>\n",
              "    <tr style=\"text-align: right;\">\n",
              "      <th></th>\n",
              "      <th>ID</th>\n",
              "      <th>Assunto</th>\n",
              "      <th>Link</th>\n",
              "    </tr>\n",
              "  </thead>\n",
              "  <tbody>\n",
              "    <tr>\n",
              "      <th>0</th>\n",
              "      <td>1</td>\n",
              "      <td>Recordar é viver</td>\n",
              "      <td>https://jovemnerd.com.br/nerdcast/caneca-de-ma...</td>\n",
              "    </tr>\n",
              "    <tr>\n",
              "      <th>1</th>\n",
              "      <td>2</td>\n",
              "      <td>Loki 2: O glorioso propósito do deus da trapaça</td>\n",
              "      <td>https://jovemnerd.com.br/nerdcast/loki-2-o-glo...</td>\n",
              "    </tr>\n",
              "    <tr>\n",
              "      <th>2</th>\n",
              "      <td>3</td>\n",
              "      <td>Nepotismo e brotheragem</td>\n",
              "      <td>https://jovemnerd.com.br/nerdcast/la-do-bunker...</td>\n",
              "    </tr>\n",
              "    <tr>\n",
              "      <th>3</th>\n",
              "      <td>4</td>\n",
              "      <td>Vizinhas do Mickey</td>\n",
              "      <td>https://jovemnerd.com.br/nerdcast/caneca-de-ma...</td>\n",
              "    </tr>\n",
              "    <tr>\n",
              "      <th>4</th>\n",
              "      <td>5</td>\n",
              "      <td>GEN V: Drama adolescente com poderes, muito sa...</td>\n",
              "      <td>https://jovemnerd.com.br/nerdcast/gen-v-drama-...</td>\n",
              "    </tr>\n",
              "  </tbody>\n",
              "</table>\n",
              "</div>\n",
              "    <div class=\"colab-df-buttons\">\n",
              "\n",
              "  <div class=\"colab-df-container\">\n",
              "    <button class=\"colab-df-convert\" onclick=\"convertToInteractive('df-5a6f6595-f435-4163-8a22-f0681ca5244a')\"\n",
              "            title=\"Convert this dataframe to an interactive table.\"\n",
              "            style=\"display:none;\">\n",
              "\n",
              "  <svg xmlns=\"http://www.w3.org/2000/svg\" height=\"24px\" viewBox=\"0 -960 960 960\">\n",
              "    <path d=\"M120-120v-720h720v720H120Zm60-500h600v-160H180v160Zm220 220h160v-160H400v160Zm0 220h160v-160H400v160ZM180-400h160v-160H180v160Zm440 0h160v-160H620v160ZM180-180h160v-160H180v160Zm440 0h160v-160H620v160Z\"/>\n",
              "  </svg>\n",
              "    </button>\n",
              "\n",
              "  <style>\n",
              "    .colab-df-container {\n",
              "      display:flex;\n",
              "      gap: 12px;\n",
              "    }\n",
              "\n",
              "    .colab-df-convert {\n",
              "      background-color: #E8F0FE;\n",
              "      border: none;\n",
              "      border-radius: 50%;\n",
              "      cursor: pointer;\n",
              "      display: none;\n",
              "      fill: #1967D2;\n",
              "      height: 32px;\n",
              "      padding: 0 0 0 0;\n",
              "      width: 32px;\n",
              "    }\n",
              "\n",
              "    .colab-df-convert:hover {\n",
              "      background-color: #E2EBFA;\n",
              "      box-shadow: 0px 1px 2px rgba(60, 64, 67, 0.3), 0px 1px 3px 1px rgba(60, 64, 67, 0.15);\n",
              "      fill: #174EA6;\n",
              "    }\n",
              "\n",
              "    .colab-df-buttons div {\n",
              "      margin-bottom: 4px;\n",
              "    }\n",
              "\n",
              "    [theme=dark] .colab-df-convert {\n",
              "      background-color: #3B4455;\n",
              "      fill: #D2E3FC;\n",
              "    }\n",
              "\n",
              "    [theme=dark] .colab-df-convert:hover {\n",
              "      background-color: #434B5C;\n",
              "      box-shadow: 0px 1px 3px 1px rgba(0, 0, 0, 0.15);\n",
              "      filter: drop-shadow(0px 1px 2px rgba(0, 0, 0, 0.3));\n",
              "      fill: #FFFFFF;\n",
              "    }\n",
              "  </style>\n",
              "\n",
              "    <script>\n",
              "      const buttonEl =\n",
              "        document.querySelector('#df-5a6f6595-f435-4163-8a22-f0681ca5244a button.colab-df-convert');\n",
              "      buttonEl.style.display =\n",
              "        google.colab.kernel.accessAllowed ? 'block' : 'none';\n",
              "\n",
              "      async function convertToInteractive(key) {\n",
              "        const element = document.querySelector('#df-5a6f6595-f435-4163-8a22-f0681ca5244a');\n",
              "        const dataTable =\n",
              "          await google.colab.kernel.invokeFunction('convertToInteractive',\n",
              "                                                    [key], {});\n",
              "        if (!dataTable) return;\n",
              "\n",
              "        const docLinkHtml = 'Like what you see? Visit the ' +\n",
              "          '<a target=\"_blank\" href=https://colab.research.google.com/notebooks/data_table.ipynb>data table notebook</a>'\n",
              "          + ' to learn more about interactive tables.';\n",
              "        element.innerHTML = '';\n",
              "        dataTable['output_type'] = 'display_data';\n",
              "        await google.colab.output.renderOutput(dataTable, element);\n",
              "        const docLink = document.createElement('div');\n",
              "        docLink.innerHTML = docLinkHtml;\n",
              "        element.appendChild(docLink);\n",
              "      }\n",
              "    </script>\n",
              "  </div>\n",
              "\n",
              "\n",
              "<div id=\"df-ed291ce2-a67c-42f3-9d46-456d49011402\">\n",
              "  <button class=\"colab-df-quickchart\" onclick=\"quickchart('df-ed291ce2-a67c-42f3-9d46-456d49011402')\"\n",
              "            title=\"Suggest charts\"\n",
              "            style=\"display:none;\">\n",
              "\n",
              "<svg xmlns=\"http://www.w3.org/2000/svg\" height=\"24px\"viewBox=\"0 0 24 24\"\n",
              "     width=\"24px\">\n",
              "    <g>\n",
              "        <path d=\"M19 3H5c-1.1 0-2 .9-2 2v14c0 1.1.9 2 2 2h14c1.1 0 2-.9 2-2V5c0-1.1-.9-2-2-2zM9 17H7v-7h2v7zm4 0h-2V7h2v10zm4 0h-2v-4h2v4z\"/>\n",
              "    </g>\n",
              "</svg>\n",
              "  </button>\n",
              "\n",
              "<style>\n",
              "  .colab-df-quickchart {\n",
              "      --bg-color: #E8F0FE;\n",
              "      --fill-color: #1967D2;\n",
              "      --hover-bg-color: #E2EBFA;\n",
              "      --hover-fill-color: #174EA6;\n",
              "      --disabled-fill-color: #AAA;\n",
              "      --disabled-bg-color: #DDD;\n",
              "  }\n",
              "\n",
              "  [theme=dark] .colab-df-quickchart {\n",
              "      --bg-color: #3B4455;\n",
              "      --fill-color: #D2E3FC;\n",
              "      --hover-bg-color: #434B5C;\n",
              "      --hover-fill-color: #FFFFFF;\n",
              "      --disabled-bg-color: #3B4455;\n",
              "      --disabled-fill-color: #666;\n",
              "  }\n",
              "\n",
              "  .colab-df-quickchart {\n",
              "    background-color: var(--bg-color);\n",
              "    border: none;\n",
              "    border-radius: 50%;\n",
              "    cursor: pointer;\n",
              "    display: none;\n",
              "    fill: var(--fill-color);\n",
              "    height: 32px;\n",
              "    padding: 0;\n",
              "    width: 32px;\n",
              "  }\n",
              "\n",
              "  .colab-df-quickchart:hover {\n",
              "    background-color: var(--hover-bg-color);\n",
              "    box-shadow: 0 1px 2px rgba(60, 64, 67, 0.3), 0 1px 3px 1px rgba(60, 64, 67, 0.15);\n",
              "    fill: var(--button-hover-fill-color);\n",
              "  }\n",
              "\n",
              "  .colab-df-quickchart-complete:disabled,\n",
              "  .colab-df-quickchart-complete:disabled:hover {\n",
              "    background-color: var(--disabled-bg-color);\n",
              "    fill: var(--disabled-fill-color);\n",
              "    box-shadow: none;\n",
              "  }\n",
              "\n",
              "  .colab-df-spinner {\n",
              "    border: 2px solid var(--fill-color);\n",
              "    border-color: transparent;\n",
              "    border-bottom-color: var(--fill-color);\n",
              "    animation:\n",
              "      spin 1s steps(1) infinite;\n",
              "  }\n",
              "\n",
              "  @keyframes spin {\n",
              "    0% {\n",
              "      border-color: transparent;\n",
              "      border-bottom-color: var(--fill-color);\n",
              "      border-left-color: var(--fill-color);\n",
              "    }\n",
              "    20% {\n",
              "      border-color: transparent;\n",
              "      border-left-color: var(--fill-color);\n",
              "      border-top-color: var(--fill-color);\n",
              "    }\n",
              "    30% {\n",
              "      border-color: transparent;\n",
              "      border-left-color: var(--fill-color);\n",
              "      border-top-color: var(--fill-color);\n",
              "      border-right-color: var(--fill-color);\n",
              "    }\n",
              "    40% {\n",
              "      border-color: transparent;\n",
              "      border-right-color: var(--fill-color);\n",
              "      border-top-color: var(--fill-color);\n",
              "    }\n",
              "    60% {\n",
              "      border-color: transparent;\n",
              "      border-right-color: var(--fill-color);\n",
              "    }\n",
              "    80% {\n",
              "      border-color: transparent;\n",
              "      border-right-color: var(--fill-color);\n",
              "      border-bottom-color: var(--fill-color);\n",
              "    }\n",
              "    90% {\n",
              "      border-color: transparent;\n",
              "      border-bottom-color: var(--fill-color);\n",
              "    }\n",
              "  }\n",
              "</style>\n",
              "\n",
              "  <script>\n",
              "    async function quickchart(key) {\n",
              "      const quickchartButtonEl =\n",
              "        document.querySelector('#' + key + ' button');\n",
              "      quickchartButtonEl.disabled = true;  // To prevent multiple clicks.\n",
              "      quickchartButtonEl.classList.add('colab-df-spinner');\n",
              "      try {\n",
              "        const charts = await google.colab.kernel.invokeFunction(\n",
              "            'suggestCharts', [key], {});\n",
              "      } catch (error) {\n",
              "        console.error('Error during call to suggestCharts:', error);\n",
              "      }\n",
              "      quickchartButtonEl.classList.remove('colab-df-spinner');\n",
              "      quickchartButtonEl.classList.add('colab-df-quickchart-complete');\n",
              "    }\n",
              "    (() => {\n",
              "      let quickchartButtonEl =\n",
              "        document.querySelector('#df-ed291ce2-a67c-42f3-9d46-456d49011402 button');\n",
              "      quickchartButtonEl.style.display =\n",
              "        google.colab.kernel.accessAllowed ? 'block' : 'none';\n",
              "    })();\n",
              "  </script>\n",
              "</div>\n",
              "    </div>\n",
              "  </div>\n"
            ]
          },
          "metadata": {},
          "execution_count": 63
        }
      ],
      "source": [
        "df2.head()"
      ]
    },
    {
      "cell_type": "markdown",
      "metadata": {
        "id": "3an776iZGPlN"
      },
      "source": [
        "###df3"
      ]
    },
    {
      "cell_type": "code",
      "execution_count": null,
      "metadata": {
        "id": "fFxeClNBKQ_I"
      },
      "outputs": [],
      "source": [
        "df3 = pd.DataFrame(columns=['Duracao', 'Data_Lancamento', 'Link'])"
      ]
    },
    {
      "cell_type": "code",
      "execution_count": null,
      "metadata": {
        "id": "trSocDK17nJ2"
      },
      "outputs": [],
      "source": [
        "list_duration = []\n",
        "list_launch = []\n",
        "list_link = []\n",
        "\n",
        "for item in list_podcasts_duration:\n",
        "  if item.find('time'):\n",
        "    duracao = item.find('time').get_text().split('•')[0][1:].strip()\n",
        "    list_duration.append(duracao)\n",
        "\n",
        "    data_lancamento = item.find('time').get_text().split('•')[1][1:].strip()\n",
        "    list_launch.append(data_lancamento)\n",
        "\n",
        "    link = item.find('a')['href']\n",
        "    list_link.append(link)"
      ]
    },
    {
      "cell_type": "code",
      "execution_count": null,
      "metadata": {
        "id": "HfOctV-oQVMT"
      },
      "outputs": [],
      "source": [
        "df3['Duracao'] = list_duration\n",
        "df3['Data_Lancamento'] = list_launch\n",
        "df3['Link'] = list_link"
      ]
    },
    {
      "cell_type": "code",
      "execution_count": null,
      "metadata": {
        "id": "QodoGB0HlFol",
        "colab": {
          "base_uri": "https://localhost:8080/"
        },
        "outputId": "7f923580-f221-4355-b5c5-eb87050922ed"
      },
      "outputs": [
        {
          "output_type": "stream",
          "name": "stdout",
          "text": [
            "                 Duracao        Data_Lancamento  \\\n",
            "16            58 minutos  19 de outubro de 2023   \n",
            "17            47 minutos  17 de outubro de 2023   \n",
            "18   1 hora e 20 minutos  14 de outubro de 2023   \n",
            "19  2 horas e 21 minutos  13 de outubro de 2023   \n",
            "20            58 minutos  19 de outubro de 2023   \n",
            "22            47 minutos  17 de outubro de 2023   \n",
            "23   1 hora e 20 minutos  14 de outubro de 2023   \n",
            "24  2 horas e 21 minutos  13 de outubro de 2023   \n",
            "\n",
            "                                                 Link  \n",
            "16  https://jovemnerd.com.br/nerdcast/extra/os-seg...  \n",
            "17  https://jovemnerd.com.br/nerdcast/la-do-bunker...  \n",
            "18  https://jovemnerd.com.br/nerdcast/caneca-de-ma...  \n",
            "19  https://jovemnerd.com.br/nerdcast/ahsoka-e-con...  \n",
            "20  https://jovemnerd.com.br/nerdcast/extra/os-seg...  \n",
            "22  https://jovemnerd.com.br/nerdcast/la-do-bunker...  \n",
            "23  https://jovemnerd.com.br/nerdcast/caneca-de-ma...  \n",
            "24  https://jovemnerd.com.br/nerdcast/ahsoka-e-con...  \n"
          ]
        }
      ],
      "source": [
        "linhas_duplicadas = df3[df3.duplicated(keep=False)]\n",
        "\n",
        "print(linhas_duplicadas)"
      ]
    },
    {
      "cell_type": "code",
      "execution_count": null,
      "metadata": {
        "id": "DAnAU5lOgvF7"
      },
      "outputs": [],
      "source": [
        "df3 = df3.drop_duplicates()"
      ]
    },
    {
      "cell_type": "code",
      "execution_count": null,
      "metadata": {
        "id": "78_XJ6iQkYkd",
        "colab": {
          "base_uri": "https://localhost:8080/"
        },
        "outputId": "75d07de9-f45c-41ac-9cad-9db18dba2f00"
      },
      "outputs": [
        {
          "output_type": "stream",
          "name": "stdout",
          "text": [
            "Empty DataFrame\n",
            "Columns: [ID, Podcast, Theme, Numero, Link]\n",
            "Index: []\n"
          ]
        }
      ],
      "source": [
        "linhas_duplicadas = df[df.duplicated(keep=False)]\n",
        "\n",
        "print(linhas_duplicadas)"
      ]
    },
    {
      "cell_type": "code",
      "execution_count": null,
      "metadata": {
        "id": "qZkS-bXrQdPU",
        "colab": {
          "base_uri": "https://localhost:8080/",
          "height": 206
        },
        "outputId": "55a0f962-9024-44b0-d168-531a88207d0f"
      },
      "outputs": [
        {
          "output_type": "execute_result",
          "data": {
            "text/plain": [
              "               Duracao         Data_Lancamento  \\\n",
              "0  1 hora e 34 minutos  18 de novembro de 2023   \n",
              "1  1 hora e 35 minutos  17 de novembro de 2023   \n",
              "2   1 hora e 0 minutos  14 de novembro de 2023   \n",
              "3  1 hora e 16 minutos  11 de novembro de 2023   \n",
              "4  1 hora e 53 minutos  10 de novembro de 2023   \n",
              "\n",
              "                                                Link  \n",
              "0  https://jovemnerd.com.br/nerdcast/caneca-de-ma...  \n",
              "1  https://jovemnerd.com.br/nerdcast/loki-2-o-glo...  \n",
              "2  https://jovemnerd.com.br/nerdcast/la-do-bunker...  \n",
              "3  https://jovemnerd.com.br/nerdcast/caneca-de-ma...  \n",
              "4  https://jovemnerd.com.br/nerdcast/gen-v-drama-...  "
            ],
            "text/html": [
              "\n",
              "  <div id=\"df-f42e947c-5b1b-4872-9640-9aa61dd5d27c\" class=\"colab-df-container\">\n",
              "    <div>\n",
              "<style scoped>\n",
              "    .dataframe tbody tr th:only-of-type {\n",
              "        vertical-align: middle;\n",
              "    }\n",
              "\n",
              "    .dataframe tbody tr th {\n",
              "        vertical-align: top;\n",
              "    }\n",
              "\n",
              "    .dataframe thead th {\n",
              "        text-align: right;\n",
              "    }\n",
              "</style>\n",
              "<table border=\"1\" class=\"dataframe\">\n",
              "  <thead>\n",
              "    <tr style=\"text-align: right;\">\n",
              "      <th></th>\n",
              "      <th>Duracao</th>\n",
              "      <th>Data_Lancamento</th>\n",
              "      <th>Link</th>\n",
              "    </tr>\n",
              "  </thead>\n",
              "  <tbody>\n",
              "    <tr>\n",
              "      <th>0</th>\n",
              "      <td>1 hora e 34 minutos</td>\n",
              "      <td>18 de novembro de 2023</td>\n",
              "      <td>https://jovemnerd.com.br/nerdcast/caneca-de-ma...</td>\n",
              "    </tr>\n",
              "    <tr>\n",
              "      <th>1</th>\n",
              "      <td>1 hora e 35 minutos</td>\n",
              "      <td>17 de novembro de 2023</td>\n",
              "      <td>https://jovemnerd.com.br/nerdcast/loki-2-o-glo...</td>\n",
              "    </tr>\n",
              "    <tr>\n",
              "      <th>2</th>\n",
              "      <td>1 hora e 0 minutos</td>\n",
              "      <td>14 de novembro de 2023</td>\n",
              "      <td>https://jovemnerd.com.br/nerdcast/la-do-bunker...</td>\n",
              "    </tr>\n",
              "    <tr>\n",
              "      <th>3</th>\n",
              "      <td>1 hora e 16 minutos</td>\n",
              "      <td>11 de novembro de 2023</td>\n",
              "      <td>https://jovemnerd.com.br/nerdcast/caneca-de-ma...</td>\n",
              "    </tr>\n",
              "    <tr>\n",
              "      <th>4</th>\n",
              "      <td>1 hora e 53 minutos</td>\n",
              "      <td>10 de novembro de 2023</td>\n",
              "      <td>https://jovemnerd.com.br/nerdcast/gen-v-drama-...</td>\n",
              "    </tr>\n",
              "  </tbody>\n",
              "</table>\n",
              "</div>\n",
              "    <div class=\"colab-df-buttons\">\n",
              "\n",
              "  <div class=\"colab-df-container\">\n",
              "    <button class=\"colab-df-convert\" onclick=\"convertToInteractive('df-f42e947c-5b1b-4872-9640-9aa61dd5d27c')\"\n",
              "            title=\"Convert this dataframe to an interactive table.\"\n",
              "            style=\"display:none;\">\n",
              "\n",
              "  <svg xmlns=\"http://www.w3.org/2000/svg\" height=\"24px\" viewBox=\"0 -960 960 960\">\n",
              "    <path d=\"M120-120v-720h720v720H120Zm60-500h600v-160H180v160Zm220 220h160v-160H400v160Zm0 220h160v-160H400v160ZM180-400h160v-160H180v160Zm440 0h160v-160H620v160ZM180-180h160v-160H180v160Zm440 0h160v-160H620v160Z\"/>\n",
              "  </svg>\n",
              "    </button>\n",
              "\n",
              "  <style>\n",
              "    .colab-df-container {\n",
              "      display:flex;\n",
              "      gap: 12px;\n",
              "    }\n",
              "\n",
              "    .colab-df-convert {\n",
              "      background-color: #E8F0FE;\n",
              "      border: none;\n",
              "      border-radius: 50%;\n",
              "      cursor: pointer;\n",
              "      display: none;\n",
              "      fill: #1967D2;\n",
              "      height: 32px;\n",
              "      padding: 0 0 0 0;\n",
              "      width: 32px;\n",
              "    }\n",
              "\n",
              "    .colab-df-convert:hover {\n",
              "      background-color: #E2EBFA;\n",
              "      box-shadow: 0px 1px 2px rgba(60, 64, 67, 0.3), 0px 1px 3px 1px rgba(60, 64, 67, 0.15);\n",
              "      fill: #174EA6;\n",
              "    }\n",
              "\n",
              "    .colab-df-buttons div {\n",
              "      margin-bottom: 4px;\n",
              "    }\n",
              "\n",
              "    [theme=dark] .colab-df-convert {\n",
              "      background-color: #3B4455;\n",
              "      fill: #D2E3FC;\n",
              "    }\n",
              "\n",
              "    [theme=dark] .colab-df-convert:hover {\n",
              "      background-color: #434B5C;\n",
              "      box-shadow: 0px 1px 3px 1px rgba(0, 0, 0, 0.15);\n",
              "      filter: drop-shadow(0px 1px 2px rgba(0, 0, 0, 0.3));\n",
              "      fill: #FFFFFF;\n",
              "    }\n",
              "  </style>\n",
              "\n",
              "    <script>\n",
              "      const buttonEl =\n",
              "        document.querySelector('#df-f42e947c-5b1b-4872-9640-9aa61dd5d27c button.colab-df-convert');\n",
              "      buttonEl.style.display =\n",
              "        google.colab.kernel.accessAllowed ? 'block' : 'none';\n",
              "\n",
              "      async function convertToInteractive(key) {\n",
              "        const element = document.querySelector('#df-f42e947c-5b1b-4872-9640-9aa61dd5d27c');\n",
              "        const dataTable =\n",
              "          await google.colab.kernel.invokeFunction('convertToInteractive',\n",
              "                                                    [key], {});\n",
              "        if (!dataTable) return;\n",
              "\n",
              "        const docLinkHtml = 'Like what you see? Visit the ' +\n",
              "          '<a target=\"_blank\" href=https://colab.research.google.com/notebooks/data_table.ipynb>data table notebook</a>'\n",
              "          + ' to learn more about interactive tables.';\n",
              "        element.innerHTML = '';\n",
              "        dataTable['output_type'] = 'display_data';\n",
              "        await google.colab.output.renderOutput(dataTable, element);\n",
              "        const docLink = document.createElement('div');\n",
              "        docLink.innerHTML = docLinkHtml;\n",
              "        element.appendChild(docLink);\n",
              "      }\n",
              "    </script>\n",
              "  </div>\n",
              "\n",
              "\n",
              "<div id=\"df-7d8c409d-fde6-47e2-90de-eb7d64a2f4f5\">\n",
              "  <button class=\"colab-df-quickchart\" onclick=\"quickchart('df-7d8c409d-fde6-47e2-90de-eb7d64a2f4f5')\"\n",
              "            title=\"Suggest charts\"\n",
              "            style=\"display:none;\">\n",
              "\n",
              "<svg xmlns=\"http://www.w3.org/2000/svg\" height=\"24px\"viewBox=\"0 0 24 24\"\n",
              "     width=\"24px\">\n",
              "    <g>\n",
              "        <path d=\"M19 3H5c-1.1 0-2 .9-2 2v14c0 1.1.9 2 2 2h14c1.1 0 2-.9 2-2V5c0-1.1-.9-2-2-2zM9 17H7v-7h2v7zm4 0h-2V7h2v10zm4 0h-2v-4h2v4z\"/>\n",
              "    </g>\n",
              "</svg>\n",
              "  </button>\n",
              "\n",
              "<style>\n",
              "  .colab-df-quickchart {\n",
              "      --bg-color: #E8F0FE;\n",
              "      --fill-color: #1967D2;\n",
              "      --hover-bg-color: #E2EBFA;\n",
              "      --hover-fill-color: #174EA6;\n",
              "      --disabled-fill-color: #AAA;\n",
              "      --disabled-bg-color: #DDD;\n",
              "  }\n",
              "\n",
              "  [theme=dark] .colab-df-quickchart {\n",
              "      --bg-color: #3B4455;\n",
              "      --fill-color: #D2E3FC;\n",
              "      --hover-bg-color: #434B5C;\n",
              "      --hover-fill-color: #FFFFFF;\n",
              "      --disabled-bg-color: #3B4455;\n",
              "      --disabled-fill-color: #666;\n",
              "  }\n",
              "\n",
              "  .colab-df-quickchart {\n",
              "    background-color: var(--bg-color);\n",
              "    border: none;\n",
              "    border-radius: 50%;\n",
              "    cursor: pointer;\n",
              "    display: none;\n",
              "    fill: var(--fill-color);\n",
              "    height: 32px;\n",
              "    padding: 0;\n",
              "    width: 32px;\n",
              "  }\n",
              "\n",
              "  .colab-df-quickchart:hover {\n",
              "    background-color: var(--hover-bg-color);\n",
              "    box-shadow: 0 1px 2px rgba(60, 64, 67, 0.3), 0 1px 3px 1px rgba(60, 64, 67, 0.15);\n",
              "    fill: var(--button-hover-fill-color);\n",
              "  }\n",
              "\n",
              "  .colab-df-quickchart-complete:disabled,\n",
              "  .colab-df-quickchart-complete:disabled:hover {\n",
              "    background-color: var(--disabled-bg-color);\n",
              "    fill: var(--disabled-fill-color);\n",
              "    box-shadow: none;\n",
              "  }\n",
              "\n",
              "  .colab-df-spinner {\n",
              "    border: 2px solid var(--fill-color);\n",
              "    border-color: transparent;\n",
              "    border-bottom-color: var(--fill-color);\n",
              "    animation:\n",
              "      spin 1s steps(1) infinite;\n",
              "  }\n",
              "\n",
              "  @keyframes spin {\n",
              "    0% {\n",
              "      border-color: transparent;\n",
              "      border-bottom-color: var(--fill-color);\n",
              "      border-left-color: var(--fill-color);\n",
              "    }\n",
              "    20% {\n",
              "      border-color: transparent;\n",
              "      border-left-color: var(--fill-color);\n",
              "      border-top-color: var(--fill-color);\n",
              "    }\n",
              "    30% {\n",
              "      border-color: transparent;\n",
              "      border-left-color: var(--fill-color);\n",
              "      border-top-color: var(--fill-color);\n",
              "      border-right-color: var(--fill-color);\n",
              "    }\n",
              "    40% {\n",
              "      border-color: transparent;\n",
              "      border-right-color: var(--fill-color);\n",
              "      border-top-color: var(--fill-color);\n",
              "    }\n",
              "    60% {\n",
              "      border-color: transparent;\n",
              "      border-right-color: var(--fill-color);\n",
              "    }\n",
              "    80% {\n",
              "      border-color: transparent;\n",
              "      border-right-color: var(--fill-color);\n",
              "      border-bottom-color: var(--fill-color);\n",
              "    }\n",
              "    90% {\n",
              "      border-color: transparent;\n",
              "      border-bottom-color: var(--fill-color);\n",
              "    }\n",
              "  }\n",
              "</style>\n",
              "\n",
              "  <script>\n",
              "    async function quickchart(key) {\n",
              "      const quickchartButtonEl =\n",
              "        document.querySelector('#' + key + ' button');\n",
              "      quickchartButtonEl.disabled = true;  // To prevent multiple clicks.\n",
              "      quickchartButtonEl.classList.add('colab-df-spinner');\n",
              "      try {\n",
              "        const charts = await google.colab.kernel.invokeFunction(\n",
              "            'suggestCharts', [key], {});\n",
              "      } catch (error) {\n",
              "        console.error('Error during call to suggestCharts:', error);\n",
              "      }\n",
              "      quickchartButtonEl.classList.remove('colab-df-spinner');\n",
              "      quickchartButtonEl.classList.add('colab-df-quickchart-complete');\n",
              "    }\n",
              "    (() => {\n",
              "      let quickchartButtonEl =\n",
              "        document.querySelector('#df-7d8c409d-fde6-47e2-90de-eb7d64a2f4f5 button');\n",
              "      quickchartButtonEl.style.display =\n",
              "        google.colab.kernel.accessAllowed ? 'block' : 'none';\n",
              "    })();\n",
              "  </script>\n",
              "</div>\n",
              "    </div>\n",
              "  </div>\n"
            ]
          },
          "metadata": {},
          "execution_count": 70
        }
      ],
      "source": [
        "df3.head()"
      ]
    },
    {
      "cell_type": "markdown",
      "source": [
        "# Out Put"
      ],
      "metadata": {
        "id": "FxOCNMpX_8mF"
      }
    },
    {
      "cell_type": "code",
      "source": [
        "output_file = \"dados_coletados.csv\"\n",
        "\n",
        "df.to_csv(output_file, index=False)"
      ],
      "metadata": {
        "id": "QkwPsEkYoh62"
      },
      "execution_count": null,
      "outputs": []
    },
    {
      "cell_type": "code",
      "execution_count": null,
      "metadata": {
        "id": "VGc_SHwml-Ev"
      },
      "outputs": [],
      "source": [
        "output_file = \"dados_coletados2.csv\"\n",
        "\n",
        "df2.to_csv(output_file, index=False)"
      ]
    },
    {
      "cell_type": "code",
      "execution_count": null,
      "metadata": {
        "id": "DHGLKgvIl-Jb"
      },
      "outputs": [],
      "source": [
        "output_file = \"dados_coletados3.csv\"\n",
        "\n",
        "df3.to_csv(output_file, index=False)"
      ]
    }
  ],
  "metadata": {
    "colab": {
      "provenance": [],
      "authorship_tag": "ABX9TyM/4uncRe65iqpSmbANUjXz",
      "include_colab_link": true
    },
    "kernelspec": {
      "display_name": "Python 3",
      "name": "python3"
    },
    "language_info": {
      "name": "python"
    }
  },
  "nbformat": 4,
  "nbformat_minor": 0
}