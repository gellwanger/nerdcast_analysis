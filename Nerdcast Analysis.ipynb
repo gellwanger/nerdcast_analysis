{
  "nbformat": 4,
  "nbformat_minor": 0,
  "metadata": {
    "colab": {
      "provenance": [],
      "authorship_tag": "ABX9TyO9YrgV/LzwjEDB9T0+vNmT",
      "include_colab_link": true
    },
    "kernelspec": {
      "name": "python3",
      "display_name": "Python 3"
    },
    "language_info": {
      "name": "python"
    }
  },
  "cells": [
    {
      "cell_type": "markdown",
      "metadata": {
        "id": "view-in-github",
        "colab_type": "text"
      },
      "source": [
        "<a href=\"https://colab.research.google.com/github/gellwanger/nerdcast_analysis/blob/main/Nerdcast%20Analysis.ipynb\" target=\"_parent\"><img src=\"https://colab.research.google.com/assets/colab-badge.svg\" alt=\"Open In Colab\"/></a>"
      ]
    },
    {
      "cell_type": "markdown",
      "metadata": {
        "id": "zg1UHc5wHoO6"
      },
      "source": [
        "## Imports"
      ]
    },
    {
      "cell_type": "code",
      "execution_count": null,
      "metadata": {
        "id": "Q4LWWr9aHl_X"
      },
      "outputs": [],
      "source": [
        "import requests\n",
        "from bs4 import BeautifulSoup as bs\n",
        "import time\n",
        "import pandas as pd\n",
        "import re"
      ]
    },
    {
      "cell_type": "markdown",
      "metadata": {
        "id": "nG9TQJwzHtdH"
      },
      "source": [
        "## Import Selenium\n"
      ]
    },
    {
      "cell_type": "code",
      "execution_count": null,
      "metadata": {
        "id": "q-vW842UHtIp"
      },
      "outputs": [],
      "source": [
        "%%capture\n",
        "\n",
        "!pip install selenium\n",
        "!apt-get update\n",
        "!apt install chromium-chromedriver\n",
        "from selenium import webdriver\n",
        "from selenium.webdriver.common.by import By\n",
        "from selenium.webdriver.support.ui import Select\n",
        "\n",
        "options = webdriver.ChromeOptions()\n",
        "options.add_argument('--headless')\n",
        "options.add_argument('--no-sandbox')\n",
        "options.add_argument('--disable-dev-shm-usage')\n",
        "driver = webdriver.Chrome(options=options)"
      ]
    },
    {
      "cell_type": "markdown",
      "metadata": {
        "id": "6xisLWKjHyfq"
      },
      "source": [
        "## Get API"
      ]
    },
    {
      "cell_type": "code",
      "execution_count": null,
      "metadata": {
        "id": "90m9zU5EH1Xj"
      },
      "outputs": [],
      "source": [
        "url = 'https://jovemnerd.com.br/nerdcast/'\n",
        "\n",
        "get_api = requests.get(url)\n",
        "\n",
        "text = get_api.text"
      ]
    },
    {
      "cell_type": "markdown",
      "metadata": {
        "id": "kAXmmsJyH5ma"
      },
      "source": [
        "## Load Soup"
      ]
    },
    {
      "cell_type": "code",
      "execution_count": null,
      "metadata": {
        "id": "WTKC9DgdH6By"
      },
      "outputs": [],
      "source": [
        "soup = bs(text,  features='html.parser')"
      ]
    },
    {
      "cell_type": "markdown",
      "metadata": {
        "id": "Z5VyMBYgICmc"
      },
      "source": [
        "## Load Selenium"
      ]
    },
    {
      "cell_type": "code",
      "execution_count": null,
      "metadata": {
        "id": "u-7ejD5mIDmB"
      },
      "outputs": [],
      "source": [
        "driver = webdriver.Chrome(options=options)\n",
        "\n",
        "driver.get(url)\n",
        "\n",
        "driver.find_element(By.CLASS_NAME, 'close').click()\n",
        "\n",
        "time.sleep(1)\n",
        "\n",
        "driver.find_element(By.CLASS_NAME, 'text-button-cookie').click()\n",
        "\n",
        "time.sleep(1)"
      ]
    },
    {
      "cell_type": "markdown",
      "metadata": {
        "id": "Xg0UJ9JSILUc"
      },
      "source": [
        "## Load Page"
      ]
    },
    {
      "cell_type": "code",
      "execution_count": null,
      "metadata": {
        "id": "bX9GLiy2IL3R"
      },
      "outputs": [],
      "source": [
        "driver.find_element(By.ID, 'show-more-podcasts').click()\n",
        "\n",
        "time.sleep(5)\n",
        "\n",
        "new_html = driver.page_source\n",
        "\n",
        "soup = bs(new_html, 'html.parser')"
      ]
    },
    {
      "cell_type": "markdown",
      "metadata": {
        "id": "oLN3eO9ZIQOE"
      },
      "source": [
        "## Loop Podcasts"
      ]
    },
    {
      "cell_type": "code",
      "execution_count": null,
      "metadata": {
        "id": "-859bd_1IPtV"
      },
      "outputs": [],
      "source": [
        "list_podcasts = []\n",
        "list_podcasts_titles = []\n",
        "list_podcasts_duration = []\n",
        "\n",
        "i = 0\n",
        "\n",
        "while True:\n",
        "    button = driver.find_element(By.ID, 'show-more-podcasts')\n",
        "    button_text = button.text\n",
        "\n",
        "    get_podcast1 = soup.find_all('a', class_='cat-item product-nerdcast')\n",
        "    temporary_list = [get_podcast1]\n",
        "\n",
        "    if temporary_list[0][-1].text != 'NerdCast 01':\n",
        "      get_podcast_temporary = soup.find_all('a', class_='cat-item product-nerdcast')\n",
        "      temporary_list.append(get_podcast_temporary)\n",
        "\n",
        "      button.click()\n",
        "      time.sleep(5)\n",
        "      new_html = driver.page_source\n",
        "      soup = bs(new_html, 'html.parser')\n",
        "\n",
        "      i += 1\n",
        "      print(f'Iteração {i} - {temporary_list[0][-1].text}')\n",
        "\n",
        "    else:\n",
        "\n",
        "      time.sleep(5)\n",
        "      new_html = driver.page_source\n",
        "      soup = bs(new_html, 'html.parser')\n",
        "\n",
        "      get_podcast = soup.find_all('a', class_='cat-item product-nerdcast')\n",
        "      get_podcast_name = soup.find_all('h2', class_='title')\n",
        "      get_podcast_duration = soup.find_all('div', class_='info')\n",
        "\n",
        "      list_podcasts.extend(get_podcast)\n",
        "      list_podcasts_titles.extend(get_podcast_name)\n",
        "      list_podcasts_duration.extend(get_podcast_duration)\n",
        "\n",
        "      print(f'Coleta concluída, com o arquivo {list_podcasts[-1].text}!')\n",
        "      break"
      ]
    },
    {
      "cell_type": "markdown",
      "metadata": {
        "id": "0zF1R1oRJYdN"
      },
      "source": [
        "### Get Themes and Subjects"
      ]
    },
    {
      "cell_type": "code",
      "execution_count": null,
      "metadata": {
        "id": "TZIOOZf_McHt"
      },
      "outputs": [],
      "source": [
        "list_themes = []\n",
        "get_themes = soup.find('select', class_='nerdcast-filter')\n",
        "\n",
        "for item in get_themes:\n",
        "  theme = item.get_text().strip()\n",
        "\n",
        "  if theme != '':\n",
        "    list_themes.append(theme)\n",
        "\n",
        "list_themes.pop(0)"
      ]
    },
    {
      "cell_type": "code",
      "execution_count": null,
      "metadata": {
        "id": "bDVeSndhMe3A"
      },
      "outputs": [],
      "source": [
        "subjects = []\n",
        "for item in list_themes:\n",
        "  subjects.append([])"
      ]
    },
    {
      "cell_type": "code",
      "execution_count": null,
      "metadata": {
        "id": "N4ydLeDuMgQV"
      },
      "outputs": [],
      "source": [
        "list_podcasts_subject = dict(zip(list_themes, subjects))"
      ]
    },
    {
      "cell_type": "markdown",
      "metadata": {
        "id": "rKZJ3WsIMkGr"
      },
      "source": [
        "### Loop Themes and Subjects"
      ]
    },
    {
      "cell_type": "code",
      "execution_count": null,
      "metadata": {
        "id": "NQybfGzgMk01"
      },
      "outputs": [],
      "source": [
        "i_theme = 1\n",
        "index_theme = 0\n",
        "\n",
        "while len(list_podcasts_subject[list_themes[-1]]) <= 0:\n",
        "  select = driver.find_element(By.CLASS_NAME, 'nerdcast-filter')\n",
        "  choosed = Select(select).select_by_index(i_theme)\n",
        "\n",
        "  button = driver.find_element(By.ID, 'show-more-podcasts')\n",
        "\n",
        "  style_value = button.get_attribute('style')\n",
        "\n",
        "  if style_value == 'display: block;':\n",
        "\n",
        "      button.click()\n",
        "      time.sleep(5)\n",
        "      new_html = driver.page_source\n",
        "      soup = bs(new_html, 'html.parser')\n",
        "\n",
        "  else:\n",
        "    time.sleep(5)\n",
        "    new_html = driver.page_source\n",
        "    soup = bs(new_html, 'html.parser')\n",
        "\n",
        "    get_podcast = soup.find_all('a', class_='cat-item product-nerdcast')\n",
        "\n",
        "    list_podcasts_subject[list_themes[index_theme]] = get_podcast\n",
        "    print(f'{list_themes[index_theme]}: {list_podcasts_subject[list_themes[index_theme]]}')\n",
        "\n",
        "    i_theme += 1\n",
        "    index_theme += 1"
      ]
    },
    {
      "cell_type": "markdown",
      "metadata": {
        "id": "CwFNdk84MneN"
      },
      "source": [
        "### Get text"
      ]
    },
    {
      "cell_type": "code",
      "execution_count": null,
      "metadata": {
        "id": "F1BED_5-Mnlb"
      },
      "outputs": [],
      "source": [
        "for key, value in list_podcasts_subject.items():\n",
        "    names_list = []\n",
        "    for item in value:\n",
        "      this = item['href']\n",
        "      names_list.append(this)\n",
        "      list_podcasts_subject[key] = names_list"
      ]
    },
    {
      "cell_type": "markdown",
      "source": [
        "_____________________________________"
      ],
      "metadata": {
        "id": "Gf8ybinYleL7"
      }
    },
    {
      "cell_type": "markdown",
      "source": [
        "# DataFrame"
      ],
      "metadata": {
        "id": "panmxmdmjnJg"
      }
    },
    {
      "cell_type": "markdown",
      "metadata": {
        "id": "SLvPohpUM0Sd"
      },
      "source": [
        "### df"
      ]
    },
    {
      "cell_type": "code",
      "execution_count": null,
      "metadata": {
        "id": "hoxvCJHtMzxC"
      },
      "outputs": [],
      "source": [
        "df = pd.DataFrame(columns=['Podcast', 'Link'])"
      ]
    },
    {
      "cell_type": "code",
      "execution_count": null,
      "metadata": {
        "id": "jTvbt1ZRM4iZ"
      },
      "outputs": [],
      "source": [
        "for item in list_podcasts:\n",
        "  df.loc[df.shape[0]] = [item.text.strip(), item['href']]"
      ]
    },
    {
      "cell_type": "code",
      "execution_count": null,
      "metadata": {
        "id": "1HN18unhM4lu"
      },
      "outputs": [],
      "source": [
        "df = df[df['Podcast'] != '2011 - 2012 - 2022 - 2023']\n",
        "df = df[df['Podcast'] != '2017 - 2020']\n",
        "df = df[df['Podcast'] != '2013 - 2016']\n",
        "df = df[df['Podcast'] != 'NerdCast 549 Teaser']"
      ]
    },
    {
      "cell_type": "code",
      "execution_count": null,
      "metadata": {
        "id": "yIsTNtZ7M4ox"
      },
      "outputs": [],
      "source": [
        "linhas_duplicadas = df[df.duplicated(keep=False)]"
      ]
    },
    {
      "cell_type": "code",
      "execution_count": null,
      "metadata": {
        "id": "DTvEN765q21A"
      },
      "outputs": [],
      "source": [
        "df = df.drop_duplicates()"
      ]
    },
    {
      "cell_type": "markdown",
      "metadata": {
        "id": "0OgvZNa5zYR_"
      },
      "source": [
        "## Split Podcast and Number"
      ]
    },
    {
      "cell_type": "code",
      "execution_count": null,
      "metadata": {
        "id": "F75XBxWdzXiy"
      },
      "outputs": [],
      "source": [
        "list_of_numbers = []\n",
        "\n",
        "for item in df['Podcast']:\n",
        "\n",
        "  this = any(char.isdigit() for char in item)\n",
        "\n",
        "  if this is False:\n",
        "    item.index\n",
        "    result_string = ''.join(item)\n",
        "\n",
        "    list_of_numbers.append(result_string)\n",
        "\n",
        "  else:\n",
        "    pass"
      ]
    },
    {
      "cell_type": "code",
      "execution_count": null,
      "metadata": {
        "id": "tS0siJ-QzcXr"
      },
      "outputs": [],
      "source": [
        "for item in list_of_numbers:\n",
        "  df = df[df['Podcast'] != item]"
      ]
    },
    {
      "cell_type": "code",
      "execution_count": null,
      "metadata": {
        "id": "5jfOQg2SzccQ"
      },
      "outputs": [],
      "source": [
        "list_text = []\n",
        "\n",
        "for item in df['Podcast']:\n",
        "  this = re.split(r'[0-9]', item)\n",
        "  list_text.extend(this)"
      ]
    },
    {
      "cell_type": "code",
      "execution_count": null,
      "metadata": {
        "id": "reuWW0jKzcfI"
      },
      "outputs": [],
      "source": [
        "list_number = []\n",
        "\n",
        "for item in df['Podcast']:\n",
        "  this = re.split(r'[a-z A-Z á-ú]', item)\n",
        "\n",
        "  list_number.extend(this)"
      ]
    },
    {
      "cell_type": "code",
      "execution_count": null,
      "metadata": {
        "id": "Ky8zU19fzciR"
      },
      "outputs": [],
      "source": [
        "text_new = []\n",
        "\n",
        "for item in list_text:\n",
        "  if len(item) >= 2:\n",
        "    this = item.strip()\n",
        "    text_new.append(this)\n",
        "  else:\n",
        "    pass"
      ]
    },
    {
      "cell_type": "code",
      "execution_count": null,
      "metadata": {
        "id": "x6wtsddxzclS"
      },
      "outputs": [],
      "source": [
        "number_new = []\n",
        "\n",
        "number_new = [item for item in list_number if item != '']"
      ]
    },
    {
      "cell_type": "code",
      "execution_count": null,
      "metadata": {
        "id": "gn3dreE5zi2T"
      },
      "outputs": [],
      "source": [
        "df.insert(2, column = 'Numero', value = 0)"
      ]
    },
    {
      "cell_type": "code",
      "execution_count": null,
      "metadata": {
        "id": "xuUaj42fzi5Y"
      },
      "outputs": [],
      "source": [
        "df['Numero'] = number_new\n",
        "df['Podcast'] = text_new"
      ]
    },
    {
      "cell_type": "code",
      "execution_count": null,
      "metadata": {
        "id": "cvmDAjKfzi74"
      },
      "outputs": [],
      "source": [
        "df.insert(0, 'ID', 1)\n",
        "df['ID'] = range(1, len(df) + 1)"
      ]
    },
    {
      "cell_type": "code",
      "execution_count": null,
      "metadata": {
        "id": "pg5MFTVozi-1"
      },
      "outputs": [],
      "source": [
        "df.head()"
      ]
    },
    {
      "cell_type": "markdown",
      "metadata": {
        "id": "m2r4BfBdF-L0"
      },
      "source": [
        "###df2"
      ]
    },
    {
      "cell_type": "code",
      "execution_count": null,
      "metadata": {
        "id": "PYPlMw3CsivT"
      },
      "outputs": [],
      "source": [
        "df2 = pd.DataFrame(columns=['Assunto', 'Link'])"
      ]
    },
    {
      "cell_type": "code",
      "execution_count": null,
      "metadata": {
        "id": "SCjJCzrksi1v"
      },
      "outputs": [],
      "source": [
        "for item in list_podcasts_titles:\n",
        "  df2.loc[df2.shape[0]] = [item.text.strip(), item.find('a')['href']]"
      ]
    },
    {
      "cell_type": "code",
      "execution_count": null,
      "metadata": {
        "id": "UEg0o_MsmH32"
      },
      "outputs": [],
      "source": [
        "linhas_duplicadas = df2[df2.duplicated(keep=False)]\n",
        "\n",
        "print(linhas_duplicadas)"
      ]
    },
    {
      "cell_type": "code",
      "execution_count": null,
      "metadata": {
        "id": "SaSi_8GPg4ap"
      },
      "outputs": [],
      "source": [
        "df2 = df2.drop_duplicates()"
      ]
    },
    {
      "cell_type": "code",
      "execution_count": null,
      "metadata": {
        "id": "nsFbkrLxmO0H"
      },
      "outputs": [],
      "source": [
        "linhas_duplicadas = df2[df2.duplicated(keep=False)]"
      ]
    },
    {
      "cell_type": "code",
      "execution_count": null,
      "metadata": {
        "id": "q02gMWbaPwHz"
      },
      "outputs": [],
      "source": [
        "df2.insert(0, 'ID', 1)\n",
        "df2['ID'] = range(1, len(df2) + 1)"
      ]
    },
    {
      "cell_type": "code",
      "execution_count": null,
      "metadata": {
        "id": "u5ctf1RCjJx4"
      },
      "outputs": [],
      "source": [
        "df2.head()"
      ]
    },
    {
      "cell_type": "markdown",
      "metadata": {
        "id": "3an776iZGPlN"
      },
      "source": [
        "###df3"
      ]
    },
    {
      "cell_type": "code",
      "execution_count": null,
      "metadata": {
        "id": "fFxeClNBKQ_I"
      },
      "outputs": [],
      "source": [
        "df3 = pd.DataFrame(columns=['Duracao', 'Data_Lancamento', 'Link'])"
      ]
    },
    {
      "cell_type": "code",
      "execution_count": null,
      "metadata": {
        "id": "trSocDK17nJ2"
      },
      "outputs": [],
      "source": [
        "list_duration = []\n",
        "list_launch = []\n",
        "list_link = []\n",
        "\n",
        "for item in list_podcasts_duration:\n",
        "  if item.find('time'):\n",
        "    duracao = item.find('time').get_text().split('•')[0][1:].strip()\n",
        "    list_duration.append(duracao)\n",
        "\n",
        "    data_lancamento = item.find('time').get_text().split('•')[1][1:].strip()\n",
        "    list_launch.append(data_lancamento)\n",
        "\n",
        "    link = item.find('a')['href']\n",
        "    list_link.append(link)"
      ]
    },
    {
      "cell_type": "code",
      "execution_count": null,
      "metadata": {
        "id": "HfOctV-oQVMT"
      },
      "outputs": [],
      "source": [
        "df3['Duracao'] = list_duration\n",
        "df3['Data_Lancamento'] = list_launch\n",
        "df3['Link'] = list_link"
      ]
    },
    {
      "cell_type": "code",
      "execution_count": null,
      "metadata": {
        "id": "QodoGB0HlFol"
      },
      "outputs": [],
      "source": [
        "linhas_duplicadas = df3[df3.duplicated(keep=False)]"
      ]
    },
    {
      "cell_type": "code",
      "execution_count": null,
      "metadata": {
        "id": "DAnAU5lOgvF7"
      },
      "outputs": [],
      "source": [
        "df3 = df3.drop_duplicates()"
      ]
    },
    {
      "cell_type": "code",
      "execution_count": null,
      "metadata": {
        "id": "78_XJ6iQkYkd"
      },
      "outputs": [],
      "source": [
        "linhas_duplicadas = df[df.duplicated(keep=False)]"
      ]
    },
    {
      "cell_type": "code",
      "execution_count": null,
      "metadata": {
        "id": "qZkS-bXrQdPU"
      },
      "outputs": [],
      "source": [
        "df3.head()"
      ]
    },
    {
      "cell_type": "markdown",
      "source": [
        "### df4"
      ],
      "metadata": {
        "id": "Dssh6lvV1qlU"
      }
    },
    {
      "cell_type": "code",
      "source": [
        "df4 = pd.DataFrame(columns = ['Theme', 'Link'])"
      ],
      "metadata": {
        "id": "TJOo1KTY1sbO"
      },
      "execution_count": null,
      "outputs": []
    },
    {
      "cell_type": "code",
      "source": [
        "podcast_href_themes = []\n",
        "\n",
        "for key, value in list_podcasts_subject.items():\n",
        "  for item in value:\n",
        "    podcast_href_themes.append((key, item))\n",
        "print(podcast_href_themes)"
      ],
      "metadata": {
        "id": "qh3bbXhF_UXB"
      },
      "execution_count": null,
      "outputs": []
    },
    {
      "cell_type": "code",
      "source": [
        "%%capture\n",
        "\n",
        "for item in podcast_href_themes:\n",
        "    df4 = df4.append({'Theme': item[0], 'Link': item[1]}, ignore_index=True)"
      ],
      "metadata": {
        "id": "UwEtiJZ-1vbg"
      },
      "execution_count": null,
      "outputs": []
    },
    {
      "cell_type": "code",
      "source": [
        "df4[30:60]"
      ],
      "metadata": {
        "id": "RvtIkuRf1xtk"
      },
      "execution_count": null,
      "outputs": []
    },
    {
      "cell_type": "code",
      "source": [
        "output_file = \"dados_coletados.csv\"\n",
        "\n",
        "df.to_csv(output_file, index=False)"
      ],
      "metadata": {
        "id": "QkwPsEkYoh62"
      },
      "execution_count": null,
      "outputs": []
    },
    {
      "cell_type": "code",
      "execution_count": null,
      "metadata": {
        "id": "VGc_SHwml-Ev"
      },
      "outputs": [],
      "source": [
        "output_file = \"dados_coletados2.csv\"\n",
        "\n",
        "df2.to_csv(output_file, index=False)"
      ]
    },
    {
      "cell_type": "code",
      "execution_count": null,
      "metadata": {
        "id": "DHGLKgvIl-Jb"
      },
      "outputs": [],
      "source": [
        "output_file = \"dados_coletados3.csv\"\n",
        "\n",
        "df3.to_csv(output_file, index=False)"
      ]
    },
    {
      "cell_type": "code",
      "source": [
        "output_file = \"dados_coletados4.csv\"\n",
        "\n",
        "df4.to_csv(output_file, index=False)"
      ],
      "metadata": {
        "id": "Q0Y4Hcs_10bA"
      },
      "execution_count": null,
      "outputs": []
    }
  ]
}